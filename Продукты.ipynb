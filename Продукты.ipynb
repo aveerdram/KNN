{
  "nbformat": 4,
  "nbformat_minor": 0,
  "metadata": {
    "colab": {
      "provenance": [],
      "authorship_tag": "ABX9TyPdEN3qZrlW8aFMZn6yasiV",
      "include_colab_link": true
    },
    "kernelspec": {
      "name": "python3",
      "display_name": "Python 3"
    },
    "language_info": {
      "name": "python"
    }
  },
  "cells": [
    {
      "cell_type": "markdown",
      "metadata": {
        "id": "view-in-github",
        "colab_type": "text"
      },
      "source": [
        "<a href=\"https://colab.research.google.com/github/aveerdram/KNN/blob/main/%D0%9F%D1%80%D0%BE%D0%B4%D1%83%D0%BA%D1%82%D1%8B.ipynb\" target=\"_parent\"><img src=\"https://colab.research.google.com/assets/colab-badge.svg\" alt=\"Open In Colab\"/></a>"
      ]
    },
    {
      "cell_type": "code",
      "source": [
        "import pandas as pd\n",
        "import numpy as np\n",
        "import seaborn as sns\n",
        "import matplotlib.pyplot as plt\n",
        "\n",
        "df = pd.read_excel('ABBREV_with_CLASS.xlsx')\n",
        "\n",
        "df"
      ],
      "metadata": {
        "id": "pmhJIBMuUy_o",
        "colab": {
          "base_uri": "https://localhost:8080/",
          "height": 617
        },
        "outputId": "ee2096b0-36d0-4eab-b810-de8a8c3ac957"
      },
      "execution_count": null,
      "outputs": [
        {
          "output_type": "execute_result",
          "data": {
            "text/plain": [
              "      Unnamed: 0  NDB_No                   Shrt_Desc  Water_(g)  Energ_Kcal  \\\n",
              "0              0    1001            BUTTER,WITH SALT      15.87         717   \n",
              "1              1    1002      BUTTER,WHIPPED,W/ SALT      16.72         718   \n",
              "2              2    1003        BUTTER OIL,ANHYDROUS       0.24         876   \n",
              "3              3    1004                 CHEESE,BLUE      42.41         353   \n",
              "4              4    1005                CHEESE,BRICK      41.11         371   \n",
              "...          ...     ...                         ...        ...         ...   \n",
              "8785        8785   83110             MACKEREL,SALTED      43.00         305   \n",
              "8786        8786   90240  SCALLOP,(BAY&SEA),CKD,STMD      70.25         111   \n",
              "8787        8787   90480                  SYRUP,CANE      26.00         269   \n",
              "8788        8788   90560                   SNAIL,RAW      79.20          90   \n",
              "8789        8789   93600            TURTLE,GREEN,RAW      78.50          89   \n",
              "\n",
              "      Protein_(g)  Lipid_Tot_(g)  Ash_(g)  Carbohydrt_(g)  Fiber_TD_(g)  ...  \\\n",
              "0            0.85          81.11     2.11            0.06           0.0  ...   \n",
              "1            0.49          78.30     1.62            2.87           0.0  ...   \n",
              "2            0.28          99.48     0.00            0.00           0.0  ...   \n",
              "3           21.40          28.74     5.11            2.34           0.0  ...   \n",
              "4           23.24          29.68     3.18            2.79           0.0  ...   \n",
              "...           ...            ...      ...             ...           ...  ...   \n",
              "8785        18.50          25.10    13.40            0.00           0.0  ...   \n",
              "8786        20.54           0.84     2.97            5.41           0.0  ...   \n",
              "8787         0.00           0.00     0.86           73.14           0.0  ...   \n",
              "8788        16.10           1.40     1.30            2.00           0.0  ...   \n",
              "8789        19.80           0.50     1.20            0.00           0.0  ...   \n",
              "\n",
              "      FA_Sat_(g)  FA_Mono_(g)  FA_Poly_(g)  Cholestrl_(mg)  GmWt_1  \\\n",
              "0         51.368       21.021        3.043           215.0    5.00   \n",
              "1         45.390       19.874        3.331           225.0    3.80   \n",
              "2         61.924       28.732        3.694           256.0   12.80   \n",
              "3         18.669        7.778        0.800            75.0   28.35   \n",
              "4         18.764        8.598        0.784            94.0  132.00   \n",
              "...          ...          ...          ...             ...     ...   \n",
              "8785       7.148        8.320        6.210            95.0   80.00   \n",
              "8786       0.218        0.082        0.222            41.0   85.00   \n",
              "8787       0.000        0.000        0.000             0.0   21.00   \n",
              "8788       0.361        0.259        0.252            50.0   85.00   \n",
              "8789       0.127        0.088        0.170            50.0   85.00   \n",
              "\n",
              "                              GmWt_Desc1  GmWt_2              GmWt_Desc2  \\\n",
              "0             1 pat,  (1\" sq, 1/3\" high)    14.2                  1 tbsp   \n",
              "1             1 pat,  (1\" sq, 1/3\" high)     9.4                  1 tbsp   \n",
              "2                                 1 tbsp   205.0                   1 cup   \n",
              "3                                   1 oz    17.0            1 cubic inch   \n",
              "4                           1 cup, diced   113.0         1 cup, shredded   \n",
              "...                                  ...     ...                     ...   \n",
              "8785  1 piece,  (5-1/2\" x 1-1/2\" x 1/2\")    17.0  1 cubic inch, boneless   \n",
              "8786                                3 oz     NaN                     NaN   \n",
              "8787                           1 serving     NaN                     NaN   \n",
              "8788                                3 oz     NaN                     NaN   \n",
              "8789                                3 oz     NaN                     NaN   \n",
              "\n",
              "      Refuse_Pct  CLASS  \n",
              "0            0.0     10  \n",
              "1            0.0     10  \n",
              "2            0.0      0  \n",
              "3            0.0     10  \n",
              "4            0.0     10  \n",
              "...          ...    ...  \n",
              "8785         0.0      0  \n",
              "8786         0.0      0  \n",
              "8787         0.0     10  \n",
              "8788         0.0      0  \n",
              "8789         0.0      0  \n",
              "\n",
              "[8790 rows x 55 columns]"
            ],
            "text/html": [
              "\n",
              "  <div id=\"df-a6ddee2c-3efa-4add-8c00-9948435b9044\" class=\"colab-df-container\">\n",
              "    <div>\n",
              "<style scoped>\n",
              "    .dataframe tbody tr th:only-of-type {\n",
              "        vertical-align: middle;\n",
              "    }\n",
              "\n",
              "    .dataframe tbody tr th {\n",
              "        vertical-align: top;\n",
              "    }\n",
              "\n",
              "    .dataframe thead th {\n",
              "        text-align: right;\n",
              "    }\n",
              "</style>\n",
              "<table border=\"1\" class=\"dataframe\">\n",
              "  <thead>\n",
              "    <tr style=\"text-align: right;\">\n",
              "      <th></th>\n",
              "      <th>Unnamed: 0</th>\n",
              "      <th>NDB_No</th>\n",
              "      <th>Shrt_Desc</th>\n",
              "      <th>Water_(g)</th>\n",
              "      <th>Energ_Kcal</th>\n",
              "      <th>Protein_(g)</th>\n",
              "      <th>Lipid_Tot_(g)</th>\n",
              "      <th>Ash_(g)</th>\n",
              "      <th>Carbohydrt_(g)</th>\n",
              "      <th>Fiber_TD_(g)</th>\n",
              "      <th>...</th>\n",
              "      <th>FA_Sat_(g)</th>\n",
              "      <th>FA_Mono_(g)</th>\n",
              "      <th>FA_Poly_(g)</th>\n",
              "      <th>Cholestrl_(mg)</th>\n",
              "      <th>GmWt_1</th>\n",
              "      <th>GmWt_Desc1</th>\n",
              "      <th>GmWt_2</th>\n",
              "      <th>GmWt_Desc2</th>\n",
              "      <th>Refuse_Pct</th>\n",
              "      <th>CLASS</th>\n",
              "    </tr>\n",
              "  </thead>\n",
              "  <tbody>\n",
              "    <tr>\n",
              "      <th>0</th>\n",
              "      <td>0</td>\n",
              "      <td>1001</td>\n",
              "      <td>BUTTER,WITH SALT</td>\n",
              "      <td>15.87</td>\n",
              "      <td>717</td>\n",
              "      <td>0.85</td>\n",
              "      <td>81.11</td>\n",
              "      <td>2.11</td>\n",
              "      <td>0.06</td>\n",
              "      <td>0.0</td>\n",
              "      <td>...</td>\n",
              "      <td>51.368</td>\n",
              "      <td>21.021</td>\n",
              "      <td>3.043</td>\n",
              "      <td>215.0</td>\n",
              "      <td>5.00</td>\n",
              "      <td>1 pat,  (1\" sq, 1/3\" high)</td>\n",
              "      <td>14.2</td>\n",
              "      <td>1 tbsp</td>\n",
              "      <td>0.0</td>\n",
              "      <td>10</td>\n",
              "    </tr>\n",
              "    <tr>\n",
              "      <th>1</th>\n",
              "      <td>1</td>\n",
              "      <td>1002</td>\n",
              "      <td>BUTTER,WHIPPED,W/ SALT</td>\n",
              "      <td>16.72</td>\n",
              "      <td>718</td>\n",
              "      <td>0.49</td>\n",
              "      <td>78.30</td>\n",
              "      <td>1.62</td>\n",
              "      <td>2.87</td>\n",
              "      <td>0.0</td>\n",
              "      <td>...</td>\n",
              "      <td>45.390</td>\n",
              "      <td>19.874</td>\n",
              "      <td>3.331</td>\n",
              "      <td>225.0</td>\n",
              "      <td>3.80</td>\n",
              "      <td>1 pat,  (1\" sq, 1/3\" high)</td>\n",
              "      <td>9.4</td>\n",
              "      <td>1 tbsp</td>\n",
              "      <td>0.0</td>\n",
              "      <td>10</td>\n",
              "    </tr>\n",
              "    <tr>\n",
              "      <th>2</th>\n",
              "      <td>2</td>\n",
              "      <td>1003</td>\n",
              "      <td>BUTTER OIL,ANHYDROUS</td>\n",
              "      <td>0.24</td>\n",
              "      <td>876</td>\n",
              "      <td>0.28</td>\n",
              "      <td>99.48</td>\n",
              "      <td>0.00</td>\n",
              "      <td>0.00</td>\n",
              "      <td>0.0</td>\n",
              "      <td>...</td>\n",
              "      <td>61.924</td>\n",
              "      <td>28.732</td>\n",
              "      <td>3.694</td>\n",
              "      <td>256.0</td>\n",
              "      <td>12.80</td>\n",
              "      <td>1 tbsp</td>\n",
              "      <td>205.0</td>\n",
              "      <td>1 cup</td>\n",
              "      <td>0.0</td>\n",
              "      <td>0</td>\n",
              "    </tr>\n",
              "    <tr>\n",
              "      <th>3</th>\n",
              "      <td>3</td>\n",
              "      <td>1004</td>\n",
              "      <td>CHEESE,BLUE</td>\n",
              "      <td>42.41</td>\n",
              "      <td>353</td>\n",
              "      <td>21.40</td>\n",
              "      <td>28.74</td>\n",
              "      <td>5.11</td>\n",
              "      <td>2.34</td>\n",
              "      <td>0.0</td>\n",
              "      <td>...</td>\n",
              "      <td>18.669</td>\n",
              "      <td>7.778</td>\n",
              "      <td>0.800</td>\n",
              "      <td>75.0</td>\n",
              "      <td>28.35</td>\n",
              "      <td>1 oz</td>\n",
              "      <td>17.0</td>\n",
              "      <td>1 cubic inch</td>\n",
              "      <td>0.0</td>\n",
              "      <td>10</td>\n",
              "    </tr>\n",
              "    <tr>\n",
              "      <th>4</th>\n",
              "      <td>4</td>\n",
              "      <td>1005</td>\n",
              "      <td>CHEESE,BRICK</td>\n",
              "      <td>41.11</td>\n",
              "      <td>371</td>\n",
              "      <td>23.24</td>\n",
              "      <td>29.68</td>\n",
              "      <td>3.18</td>\n",
              "      <td>2.79</td>\n",
              "      <td>0.0</td>\n",
              "      <td>...</td>\n",
              "      <td>18.764</td>\n",
              "      <td>8.598</td>\n",
              "      <td>0.784</td>\n",
              "      <td>94.0</td>\n",
              "      <td>132.00</td>\n",
              "      <td>1 cup, diced</td>\n",
              "      <td>113.0</td>\n",
              "      <td>1 cup, shredded</td>\n",
              "      <td>0.0</td>\n",
              "      <td>10</td>\n",
              "    </tr>\n",
              "    <tr>\n",
              "      <th>...</th>\n",
              "      <td>...</td>\n",
              "      <td>...</td>\n",
              "      <td>...</td>\n",
              "      <td>...</td>\n",
              "      <td>...</td>\n",
              "      <td>...</td>\n",
              "      <td>...</td>\n",
              "      <td>...</td>\n",
              "      <td>...</td>\n",
              "      <td>...</td>\n",
              "      <td>...</td>\n",
              "      <td>...</td>\n",
              "      <td>...</td>\n",
              "      <td>...</td>\n",
              "      <td>...</td>\n",
              "      <td>...</td>\n",
              "      <td>...</td>\n",
              "      <td>...</td>\n",
              "      <td>...</td>\n",
              "      <td>...</td>\n",
              "      <td>...</td>\n",
              "    </tr>\n",
              "    <tr>\n",
              "      <th>8785</th>\n",
              "      <td>8785</td>\n",
              "      <td>83110</td>\n",
              "      <td>MACKEREL,SALTED</td>\n",
              "      <td>43.00</td>\n",
              "      <td>305</td>\n",
              "      <td>18.50</td>\n",
              "      <td>25.10</td>\n",
              "      <td>13.40</td>\n",
              "      <td>0.00</td>\n",
              "      <td>0.0</td>\n",
              "      <td>...</td>\n",
              "      <td>7.148</td>\n",
              "      <td>8.320</td>\n",
              "      <td>6.210</td>\n",
              "      <td>95.0</td>\n",
              "      <td>80.00</td>\n",
              "      <td>1 piece,  (5-1/2\" x 1-1/2\" x 1/2\")</td>\n",
              "      <td>17.0</td>\n",
              "      <td>1 cubic inch, boneless</td>\n",
              "      <td>0.0</td>\n",
              "      <td>0</td>\n",
              "    </tr>\n",
              "    <tr>\n",
              "      <th>8786</th>\n",
              "      <td>8786</td>\n",
              "      <td>90240</td>\n",
              "      <td>SCALLOP,(BAY&amp;SEA),CKD,STMD</td>\n",
              "      <td>70.25</td>\n",
              "      <td>111</td>\n",
              "      <td>20.54</td>\n",
              "      <td>0.84</td>\n",
              "      <td>2.97</td>\n",
              "      <td>5.41</td>\n",
              "      <td>0.0</td>\n",
              "      <td>...</td>\n",
              "      <td>0.218</td>\n",
              "      <td>0.082</td>\n",
              "      <td>0.222</td>\n",
              "      <td>41.0</td>\n",
              "      <td>85.00</td>\n",
              "      <td>3 oz</td>\n",
              "      <td>NaN</td>\n",
              "      <td>NaN</td>\n",
              "      <td>0.0</td>\n",
              "      <td>0</td>\n",
              "    </tr>\n",
              "    <tr>\n",
              "      <th>8787</th>\n",
              "      <td>8787</td>\n",
              "      <td>90480</td>\n",
              "      <td>SYRUP,CANE</td>\n",
              "      <td>26.00</td>\n",
              "      <td>269</td>\n",
              "      <td>0.00</td>\n",
              "      <td>0.00</td>\n",
              "      <td>0.86</td>\n",
              "      <td>73.14</td>\n",
              "      <td>0.0</td>\n",
              "      <td>...</td>\n",
              "      <td>0.000</td>\n",
              "      <td>0.000</td>\n",
              "      <td>0.000</td>\n",
              "      <td>0.0</td>\n",
              "      <td>21.00</td>\n",
              "      <td>1 serving</td>\n",
              "      <td>NaN</td>\n",
              "      <td>NaN</td>\n",
              "      <td>0.0</td>\n",
              "      <td>10</td>\n",
              "    </tr>\n",
              "    <tr>\n",
              "      <th>8788</th>\n",
              "      <td>8788</td>\n",
              "      <td>90560</td>\n",
              "      <td>SNAIL,RAW</td>\n",
              "      <td>79.20</td>\n",
              "      <td>90</td>\n",
              "      <td>16.10</td>\n",
              "      <td>1.40</td>\n",
              "      <td>1.30</td>\n",
              "      <td>2.00</td>\n",
              "      <td>0.0</td>\n",
              "      <td>...</td>\n",
              "      <td>0.361</td>\n",
              "      <td>0.259</td>\n",
              "      <td>0.252</td>\n",
              "      <td>50.0</td>\n",
              "      <td>85.00</td>\n",
              "      <td>3 oz</td>\n",
              "      <td>NaN</td>\n",
              "      <td>NaN</td>\n",
              "      <td>0.0</td>\n",
              "      <td>0</td>\n",
              "    </tr>\n",
              "    <tr>\n",
              "      <th>8789</th>\n",
              "      <td>8789</td>\n",
              "      <td>93600</td>\n",
              "      <td>TURTLE,GREEN,RAW</td>\n",
              "      <td>78.50</td>\n",
              "      <td>89</td>\n",
              "      <td>19.80</td>\n",
              "      <td>0.50</td>\n",
              "      <td>1.20</td>\n",
              "      <td>0.00</td>\n",
              "      <td>0.0</td>\n",
              "      <td>...</td>\n",
              "      <td>0.127</td>\n",
              "      <td>0.088</td>\n",
              "      <td>0.170</td>\n",
              "      <td>50.0</td>\n",
              "      <td>85.00</td>\n",
              "      <td>3 oz</td>\n",
              "      <td>NaN</td>\n",
              "      <td>NaN</td>\n",
              "      <td>0.0</td>\n",
              "      <td>0</td>\n",
              "    </tr>\n",
              "  </tbody>\n",
              "</table>\n",
              "<p>8790 rows × 55 columns</p>\n",
              "</div>\n",
              "    <div class=\"colab-df-buttons\">\n",
              "\n",
              "  <div class=\"colab-df-container\">\n",
              "    <button class=\"colab-df-convert\" onclick=\"convertToInteractive('df-a6ddee2c-3efa-4add-8c00-9948435b9044')\"\n",
              "            title=\"Convert this dataframe to an interactive table.\"\n",
              "            style=\"display:none;\">\n",
              "\n",
              "  <svg xmlns=\"http://www.w3.org/2000/svg\" height=\"24px\" viewBox=\"0 -960 960 960\">\n",
              "    <path d=\"M120-120v-720h720v720H120Zm60-500h600v-160H180v160Zm220 220h160v-160H400v160Zm0 220h160v-160H400v160ZM180-400h160v-160H180v160Zm440 0h160v-160H620v160ZM180-180h160v-160H180v160Zm440 0h160v-160H620v160Z\"/>\n",
              "  </svg>\n",
              "    </button>\n",
              "\n",
              "  <style>\n",
              "    .colab-df-container {\n",
              "      display:flex;\n",
              "      gap: 12px;\n",
              "    }\n",
              "\n",
              "    .colab-df-convert {\n",
              "      background-color: #E8F0FE;\n",
              "      border: none;\n",
              "      border-radius: 50%;\n",
              "      cursor: pointer;\n",
              "      display: none;\n",
              "      fill: #1967D2;\n",
              "      height: 32px;\n",
              "      padding: 0 0 0 0;\n",
              "      width: 32px;\n",
              "    }\n",
              "\n",
              "    .colab-df-convert:hover {\n",
              "      background-color: #E2EBFA;\n",
              "      box-shadow: 0px 1px 2px rgba(60, 64, 67, 0.3), 0px 1px 3px 1px rgba(60, 64, 67, 0.15);\n",
              "      fill: #174EA6;\n",
              "    }\n",
              "\n",
              "    .colab-df-buttons div {\n",
              "      margin-bottom: 4px;\n",
              "    }\n",
              "\n",
              "    [theme=dark] .colab-df-convert {\n",
              "      background-color: #3B4455;\n",
              "      fill: #D2E3FC;\n",
              "    }\n",
              "\n",
              "    [theme=dark] .colab-df-convert:hover {\n",
              "      background-color: #434B5C;\n",
              "      box-shadow: 0px 1px 3px 1px rgba(0, 0, 0, 0.15);\n",
              "      filter: drop-shadow(0px 1px 2px rgba(0, 0, 0, 0.3));\n",
              "      fill: #FFFFFF;\n",
              "    }\n",
              "  </style>\n",
              "\n",
              "    <script>\n",
              "      const buttonEl =\n",
              "        document.querySelector('#df-a6ddee2c-3efa-4add-8c00-9948435b9044 button.colab-df-convert');\n",
              "      buttonEl.style.display =\n",
              "        google.colab.kernel.accessAllowed ? 'block' : 'none';\n",
              "\n",
              "      async function convertToInteractive(key) {\n",
              "        const element = document.querySelector('#df-a6ddee2c-3efa-4add-8c00-9948435b9044');\n",
              "        const dataTable =\n",
              "          await google.colab.kernel.invokeFunction('convertToInteractive',\n",
              "                                                    [key], {});\n",
              "        if (!dataTable) return;\n",
              "\n",
              "        const docLinkHtml = 'Like what you see? Visit the ' +\n",
              "          '<a target=\"_blank\" href=https://colab.research.google.com/notebooks/data_table.ipynb>data table notebook</a>'\n",
              "          + ' to learn more about interactive tables.';\n",
              "        element.innerHTML = '';\n",
              "        dataTable['output_type'] = 'display_data';\n",
              "        await google.colab.output.renderOutput(dataTable, element);\n",
              "        const docLink = document.createElement('div');\n",
              "        docLink.innerHTML = docLinkHtml;\n",
              "        element.appendChild(docLink);\n",
              "      }\n",
              "    </script>\n",
              "  </div>\n",
              "\n",
              "\n",
              "<div id=\"df-3107aab5-8d11-4830-9c5a-7404d7c0c1b7\">\n",
              "  <button class=\"colab-df-quickchart\" onclick=\"quickchart('df-3107aab5-8d11-4830-9c5a-7404d7c0c1b7')\"\n",
              "            title=\"Suggest charts\"\n",
              "            style=\"display:none;\">\n",
              "\n",
              "<svg xmlns=\"http://www.w3.org/2000/svg\" height=\"24px\"viewBox=\"0 0 24 24\"\n",
              "     width=\"24px\">\n",
              "    <g>\n",
              "        <path d=\"M19 3H5c-1.1 0-2 .9-2 2v14c0 1.1.9 2 2 2h14c1.1 0 2-.9 2-2V5c0-1.1-.9-2-2-2zM9 17H7v-7h2v7zm4 0h-2V7h2v10zm4 0h-2v-4h2v4z\"/>\n",
              "    </g>\n",
              "</svg>\n",
              "  </button>\n",
              "\n",
              "<style>\n",
              "  .colab-df-quickchart {\n",
              "      --bg-color: #E8F0FE;\n",
              "      --fill-color: #1967D2;\n",
              "      --hover-bg-color: #E2EBFA;\n",
              "      --hover-fill-color: #174EA6;\n",
              "      --disabled-fill-color: #AAA;\n",
              "      --disabled-bg-color: #DDD;\n",
              "  }\n",
              "\n",
              "  [theme=dark] .colab-df-quickchart {\n",
              "      --bg-color: #3B4455;\n",
              "      --fill-color: #D2E3FC;\n",
              "      --hover-bg-color: #434B5C;\n",
              "      --hover-fill-color: #FFFFFF;\n",
              "      --disabled-bg-color: #3B4455;\n",
              "      --disabled-fill-color: #666;\n",
              "  }\n",
              "\n",
              "  .colab-df-quickchart {\n",
              "    background-color: var(--bg-color);\n",
              "    border: none;\n",
              "    border-radius: 50%;\n",
              "    cursor: pointer;\n",
              "    display: none;\n",
              "    fill: var(--fill-color);\n",
              "    height: 32px;\n",
              "    padding: 0;\n",
              "    width: 32px;\n",
              "  }\n",
              "\n",
              "  .colab-df-quickchart:hover {\n",
              "    background-color: var(--hover-bg-color);\n",
              "    box-shadow: 0 1px 2px rgba(60, 64, 67, 0.3), 0 1px 3px 1px rgba(60, 64, 67, 0.15);\n",
              "    fill: var(--button-hover-fill-color);\n",
              "  }\n",
              "\n",
              "  .colab-df-quickchart-complete:disabled,\n",
              "  .colab-df-quickchart-complete:disabled:hover {\n",
              "    background-color: var(--disabled-bg-color);\n",
              "    fill: var(--disabled-fill-color);\n",
              "    box-shadow: none;\n",
              "  }\n",
              "\n",
              "  .colab-df-spinner {\n",
              "    border: 2px solid var(--fill-color);\n",
              "    border-color: transparent;\n",
              "    border-bottom-color: var(--fill-color);\n",
              "    animation:\n",
              "      spin 1s steps(1) infinite;\n",
              "  }\n",
              "\n",
              "  @keyframes spin {\n",
              "    0% {\n",
              "      border-color: transparent;\n",
              "      border-bottom-color: var(--fill-color);\n",
              "      border-left-color: var(--fill-color);\n",
              "    }\n",
              "    20% {\n",
              "      border-color: transparent;\n",
              "      border-left-color: var(--fill-color);\n",
              "      border-top-color: var(--fill-color);\n",
              "    }\n",
              "    30% {\n",
              "      border-color: transparent;\n",
              "      border-left-color: var(--fill-color);\n",
              "      border-top-color: var(--fill-color);\n",
              "      border-right-color: var(--fill-color);\n",
              "    }\n",
              "    40% {\n",
              "      border-color: transparent;\n",
              "      border-right-color: var(--fill-color);\n",
              "      border-top-color: var(--fill-color);\n",
              "    }\n",
              "    60% {\n",
              "      border-color: transparent;\n",
              "      border-right-color: var(--fill-color);\n",
              "    }\n",
              "    80% {\n",
              "      border-color: transparent;\n",
              "      border-right-color: var(--fill-color);\n",
              "      border-bottom-color: var(--fill-color);\n",
              "    }\n",
              "    90% {\n",
              "      border-color: transparent;\n",
              "      border-bottom-color: var(--fill-color);\n",
              "    }\n",
              "  }\n",
              "</style>\n",
              "\n",
              "  <script>\n",
              "    async function quickchart(key) {\n",
              "      const quickchartButtonEl =\n",
              "        document.querySelector('#' + key + ' button');\n",
              "      quickchartButtonEl.disabled = true;  // To prevent multiple clicks.\n",
              "      quickchartButtonEl.classList.add('colab-df-spinner');\n",
              "      try {\n",
              "        const charts = await google.colab.kernel.invokeFunction(\n",
              "            'suggestCharts', [key], {});\n",
              "      } catch (error) {\n",
              "        console.error('Error during call to suggestCharts:', error);\n",
              "      }\n",
              "      quickchartButtonEl.classList.remove('colab-df-spinner');\n",
              "      quickchartButtonEl.classList.add('colab-df-quickchart-complete');\n",
              "    }\n",
              "    (() => {\n",
              "      let quickchartButtonEl =\n",
              "        document.querySelector('#df-3107aab5-8d11-4830-9c5a-7404d7c0c1b7 button');\n",
              "      quickchartButtonEl.style.display =\n",
              "        google.colab.kernel.accessAllowed ? 'block' : 'none';\n",
              "    })();\n",
              "  </script>\n",
              "</div>\n",
              "    </div>\n",
              "  </div>\n"
            ],
            "application/vnd.google.colaboratory.intrinsic+json": {
              "type": "dataframe",
              "variable_name": "df"
            }
          },
          "metadata": {},
          "execution_count": 3
        }
      ]
    },
    {
      "cell_type": "code",
      "source": [
        "pd.set_option('display.max_columns', None)"
      ],
      "metadata": {
        "id": "TAy3dxeSWkPy"
      },
      "execution_count": null,
      "outputs": []
    },
    {
      "cell_type": "code",
      "source": [
        "df.describe()"
      ],
      "metadata": {
        "id": "ajQH3ePCXKXw",
        "colab": {
          "base_uri": "https://localhost:8080/",
          "height": 337
        },
        "outputId": "c1f81708-e33b-4db6-f678-58c4f73d1856"
      },
      "execution_count": null,
      "outputs": [
        {
          "output_type": "execute_result",
          "data": {
            "text/plain": [
              "        Unnamed: 0        NDB_No    Water_(g)   Energ_Kcal  Protein_(g)  \\\n",
              "count  8790.000000   8790.000000  8789.000000  8790.000000  8790.000000   \n",
              "mean   4394.500000  15663.495222    54.112218   226.317634    11.342849   \n",
              "std    2537.598767   9251.413586    30.772854   169.877539    10.530474   \n",
              "min       0.000000   1001.000000     0.000000     0.000000     0.000000   \n",
              "25%    2197.250000   9086.250000    29.700000    91.000000     2.380000   \n",
              "50%    4394.500000  14427.500000    63.080000   191.000000     8.000000   \n",
              "75%    6591.750000  20142.750000    77.960000   337.000000    19.880000   \n",
              "max    8789.000000  93600.000000   100.000000   902.000000    88.320000   \n",
              "\n",
              "       Lipid_Tot_(g)      Ash_(g)  Carbohydrt_(g)  Fiber_TD_(g)  \\\n",
              "count    8790.000000  8465.000000     8790.000000   8196.000000   \n",
              "mean       10.553725     1.783468       22.127710      2.187445   \n",
              "std        15.814842     3.004609       27.270822      4.383138   \n",
              "min         0.000000     0.000000        0.000000      0.000000   \n",
              "25%         0.950000     0.840000        0.050000      0.000000   \n",
              "50%         5.140000     1.200000        9.340000      0.700000   \n",
              "75%        13.720000     2.090000       34.910000      2.600000   \n",
              "max       100.000000    99.800000      100.000000     79.000000   \n",
              "\n",
              "       Sugar_Tot_(g)  Calcium_(mg)    Iron_(mg)  Magnesium_(mg)  \\\n",
              "count    6958.000000   8442.000000  8646.000000     8051.000000   \n",
              "mean        8.543066     76.738214     2.699674       35.295988   \n",
              "std        14.923626    203.527453     5.687560       57.416785   \n",
              "min         0.000000      0.000000     0.000000        0.000000   \n",
              "25%         0.000000     10.000000     0.540000       12.000000   \n",
              "50%         1.840000     21.000000     1.380000       21.000000   \n",
              "75%         9.287500     69.000000     2.600000       30.000000   \n",
              "max        99.800000   7364.000000   123.600000      781.000000   \n",
              "\n",
              "       Phosphorus_(mg)  Potassium_(mg)   Sodium_(mg)    Zinc_(mg)  \\\n",
              "count      8211.000000     8364.000000   8707.000000  8084.000000   \n",
              "mean        165.142126      279.472740    312.495923     2.117438   \n",
              "std         204.704214      375.483729    943.431341     3.437209   \n",
              "min           0.000000        0.000000      0.000000     0.000000   \n",
              "25%          51.000000      127.000000     41.000000     0.340000   \n",
              "50%         145.000000      229.500000     88.000000     0.990000   \n",
              "75%         220.000000      336.000000    404.500000     2.920000   \n",
              "max        9918.000000    16500.000000  38758.000000    90.950000   \n",
              "\n",
              "        Copper_mg)  Manganese_(mg)  Selenium_(µg)   Vit_C_(mg)  Thiamin_(mg)  \\\n",
              "count  7533.000000     6630.000000    7090.000000  7972.000000   8156.000000   \n",
              "mean      0.195984        0.658156      15.591016     9.231134      0.223134   \n",
              "std       0.582596        7.248609      30.471099    68.854696      0.523752   \n",
              "min       0.000000        0.000000       0.000000     0.000000      0.000000   \n",
              "25%       0.052000        0.015000       1.300000     0.000000      0.040000   \n",
              "50%       0.090000        0.082000      10.100000     0.000000      0.084000   \n",
              "75%       0.160000        0.326000      24.300000     3.500000      0.250000   \n",
              "max      15.050000      328.000000    1917.000000  2732.000000     23.375000   \n",
              "\n",
              "       Riboflavin_(mg)  Niacin_(mg)  Panto_Acid_mg)  Vit_B6_(mg)  \\\n",
              "count      8174.000000  8153.000000     6548.000000  7885.000000   \n",
              "mean          0.252237     3.657721        0.650989     0.291531   \n",
              "std           0.449461     4.823819        1.413303     0.485057   \n",
              "min           0.000000     0.000000        0.000000     0.000000   \n",
              "25%           0.063000     0.552000        0.195000     0.051000   \n",
              "50%           0.170000     2.580000        0.435000     0.150000   \n",
              "75%           0.270000     5.276000        0.732250     0.390000   \n",
              "max          17.500000   127.500000       34.500000    12.000000   \n",
              "\n",
              "       Folate_Tot_(µg)  Folic_Acid_(µg)  Food_Folate_(µg)  Folate_DFE_(µg)  \\\n",
              "count      7529.000000      6751.000000       7022.000000      6733.000000   \n",
              "mean         51.598220        23.169012         24.556109        64.275806   \n",
              "std         136.601781       114.513700         62.386069       207.360765   \n",
              "min           0.000000         0.000000          0.000000         0.000000   \n",
              "25%           5.000000         0.000000          4.000000         4.000000   \n",
              "50%          12.000000         0.000000          9.000000        11.000000   \n",
              "75%          46.000000         0.000000         21.000000        41.000000   \n",
              "max        3786.000000      2993.000000       2340.000000      5881.000000   \n",
              "\n",
              "       Choline_Tot_ (mg)  Vit_B12_(µg)       Vit_A_IU     Vit_A_RAE  \\\n",
              "count        4774.000000   7597.000000    8079.000000   7255.000000   \n",
              "mean           43.596230      1.392472     735.810744    111.726120   \n",
              "std            63.109904      4.566460    3848.009267    847.905482   \n",
              "min             0.000000      0.000000       0.000000      0.000000   \n",
              "25%             9.000000      0.000000       0.000000      0.000000   \n",
              "50%            24.750000      0.240000      32.000000      4.000000   \n",
              "75%            69.675000      1.610000     252.500000     33.000000   \n",
              "max          2403.300000     98.890000  100000.000000  30000.000000   \n",
              "\n",
              "       Retinol_(µg)  Alpha_Carot_(µg)  Beta_Carot_(µg)  Beta_Crypt_(µg)  \\\n",
              "count   6984.000000       5532.000000      5628.000000      5520.000000   \n",
              "mean      89.770046         31.496927       221.314499        10.623913   \n",
              "std      853.251289        321.134973      1281.280007       155.313138   \n",
              "min        0.000000          0.000000         0.000000         0.000000   \n",
              "25%        0.000000          0.000000         0.000000         0.000000   \n",
              "50%        0.000000          0.000000         0.000000         0.000000   \n",
              "75%       12.000000          0.000000        21.000000         0.000000   \n",
              "max    30000.000000      14251.000000     42891.000000      6252.000000   \n",
              "\n",
              "       Lycopene_(µg)  Lut+Zea_ (µg)   Vit_E_(mg)     Vit_D_µg      Vit_D_IU  \\\n",
              "count    5498.000000    5475.000000  5901.000000  5528.000000   5579.000000   \n",
              "mean      157.039651     193.970046     1.331518     0.579269     22.990142   \n",
              "std      1397.230145    1148.404329     4.640706     3.882702    154.614465   \n",
              "min         0.000000       0.000000     0.000000     0.000000      0.000000   \n",
              "25%         0.000000       0.000000     0.120000     0.000000      0.000000   \n",
              "50%         0.000000       0.000000     0.300000     0.000000      0.000000   \n",
              "75%         0.000000      30.000000     0.800000     0.200000      6.000000   \n",
              "max     46260.000000   19697.000000   149.400000   250.000000  10000.000000   \n",
              "\n",
              "        Vit_K_(µg)   FA_Sat_(g)  FA_Mono_(g)  FA_Poly_(g)  Cholestrl_(mg)  \\\n",
              "count  5227.000000  8441.000000  8124.000000  8125.000000     8380.000000   \n",
              "mean     15.631586     3.576334     4.081006     2.288767       40.613246   \n",
              "std      79.949125     6.518840     7.010760     5.215654      119.869371   \n",
              "min       0.000000     0.000000     0.000000     0.000000        0.000000   \n",
              "25%       0.200000     0.220000     0.235750     0.220000        0.000000   \n",
              "50%       1.600000     1.592000     1.938500     0.696000        4.000000   \n",
              "75%       5.200000     4.345000     5.115000     2.081000       67.000000   \n",
              "max    1714.500000    95.600000    83.689000    74.623000     3100.000000   \n",
              "\n",
              "            GmWt_1       GmWt_2   Refuse_Pct        CLASS  \n",
              "count  8490.000000  4825.000000  8740.000000  8790.000000  \n",
              "mean     96.395130   250.747668     4.964416     5.715586  \n",
              "std      84.337063   382.226774    12.088471     5.076376  \n",
              "min       0.100000     0.400000     0.000000     0.000000  \n",
              "25%      29.000000    42.000000     0.000000     0.000000  \n",
              "50%      85.000000   164.000000     0.000000    10.000000  \n",
              "75%     130.000000   305.000000     0.000000    10.000000  \n",
              "max    1184.000000  5717.000000    81.000000    11.000000  "
            ],
            "text/html": [
              "\n",
              "  <div id=\"df-7dec4f2d-5927-434d-9543-6e4ff0a21b50\" class=\"colab-df-container\">\n",
              "    <div>\n",
              "<style scoped>\n",
              "    .dataframe tbody tr th:only-of-type {\n",
              "        vertical-align: middle;\n",
              "    }\n",
              "\n",
              "    .dataframe tbody tr th {\n",
              "        vertical-align: top;\n",
              "    }\n",
              "\n",
              "    .dataframe thead th {\n",
              "        text-align: right;\n",
              "    }\n",
              "</style>\n",
              "<table border=\"1\" class=\"dataframe\">\n",
              "  <thead>\n",
              "    <tr style=\"text-align: right;\">\n",
              "      <th></th>\n",
              "      <th>Unnamed: 0</th>\n",
              "      <th>NDB_No</th>\n",
              "      <th>Water_(g)</th>\n",
              "      <th>Energ_Kcal</th>\n",
              "      <th>Protein_(g)</th>\n",
              "      <th>Lipid_Tot_(g)</th>\n",
              "      <th>Ash_(g)</th>\n",
              "      <th>Carbohydrt_(g)</th>\n",
              "      <th>Fiber_TD_(g)</th>\n",
              "      <th>Sugar_Tot_(g)</th>\n",
              "      <th>Calcium_(mg)</th>\n",
              "      <th>Iron_(mg)</th>\n",
              "      <th>Magnesium_(mg)</th>\n",
              "      <th>Phosphorus_(mg)</th>\n",
              "      <th>Potassium_(mg)</th>\n",
              "      <th>Sodium_(mg)</th>\n",
              "      <th>Zinc_(mg)</th>\n",
              "      <th>Copper_mg)</th>\n",
              "      <th>Manganese_(mg)</th>\n",
              "      <th>Selenium_(µg)</th>\n",
              "      <th>Vit_C_(mg)</th>\n",
              "      <th>Thiamin_(mg)</th>\n",
              "      <th>Riboflavin_(mg)</th>\n",
              "      <th>Niacin_(mg)</th>\n",
              "      <th>Panto_Acid_mg)</th>\n",
              "      <th>Vit_B6_(mg)</th>\n",
              "      <th>Folate_Tot_(µg)</th>\n",
              "      <th>Folic_Acid_(µg)</th>\n",
              "      <th>Food_Folate_(µg)</th>\n",
              "      <th>Folate_DFE_(µg)</th>\n",
              "      <th>Choline_Tot_ (mg)</th>\n",
              "      <th>Vit_B12_(µg)</th>\n",
              "      <th>Vit_A_IU</th>\n",
              "      <th>Vit_A_RAE</th>\n",
              "      <th>Retinol_(µg)</th>\n",
              "      <th>Alpha_Carot_(µg)</th>\n",
              "      <th>Beta_Carot_(µg)</th>\n",
              "      <th>Beta_Crypt_(µg)</th>\n",
              "      <th>Lycopene_(µg)</th>\n",
              "      <th>Lut+Zea_ (µg)</th>\n",
              "      <th>Vit_E_(mg)</th>\n",
              "      <th>Vit_D_µg</th>\n",
              "      <th>Vit_D_IU</th>\n",
              "      <th>Vit_K_(µg)</th>\n",
              "      <th>FA_Sat_(g)</th>\n",
              "      <th>FA_Mono_(g)</th>\n",
              "      <th>FA_Poly_(g)</th>\n",
              "      <th>Cholestrl_(mg)</th>\n",
              "      <th>GmWt_1</th>\n",
              "      <th>GmWt_2</th>\n",
              "      <th>Refuse_Pct</th>\n",
              "      <th>CLASS</th>\n",
              "    </tr>\n",
              "  </thead>\n",
              "  <tbody>\n",
              "    <tr>\n",
              "      <th>count</th>\n",
              "      <td>8790.000000</td>\n",
              "      <td>8790.000000</td>\n",
              "      <td>8789.000000</td>\n",
              "      <td>8790.000000</td>\n",
              "      <td>8790.000000</td>\n",
              "      <td>8790.000000</td>\n",
              "      <td>8465.000000</td>\n",
              "      <td>8790.000000</td>\n",
              "      <td>8196.000000</td>\n",
              "      <td>6958.000000</td>\n",
              "      <td>8442.000000</td>\n",
              "      <td>8646.000000</td>\n",
              "      <td>8051.000000</td>\n",
              "      <td>8211.000000</td>\n",
              "      <td>8364.000000</td>\n",
              "      <td>8707.000000</td>\n",
              "      <td>8084.000000</td>\n",
              "      <td>7533.000000</td>\n",
              "      <td>6630.000000</td>\n",
              "      <td>7090.000000</td>\n",
              "      <td>7972.000000</td>\n",
              "      <td>8156.000000</td>\n",
              "      <td>8174.000000</td>\n",
              "      <td>8153.000000</td>\n",
              "      <td>6548.000000</td>\n",
              "      <td>7885.000000</td>\n",
              "      <td>7529.000000</td>\n",
              "      <td>6751.000000</td>\n",
              "      <td>7022.000000</td>\n",
              "      <td>6733.000000</td>\n",
              "      <td>4774.000000</td>\n",
              "      <td>7597.000000</td>\n",
              "      <td>8079.000000</td>\n",
              "      <td>7255.000000</td>\n",
              "      <td>6984.000000</td>\n",
              "      <td>5532.000000</td>\n",
              "      <td>5628.000000</td>\n",
              "      <td>5520.000000</td>\n",
              "      <td>5498.000000</td>\n",
              "      <td>5475.000000</td>\n",
              "      <td>5901.000000</td>\n",
              "      <td>5528.000000</td>\n",
              "      <td>5579.000000</td>\n",
              "      <td>5227.000000</td>\n",
              "      <td>8441.000000</td>\n",
              "      <td>8124.000000</td>\n",
              "      <td>8125.000000</td>\n",
              "      <td>8380.000000</td>\n",
              "      <td>8490.000000</td>\n",
              "      <td>4825.000000</td>\n",
              "      <td>8740.000000</td>\n",
              "      <td>8790.000000</td>\n",
              "    </tr>\n",
              "    <tr>\n",
              "      <th>mean</th>\n",
              "      <td>4394.500000</td>\n",
              "      <td>15663.495222</td>\n",
              "      <td>54.112218</td>\n",
              "      <td>226.317634</td>\n",
              "      <td>11.342849</td>\n",
              "      <td>10.553725</td>\n",
              "      <td>1.783468</td>\n",
              "      <td>22.127710</td>\n",
              "      <td>2.187445</td>\n",
              "      <td>8.543066</td>\n",
              "      <td>76.738214</td>\n",
              "      <td>2.699674</td>\n",
              "      <td>35.295988</td>\n",
              "      <td>165.142126</td>\n",
              "      <td>279.472740</td>\n",
              "      <td>312.495923</td>\n",
              "      <td>2.117438</td>\n",
              "      <td>0.195984</td>\n",
              "      <td>0.658156</td>\n",
              "      <td>15.591016</td>\n",
              "      <td>9.231134</td>\n",
              "      <td>0.223134</td>\n",
              "      <td>0.252237</td>\n",
              "      <td>3.657721</td>\n",
              "      <td>0.650989</td>\n",
              "      <td>0.291531</td>\n",
              "      <td>51.598220</td>\n",
              "      <td>23.169012</td>\n",
              "      <td>24.556109</td>\n",
              "      <td>64.275806</td>\n",
              "      <td>43.596230</td>\n",
              "      <td>1.392472</td>\n",
              "      <td>735.810744</td>\n",
              "      <td>111.726120</td>\n",
              "      <td>89.770046</td>\n",
              "      <td>31.496927</td>\n",
              "      <td>221.314499</td>\n",
              "      <td>10.623913</td>\n",
              "      <td>157.039651</td>\n",
              "      <td>193.970046</td>\n",
              "      <td>1.331518</td>\n",
              "      <td>0.579269</td>\n",
              "      <td>22.990142</td>\n",
              "      <td>15.631586</td>\n",
              "      <td>3.576334</td>\n",
              "      <td>4.081006</td>\n",
              "      <td>2.288767</td>\n",
              "      <td>40.613246</td>\n",
              "      <td>96.395130</td>\n",
              "      <td>250.747668</td>\n",
              "      <td>4.964416</td>\n",
              "      <td>5.715586</td>\n",
              "    </tr>\n",
              "    <tr>\n",
              "      <th>std</th>\n",
              "      <td>2537.598767</td>\n",
              "      <td>9251.413586</td>\n",
              "      <td>30.772854</td>\n",
              "      <td>169.877539</td>\n",
              "      <td>10.530474</td>\n",
              "      <td>15.814842</td>\n",
              "      <td>3.004609</td>\n",
              "      <td>27.270822</td>\n",
              "      <td>4.383138</td>\n",
              "      <td>14.923626</td>\n",
              "      <td>203.527453</td>\n",
              "      <td>5.687560</td>\n",
              "      <td>57.416785</td>\n",
              "      <td>204.704214</td>\n",
              "      <td>375.483729</td>\n",
              "      <td>943.431341</td>\n",
              "      <td>3.437209</td>\n",
              "      <td>0.582596</td>\n",
              "      <td>7.248609</td>\n",
              "      <td>30.471099</td>\n",
              "      <td>68.854696</td>\n",
              "      <td>0.523752</td>\n",
              "      <td>0.449461</td>\n",
              "      <td>4.823819</td>\n",
              "      <td>1.413303</td>\n",
              "      <td>0.485057</td>\n",
              "      <td>136.601781</td>\n",
              "      <td>114.513700</td>\n",
              "      <td>62.386069</td>\n",
              "      <td>207.360765</td>\n",
              "      <td>63.109904</td>\n",
              "      <td>4.566460</td>\n",
              "      <td>3848.009267</td>\n",
              "      <td>847.905482</td>\n",
              "      <td>853.251289</td>\n",
              "      <td>321.134973</td>\n",
              "      <td>1281.280007</td>\n",
              "      <td>155.313138</td>\n",
              "      <td>1397.230145</td>\n",
              "      <td>1148.404329</td>\n",
              "      <td>4.640706</td>\n",
              "      <td>3.882702</td>\n",
              "      <td>154.614465</td>\n",
              "      <td>79.949125</td>\n",
              "      <td>6.518840</td>\n",
              "      <td>7.010760</td>\n",
              "      <td>5.215654</td>\n",
              "      <td>119.869371</td>\n",
              "      <td>84.337063</td>\n",
              "      <td>382.226774</td>\n",
              "      <td>12.088471</td>\n",
              "      <td>5.076376</td>\n",
              "    </tr>\n",
              "    <tr>\n",
              "      <th>min</th>\n",
              "      <td>0.000000</td>\n",
              "      <td>1001.000000</td>\n",
              "      <td>0.000000</td>\n",
              "      <td>0.000000</td>\n",
              "      <td>0.000000</td>\n",
              "      <td>0.000000</td>\n",
              "      <td>0.000000</td>\n",
              "      <td>0.000000</td>\n",
              "      <td>0.000000</td>\n",
              "      <td>0.000000</td>\n",
              "      <td>0.000000</td>\n",
              "      <td>0.000000</td>\n",
              "      <td>0.000000</td>\n",
              "      <td>0.000000</td>\n",
              "      <td>0.000000</td>\n",
              "      <td>0.000000</td>\n",
              "      <td>0.000000</td>\n",
              "      <td>0.000000</td>\n",
              "      <td>0.000000</td>\n",
              "      <td>0.000000</td>\n",
              "      <td>0.000000</td>\n",
              "      <td>0.000000</td>\n",
              "      <td>0.000000</td>\n",
              "      <td>0.000000</td>\n",
              "      <td>0.000000</td>\n",
              "      <td>0.000000</td>\n",
              "      <td>0.000000</td>\n",
              "      <td>0.000000</td>\n",
              "      <td>0.000000</td>\n",
              "      <td>0.000000</td>\n",
              "      <td>0.000000</td>\n",
              "      <td>0.000000</td>\n",
              "      <td>0.000000</td>\n",
              "      <td>0.000000</td>\n",
              "      <td>0.000000</td>\n",
              "      <td>0.000000</td>\n",
              "      <td>0.000000</td>\n",
              "      <td>0.000000</td>\n",
              "      <td>0.000000</td>\n",
              "      <td>0.000000</td>\n",
              "      <td>0.000000</td>\n",
              "      <td>0.000000</td>\n",
              "      <td>0.000000</td>\n",
              "      <td>0.000000</td>\n",
              "      <td>0.000000</td>\n",
              "      <td>0.000000</td>\n",
              "      <td>0.000000</td>\n",
              "      <td>0.000000</td>\n",
              "      <td>0.100000</td>\n",
              "      <td>0.400000</td>\n",
              "      <td>0.000000</td>\n",
              "      <td>0.000000</td>\n",
              "    </tr>\n",
              "    <tr>\n",
              "      <th>25%</th>\n",
              "      <td>2197.250000</td>\n",
              "      <td>9086.250000</td>\n",
              "      <td>29.700000</td>\n",
              "      <td>91.000000</td>\n",
              "      <td>2.380000</td>\n",
              "      <td>0.950000</td>\n",
              "      <td>0.840000</td>\n",
              "      <td>0.050000</td>\n",
              "      <td>0.000000</td>\n",
              "      <td>0.000000</td>\n",
              "      <td>10.000000</td>\n",
              "      <td>0.540000</td>\n",
              "      <td>12.000000</td>\n",
              "      <td>51.000000</td>\n",
              "      <td>127.000000</td>\n",
              "      <td>41.000000</td>\n",
              "      <td>0.340000</td>\n",
              "      <td>0.052000</td>\n",
              "      <td>0.015000</td>\n",
              "      <td>1.300000</td>\n",
              "      <td>0.000000</td>\n",
              "      <td>0.040000</td>\n",
              "      <td>0.063000</td>\n",
              "      <td>0.552000</td>\n",
              "      <td>0.195000</td>\n",
              "      <td>0.051000</td>\n",
              "      <td>5.000000</td>\n",
              "      <td>0.000000</td>\n",
              "      <td>4.000000</td>\n",
              "      <td>4.000000</td>\n",
              "      <td>9.000000</td>\n",
              "      <td>0.000000</td>\n",
              "      <td>0.000000</td>\n",
              "      <td>0.000000</td>\n",
              "      <td>0.000000</td>\n",
              "      <td>0.000000</td>\n",
              "      <td>0.000000</td>\n",
              "      <td>0.000000</td>\n",
              "      <td>0.000000</td>\n",
              "      <td>0.000000</td>\n",
              "      <td>0.120000</td>\n",
              "      <td>0.000000</td>\n",
              "      <td>0.000000</td>\n",
              "      <td>0.200000</td>\n",
              "      <td>0.220000</td>\n",
              "      <td>0.235750</td>\n",
              "      <td>0.220000</td>\n",
              "      <td>0.000000</td>\n",
              "      <td>29.000000</td>\n",
              "      <td>42.000000</td>\n",
              "      <td>0.000000</td>\n",
              "      <td>0.000000</td>\n",
              "    </tr>\n",
              "    <tr>\n",
              "      <th>50%</th>\n",
              "      <td>4394.500000</td>\n",
              "      <td>14427.500000</td>\n",
              "      <td>63.080000</td>\n",
              "      <td>191.000000</td>\n",
              "      <td>8.000000</td>\n",
              "      <td>5.140000</td>\n",
              "      <td>1.200000</td>\n",
              "      <td>9.340000</td>\n",
              "      <td>0.700000</td>\n",
              "      <td>1.840000</td>\n",
              "      <td>21.000000</td>\n",
              "      <td>1.380000</td>\n",
              "      <td>21.000000</td>\n",
              "      <td>145.000000</td>\n",
              "      <td>229.500000</td>\n",
              "      <td>88.000000</td>\n",
              "      <td>0.990000</td>\n",
              "      <td>0.090000</td>\n",
              "      <td>0.082000</td>\n",
              "      <td>10.100000</td>\n",
              "      <td>0.000000</td>\n",
              "      <td>0.084000</td>\n",
              "      <td>0.170000</td>\n",
              "      <td>2.580000</td>\n",
              "      <td>0.435000</td>\n",
              "      <td>0.150000</td>\n",
              "      <td>12.000000</td>\n",
              "      <td>0.000000</td>\n",
              "      <td>9.000000</td>\n",
              "      <td>11.000000</td>\n",
              "      <td>24.750000</td>\n",
              "      <td>0.240000</td>\n",
              "      <td>32.000000</td>\n",
              "      <td>4.000000</td>\n",
              "      <td>0.000000</td>\n",
              "      <td>0.000000</td>\n",
              "      <td>0.000000</td>\n",
              "      <td>0.000000</td>\n",
              "      <td>0.000000</td>\n",
              "      <td>0.000000</td>\n",
              "      <td>0.300000</td>\n",
              "      <td>0.000000</td>\n",
              "      <td>0.000000</td>\n",
              "      <td>1.600000</td>\n",
              "      <td>1.592000</td>\n",
              "      <td>1.938500</td>\n",
              "      <td>0.696000</td>\n",
              "      <td>4.000000</td>\n",
              "      <td>85.000000</td>\n",
              "      <td>164.000000</td>\n",
              "      <td>0.000000</td>\n",
              "      <td>10.000000</td>\n",
              "    </tr>\n",
              "    <tr>\n",
              "      <th>75%</th>\n",
              "      <td>6591.750000</td>\n",
              "      <td>20142.750000</td>\n",
              "      <td>77.960000</td>\n",
              "      <td>337.000000</td>\n",
              "      <td>19.880000</td>\n",
              "      <td>13.720000</td>\n",
              "      <td>2.090000</td>\n",
              "      <td>34.910000</td>\n",
              "      <td>2.600000</td>\n",
              "      <td>9.287500</td>\n",
              "      <td>69.000000</td>\n",
              "      <td>2.600000</td>\n",
              "      <td>30.000000</td>\n",
              "      <td>220.000000</td>\n",
              "      <td>336.000000</td>\n",
              "      <td>404.500000</td>\n",
              "      <td>2.920000</td>\n",
              "      <td>0.160000</td>\n",
              "      <td>0.326000</td>\n",
              "      <td>24.300000</td>\n",
              "      <td>3.500000</td>\n",
              "      <td>0.250000</td>\n",
              "      <td>0.270000</td>\n",
              "      <td>5.276000</td>\n",
              "      <td>0.732250</td>\n",
              "      <td>0.390000</td>\n",
              "      <td>46.000000</td>\n",
              "      <td>0.000000</td>\n",
              "      <td>21.000000</td>\n",
              "      <td>41.000000</td>\n",
              "      <td>69.675000</td>\n",
              "      <td>1.610000</td>\n",
              "      <td>252.500000</td>\n",
              "      <td>33.000000</td>\n",
              "      <td>12.000000</td>\n",
              "      <td>0.000000</td>\n",
              "      <td>21.000000</td>\n",
              "      <td>0.000000</td>\n",
              "      <td>0.000000</td>\n",
              "      <td>30.000000</td>\n",
              "      <td>0.800000</td>\n",
              "      <td>0.200000</td>\n",
              "      <td>6.000000</td>\n",
              "      <td>5.200000</td>\n",
              "      <td>4.345000</td>\n",
              "      <td>5.115000</td>\n",
              "      <td>2.081000</td>\n",
              "      <td>67.000000</td>\n",
              "      <td>130.000000</td>\n",
              "      <td>305.000000</td>\n",
              "      <td>0.000000</td>\n",
              "      <td>10.000000</td>\n",
              "    </tr>\n",
              "    <tr>\n",
              "      <th>max</th>\n",
              "      <td>8789.000000</td>\n",
              "      <td>93600.000000</td>\n",
              "      <td>100.000000</td>\n",
              "      <td>902.000000</td>\n",
              "      <td>88.320000</td>\n",
              "      <td>100.000000</td>\n",
              "      <td>99.800000</td>\n",
              "      <td>100.000000</td>\n",
              "      <td>79.000000</td>\n",
              "      <td>99.800000</td>\n",
              "      <td>7364.000000</td>\n",
              "      <td>123.600000</td>\n",
              "      <td>781.000000</td>\n",
              "      <td>9918.000000</td>\n",
              "      <td>16500.000000</td>\n",
              "      <td>38758.000000</td>\n",
              "      <td>90.950000</td>\n",
              "      <td>15.050000</td>\n",
              "      <td>328.000000</td>\n",
              "      <td>1917.000000</td>\n",
              "      <td>2732.000000</td>\n",
              "      <td>23.375000</td>\n",
              "      <td>17.500000</td>\n",
              "      <td>127.500000</td>\n",
              "      <td>34.500000</td>\n",
              "      <td>12.000000</td>\n",
              "      <td>3786.000000</td>\n",
              "      <td>2993.000000</td>\n",
              "      <td>2340.000000</td>\n",
              "      <td>5881.000000</td>\n",
              "      <td>2403.300000</td>\n",
              "      <td>98.890000</td>\n",
              "      <td>100000.000000</td>\n",
              "      <td>30000.000000</td>\n",
              "      <td>30000.000000</td>\n",
              "      <td>14251.000000</td>\n",
              "      <td>42891.000000</td>\n",
              "      <td>6252.000000</td>\n",
              "      <td>46260.000000</td>\n",
              "      <td>19697.000000</td>\n",
              "      <td>149.400000</td>\n",
              "      <td>250.000000</td>\n",
              "      <td>10000.000000</td>\n",
              "      <td>1714.500000</td>\n",
              "      <td>95.600000</td>\n",
              "      <td>83.689000</td>\n",
              "      <td>74.623000</td>\n",
              "      <td>3100.000000</td>\n",
              "      <td>1184.000000</td>\n",
              "      <td>5717.000000</td>\n",
              "      <td>81.000000</td>\n",
              "      <td>11.000000</td>\n",
              "    </tr>\n",
              "  </tbody>\n",
              "</table>\n",
              "</div>\n",
              "    <div class=\"colab-df-buttons\">\n",
              "\n",
              "  <div class=\"colab-df-container\">\n",
              "    <button class=\"colab-df-convert\" onclick=\"convertToInteractive('df-7dec4f2d-5927-434d-9543-6e4ff0a21b50')\"\n",
              "            title=\"Convert this dataframe to an interactive table.\"\n",
              "            style=\"display:none;\">\n",
              "\n",
              "  <svg xmlns=\"http://www.w3.org/2000/svg\" height=\"24px\" viewBox=\"0 -960 960 960\">\n",
              "    <path d=\"M120-120v-720h720v720H120Zm60-500h600v-160H180v160Zm220 220h160v-160H400v160Zm0 220h160v-160H400v160ZM180-400h160v-160H180v160Zm440 0h160v-160H620v160ZM180-180h160v-160H180v160Zm440 0h160v-160H620v160Z\"/>\n",
              "  </svg>\n",
              "    </button>\n",
              "\n",
              "  <style>\n",
              "    .colab-df-container {\n",
              "      display:flex;\n",
              "      gap: 12px;\n",
              "    }\n",
              "\n",
              "    .colab-df-convert {\n",
              "      background-color: #E8F0FE;\n",
              "      border: none;\n",
              "      border-radius: 50%;\n",
              "      cursor: pointer;\n",
              "      display: none;\n",
              "      fill: #1967D2;\n",
              "      height: 32px;\n",
              "      padding: 0 0 0 0;\n",
              "      width: 32px;\n",
              "    }\n",
              "\n",
              "    .colab-df-convert:hover {\n",
              "      background-color: #E2EBFA;\n",
              "      box-shadow: 0px 1px 2px rgba(60, 64, 67, 0.3), 0px 1px 3px 1px rgba(60, 64, 67, 0.15);\n",
              "      fill: #174EA6;\n",
              "    }\n",
              "\n",
              "    .colab-df-buttons div {\n",
              "      margin-bottom: 4px;\n",
              "    }\n",
              "\n",
              "    [theme=dark] .colab-df-convert {\n",
              "      background-color: #3B4455;\n",
              "      fill: #D2E3FC;\n",
              "    }\n",
              "\n",
              "    [theme=dark] .colab-df-convert:hover {\n",
              "      background-color: #434B5C;\n",
              "      box-shadow: 0px 1px 3px 1px rgba(0, 0, 0, 0.15);\n",
              "      filter: drop-shadow(0px 1px 2px rgba(0, 0, 0, 0.3));\n",
              "      fill: #FFFFFF;\n",
              "    }\n",
              "  </style>\n",
              "\n",
              "    <script>\n",
              "      const buttonEl =\n",
              "        document.querySelector('#df-7dec4f2d-5927-434d-9543-6e4ff0a21b50 button.colab-df-convert');\n",
              "      buttonEl.style.display =\n",
              "        google.colab.kernel.accessAllowed ? 'block' : 'none';\n",
              "\n",
              "      async function convertToInteractive(key) {\n",
              "        const element = document.querySelector('#df-7dec4f2d-5927-434d-9543-6e4ff0a21b50');\n",
              "        const dataTable =\n",
              "          await google.colab.kernel.invokeFunction('convertToInteractive',\n",
              "                                                    [key], {});\n",
              "        if (!dataTable) return;\n",
              "\n",
              "        const docLinkHtml = 'Like what you see? Visit the ' +\n",
              "          '<a target=\"_blank\" href=https://colab.research.google.com/notebooks/data_table.ipynb>data table notebook</a>'\n",
              "          + ' to learn more about interactive tables.';\n",
              "        element.innerHTML = '';\n",
              "        dataTable['output_type'] = 'display_data';\n",
              "        await google.colab.output.renderOutput(dataTable, element);\n",
              "        const docLink = document.createElement('div');\n",
              "        docLink.innerHTML = docLinkHtml;\n",
              "        element.appendChild(docLink);\n",
              "      }\n",
              "    </script>\n",
              "  </div>\n",
              "\n",
              "\n",
              "<div id=\"df-322bba84-e606-4c22-a8b6-341e05fb53de\">\n",
              "  <button class=\"colab-df-quickchart\" onclick=\"quickchart('df-322bba84-e606-4c22-a8b6-341e05fb53de')\"\n",
              "            title=\"Suggest charts\"\n",
              "            style=\"display:none;\">\n",
              "\n",
              "<svg xmlns=\"http://www.w3.org/2000/svg\" height=\"24px\"viewBox=\"0 0 24 24\"\n",
              "     width=\"24px\">\n",
              "    <g>\n",
              "        <path d=\"M19 3H5c-1.1 0-2 .9-2 2v14c0 1.1.9 2 2 2h14c1.1 0 2-.9 2-2V5c0-1.1-.9-2-2-2zM9 17H7v-7h2v7zm4 0h-2V7h2v10zm4 0h-2v-4h2v4z\"/>\n",
              "    </g>\n",
              "</svg>\n",
              "  </button>\n",
              "\n",
              "<style>\n",
              "  .colab-df-quickchart {\n",
              "      --bg-color: #E8F0FE;\n",
              "      --fill-color: #1967D2;\n",
              "      --hover-bg-color: #E2EBFA;\n",
              "      --hover-fill-color: #174EA6;\n",
              "      --disabled-fill-color: #AAA;\n",
              "      --disabled-bg-color: #DDD;\n",
              "  }\n",
              "\n",
              "  [theme=dark] .colab-df-quickchart {\n",
              "      --bg-color: #3B4455;\n",
              "      --fill-color: #D2E3FC;\n",
              "      --hover-bg-color: #434B5C;\n",
              "      --hover-fill-color: #FFFFFF;\n",
              "      --disabled-bg-color: #3B4455;\n",
              "      --disabled-fill-color: #666;\n",
              "  }\n",
              "\n",
              "  .colab-df-quickchart {\n",
              "    background-color: var(--bg-color);\n",
              "    border: none;\n",
              "    border-radius: 50%;\n",
              "    cursor: pointer;\n",
              "    display: none;\n",
              "    fill: var(--fill-color);\n",
              "    height: 32px;\n",
              "    padding: 0;\n",
              "    width: 32px;\n",
              "  }\n",
              "\n",
              "  .colab-df-quickchart:hover {\n",
              "    background-color: var(--hover-bg-color);\n",
              "    box-shadow: 0 1px 2px rgba(60, 64, 67, 0.3), 0 1px 3px 1px rgba(60, 64, 67, 0.15);\n",
              "    fill: var(--button-hover-fill-color);\n",
              "  }\n",
              "\n",
              "  .colab-df-quickchart-complete:disabled,\n",
              "  .colab-df-quickchart-complete:disabled:hover {\n",
              "    background-color: var(--disabled-bg-color);\n",
              "    fill: var(--disabled-fill-color);\n",
              "    box-shadow: none;\n",
              "  }\n",
              "\n",
              "  .colab-df-spinner {\n",
              "    border: 2px solid var(--fill-color);\n",
              "    border-color: transparent;\n",
              "    border-bottom-color: var(--fill-color);\n",
              "    animation:\n",
              "      spin 1s steps(1) infinite;\n",
              "  }\n",
              "\n",
              "  @keyframes spin {\n",
              "    0% {\n",
              "      border-color: transparent;\n",
              "      border-bottom-color: var(--fill-color);\n",
              "      border-left-color: var(--fill-color);\n",
              "    }\n",
              "    20% {\n",
              "      border-color: transparent;\n",
              "      border-left-color: var(--fill-color);\n",
              "      border-top-color: var(--fill-color);\n",
              "    }\n",
              "    30% {\n",
              "      border-color: transparent;\n",
              "      border-left-color: var(--fill-color);\n",
              "      border-top-color: var(--fill-color);\n",
              "      border-right-color: var(--fill-color);\n",
              "    }\n",
              "    40% {\n",
              "      border-color: transparent;\n",
              "      border-right-color: var(--fill-color);\n",
              "      border-top-color: var(--fill-color);\n",
              "    }\n",
              "    60% {\n",
              "      border-color: transparent;\n",
              "      border-right-color: var(--fill-color);\n",
              "    }\n",
              "    80% {\n",
              "      border-color: transparent;\n",
              "      border-right-color: var(--fill-color);\n",
              "      border-bottom-color: var(--fill-color);\n",
              "    }\n",
              "    90% {\n",
              "      border-color: transparent;\n",
              "      border-bottom-color: var(--fill-color);\n",
              "    }\n",
              "  }\n",
              "</style>\n",
              "\n",
              "  <script>\n",
              "    async function quickchart(key) {\n",
              "      const quickchartButtonEl =\n",
              "        document.querySelector('#' + key + ' button');\n",
              "      quickchartButtonEl.disabled = true;  // To prevent multiple clicks.\n",
              "      quickchartButtonEl.classList.add('colab-df-spinner');\n",
              "      try {\n",
              "        const charts = await google.colab.kernel.invokeFunction(\n",
              "            'suggestCharts', [key], {});\n",
              "      } catch (error) {\n",
              "        console.error('Error during call to suggestCharts:', error);\n",
              "      }\n",
              "      quickchartButtonEl.classList.remove('colab-df-spinner');\n",
              "      quickchartButtonEl.classList.add('colab-df-quickchart-complete');\n",
              "    }\n",
              "    (() => {\n",
              "      let quickchartButtonEl =\n",
              "        document.querySelector('#df-322bba84-e606-4c22-a8b6-341e05fb53de button');\n",
              "      quickchartButtonEl.style.display =\n",
              "        google.colab.kernel.accessAllowed ? 'block' : 'none';\n",
              "    })();\n",
              "  </script>\n",
              "</div>\n",
              "    </div>\n",
              "  </div>\n"
            ],
            "application/vnd.google.colaboratory.intrinsic+json": {
              "type": "dataframe"
            }
          },
          "metadata": {},
          "execution_count": 5
        }
      ]
    },
    {
      "cell_type": "code",
      "source": [
        "df.describe(include='object')"
      ],
      "metadata": {
        "id": "gETBwDAFaJ1w",
        "colab": {
          "base_uri": "https://localhost:8080/",
          "height": 175
        },
        "outputId": "66d9af13-b91d-4797-be2c-0bc43f05bbab"
      },
      "execution_count": null,
      "outputs": [
        {
          "output_type": "execute_result",
          "data": {
            "text/plain": [
              "                                                Shrt_Desc GmWt_Desc1  \\\n",
              "count                                                8790       8491   \n",
              "unique                                               8787        911   \n",
              "top     BEEF,CHUCK,UNDER BLADE CNTR STEAK,BNLESS,DENVE...       3 oz   \n",
              "freq                                                    2       1409   \n",
              "\n",
              "       GmWt_Desc2  \n",
              "count        4825  \n",
              "unique        921  \n",
              "top         1 cup  \n",
              "freq          298  "
            ],
            "text/html": [
              "\n",
              "  <div id=\"df-e2224eae-ebcb-44d6-8e67-88f87d71241b\" class=\"colab-df-container\">\n",
              "    <div>\n",
              "<style scoped>\n",
              "    .dataframe tbody tr th:only-of-type {\n",
              "        vertical-align: middle;\n",
              "    }\n",
              "\n",
              "    .dataframe tbody tr th {\n",
              "        vertical-align: top;\n",
              "    }\n",
              "\n",
              "    .dataframe thead th {\n",
              "        text-align: right;\n",
              "    }\n",
              "</style>\n",
              "<table border=\"1\" class=\"dataframe\">\n",
              "  <thead>\n",
              "    <tr style=\"text-align: right;\">\n",
              "      <th></th>\n",
              "      <th>Shrt_Desc</th>\n",
              "      <th>GmWt_Desc1</th>\n",
              "      <th>GmWt_Desc2</th>\n",
              "    </tr>\n",
              "  </thead>\n",
              "  <tbody>\n",
              "    <tr>\n",
              "      <th>count</th>\n",
              "      <td>8790</td>\n",
              "      <td>8491</td>\n",
              "      <td>4825</td>\n",
              "    </tr>\n",
              "    <tr>\n",
              "      <th>unique</th>\n",
              "      <td>8787</td>\n",
              "      <td>911</td>\n",
              "      <td>921</td>\n",
              "    </tr>\n",
              "    <tr>\n",
              "      <th>top</th>\n",
              "      <td>BEEF,CHUCK,UNDER BLADE CNTR STEAK,BNLESS,DENVE...</td>\n",
              "      <td>3 oz</td>\n",
              "      <td>1 cup</td>\n",
              "    </tr>\n",
              "    <tr>\n",
              "      <th>freq</th>\n",
              "      <td>2</td>\n",
              "      <td>1409</td>\n",
              "      <td>298</td>\n",
              "    </tr>\n",
              "  </tbody>\n",
              "</table>\n",
              "</div>\n",
              "    <div class=\"colab-df-buttons\">\n",
              "\n",
              "  <div class=\"colab-df-container\">\n",
              "    <button class=\"colab-df-convert\" onclick=\"convertToInteractive('df-e2224eae-ebcb-44d6-8e67-88f87d71241b')\"\n",
              "            title=\"Convert this dataframe to an interactive table.\"\n",
              "            style=\"display:none;\">\n",
              "\n",
              "  <svg xmlns=\"http://www.w3.org/2000/svg\" height=\"24px\" viewBox=\"0 -960 960 960\">\n",
              "    <path d=\"M120-120v-720h720v720H120Zm60-500h600v-160H180v160Zm220 220h160v-160H400v160Zm0 220h160v-160H400v160ZM180-400h160v-160H180v160Zm440 0h160v-160H620v160ZM180-180h160v-160H180v160Zm440 0h160v-160H620v160Z\"/>\n",
              "  </svg>\n",
              "    </button>\n",
              "\n",
              "  <style>\n",
              "    .colab-df-container {\n",
              "      display:flex;\n",
              "      gap: 12px;\n",
              "    }\n",
              "\n",
              "    .colab-df-convert {\n",
              "      background-color: #E8F0FE;\n",
              "      border: none;\n",
              "      border-radius: 50%;\n",
              "      cursor: pointer;\n",
              "      display: none;\n",
              "      fill: #1967D2;\n",
              "      height: 32px;\n",
              "      padding: 0 0 0 0;\n",
              "      width: 32px;\n",
              "    }\n",
              "\n",
              "    .colab-df-convert:hover {\n",
              "      background-color: #E2EBFA;\n",
              "      box-shadow: 0px 1px 2px rgba(60, 64, 67, 0.3), 0px 1px 3px 1px rgba(60, 64, 67, 0.15);\n",
              "      fill: #174EA6;\n",
              "    }\n",
              "\n",
              "    .colab-df-buttons div {\n",
              "      margin-bottom: 4px;\n",
              "    }\n",
              "\n",
              "    [theme=dark] .colab-df-convert {\n",
              "      background-color: #3B4455;\n",
              "      fill: #D2E3FC;\n",
              "    }\n",
              "\n",
              "    [theme=dark] .colab-df-convert:hover {\n",
              "      background-color: #434B5C;\n",
              "      box-shadow: 0px 1px 3px 1px rgba(0, 0, 0, 0.15);\n",
              "      filter: drop-shadow(0px 1px 2px rgba(0, 0, 0, 0.3));\n",
              "      fill: #FFFFFF;\n",
              "    }\n",
              "  </style>\n",
              "\n",
              "    <script>\n",
              "      const buttonEl =\n",
              "        document.querySelector('#df-e2224eae-ebcb-44d6-8e67-88f87d71241b button.colab-df-convert');\n",
              "      buttonEl.style.display =\n",
              "        google.colab.kernel.accessAllowed ? 'block' : 'none';\n",
              "\n",
              "      async function convertToInteractive(key) {\n",
              "        const element = document.querySelector('#df-e2224eae-ebcb-44d6-8e67-88f87d71241b');\n",
              "        const dataTable =\n",
              "          await google.colab.kernel.invokeFunction('convertToInteractive',\n",
              "                                                    [key], {});\n",
              "        if (!dataTable) return;\n",
              "\n",
              "        const docLinkHtml = 'Like what you see? Visit the ' +\n",
              "          '<a target=\"_blank\" href=https://colab.research.google.com/notebooks/data_table.ipynb>data table notebook</a>'\n",
              "          + ' to learn more about interactive tables.';\n",
              "        element.innerHTML = '';\n",
              "        dataTable['output_type'] = 'display_data';\n",
              "        await google.colab.output.renderOutput(dataTable, element);\n",
              "        const docLink = document.createElement('div');\n",
              "        docLink.innerHTML = docLinkHtml;\n",
              "        element.appendChild(docLink);\n",
              "      }\n",
              "    </script>\n",
              "  </div>\n",
              "\n",
              "\n",
              "<div id=\"df-c0fd719d-7025-4426-9d0c-f40a53ac2cc1\">\n",
              "  <button class=\"colab-df-quickchart\" onclick=\"quickchart('df-c0fd719d-7025-4426-9d0c-f40a53ac2cc1')\"\n",
              "            title=\"Suggest charts\"\n",
              "            style=\"display:none;\">\n",
              "\n",
              "<svg xmlns=\"http://www.w3.org/2000/svg\" height=\"24px\"viewBox=\"0 0 24 24\"\n",
              "     width=\"24px\">\n",
              "    <g>\n",
              "        <path d=\"M19 3H5c-1.1 0-2 .9-2 2v14c0 1.1.9 2 2 2h14c1.1 0 2-.9 2-2V5c0-1.1-.9-2-2-2zM9 17H7v-7h2v7zm4 0h-2V7h2v10zm4 0h-2v-4h2v4z\"/>\n",
              "    </g>\n",
              "</svg>\n",
              "  </button>\n",
              "\n",
              "<style>\n",
              "  .colab-df-quickchart {\n",
              "      --bg-color: #E8F0FE;\n",
              "      --fill-color: #1967D2;\n",
              "      --hover-bg-color: #E2EBFA;\n",
              "      --hover-fill-color: #174EA6;\n",
              "      --disabled-fill-color: #AAA;\n",
              "      --disabled-bg-color: #DDD;\n",
              "  }\n",
              "\n",
              "  [theme=dark] .colab-df-quickchart {\n",
              "      --bg-color: #3B4455;\n",
              "      --fill-color: #D2E3FC;\n",
              "      --hover-bg-color: #434B5C;\n",
              "      --hover-fill-color: #FFFFFF;\n",
              "      --disabled-bg-color: #3B4455;\n",
              "      --disabled-fill-color: #666;\n",
              "  }\n",
              "\n",
              "  .colab-df-quickchart {\n",
              "    background-color: var(--bg-color);\n",
              "    border: none;\n",
              "    border-radius: 50%;\n",
              "    cursor: pointer;\n",
              "    display: none;\n",
              "    fill: var(--fill-color);\n",
              "    height: 32px;\n",
              "    padding: 0;\n",
              "    width: 32px;\n",
              "  }\n",
              "\n",
              "  .colab-df-quickchart:hover {\n",
              "    background-color: var(--hover-bg-color);\n",
              "    box-shadow: 0 1px 2px rgba(60, 64, 67, 0.3), 0 1px 3px 1px rgba(60, 64, 67, 0.15);\n",
              "    fill: var(--button-hover-fill-color);\n",
              "  }\n",
              "\n",
              "  .colab-df-quickchart-complete:disabled,\n",
              "  .colab-df-quickchart-complete:disabled:hover {\n",
              "    background-color: var(--disabled-bg-color);\n",
              "    fill: var(--disabled-fill-color);\n",
              "    box-shadow: none;\n",
              "  }\n",
              "\n",
              "  .colab-df-spinner {\n",
              "    border: 2px solid var(--fill-color);\n",
              "    border-color: transparent;\n",
              "    border-bottom-color: var(--fill-color);\n",
              "    animation:\n",
              "      spin 1s steps(1) infinite;\n",
              "  }\n",
              "\n",
              "  @keyframes spin {\n",
              "    0% {\n",
              "      border-color: transparent;\n",
              "      border-bottom-color: var(--fill-color);\n",
              "      border-left-color: var(--fill-color);\n",
              "    }\n",
              "    20% {\n",
              "      border-color: transparent;\n",
              "      border-left-color: var(--fill-color);\n",
              "      border-top-color: var(--fill-color);\n",
              "    }\n",
              "    30% {\n",
              "      border-color: transparent;\n",
              "      border-left-color: var(--fill-color);\n",
              "      border-top-color: var(--fill-color);\n",
              "      border-right-color: var(--fill-color);\n",
              "    }\n",
              "    40% {\n",
              "      border-color: transparent;\n",
              "      border-right-color: var(--fill-color);\n",
              "      border-top-color: var(--fill-color);\n",
              "    }\n",
              "    60% {\n",
              "      border-color: transparent;\n",
              "      border-right-color: var(--fill-color);\n",
              "    }\n",
              "    80% {\n",
              "      border-color: transparent;\n",
              "      border-right-color: var(--fill-color);\n",
              "      border-bottom-color: var(--fill-color);\n",
              "    }\n",
              "    90% {\n",
              "      border-color: transparent;\n",
              "      border-bottom-color: var(--fill-color);\n",
              "    }\n",
              "  }\n",
              "</style>\n",
              "\n",
              "  <script>\n",
              "    async function quickchart(key) {\n",
              "      const quickchartButtonEl =\n",
              "        document.querySelector('#' + key + ' button');\n",
              "      quickchartButtonEl.disabled = true;  // To prevent multiple clicks.\n",
              "      quickchartButtonEl.classList.add('colab-df-spinner');\n",
              "      try {\n",
              "        const charts = await google.colab.kernel.invokeFunction(\n",
              "            'suggestCharts', [key], {});\n",
              "      } catch (error) {\n",
              "        console.error('Error during call to suggestCharts:', error);\n",
              "      }\n",
              "      quickchartButtonEl.classList.remove('colab-df-spinner');\n",
              "      quickchartButtonEl.classList.add('colab-df-quickchart-complete');\n",
              "    }\n",
              "    (() => {\n",
              "      let quickchartButtonEl =\n",
              "        document.querySelector('#df-c0fd719d-7025-4426-9d0c-f40a53ac2cc1 button');\n",
              "      quickchartButtonEl.style.display =\n",
              "        google.colab.kernel.accessAllowed ? 'block' : 'none';\n",
              "    })();\n",
              "  </script>\n",
              "</div>\n",
              "    </div>\n",
              "  </div>\n"
            ],
            "application/vnd.google.colaboratory.intrinsic+json": {
              "type": "dataframe",
              "summary": "{\n  \"name\": \"df\",\n  \"rows\": 4,\n  \"fields\": [\n    {\n      \"column\": \"Shrt_Desc\",\n      \"properties\": {\n        \"dtype\": \"string\",\n        \"num_unique_values\": 4,\n        \"samples\": [\n          8787,\n          \"2\",\n          \"8790\"\n        ],\n        \"semantic_type\": \"\",\n        \"description\": \"\"\n      }\n    },\n    {\n      \"column\": \"GmWt_Desc1\",\n      \"properties\": {\n        \"dtype\": \"string\",\n        \"num_unique_values\": 4,\n        \"samples\": [\n          911,\n          \"1409\",\n          \"8491\"\n        ],\n        \"semantic_type\": \"\",\n        \"description\": \"\"\n      }\n    },\n    {\n      \"column\": \"GmWt_Desc2\",\n      \"properties\": {\n        \"dtype\": \"string\",\n        \"num_unique_values\": 4,\n        \"samples\": [\n          921,\n          \"298\",\n          \"4825\"\n        ],\n        \"semantic_type\": \"\",\n        \"description\": \"\"\n      }\n    }\n  ]\n}"
            }
          },
          "metadata": {},
          "execution_count": 6
        }
      ]
    },
    {
      "cell_type": "markdown",
      "source": [
        "Изучите полученный набор данных: все ли столбцы информативны, есть ли зависимости и т. д."
      ],
      "metadata": {
        "id": "-bAdFW79aY7Y"
      }
    },
    {
      "cell_type": "markdown",
      "source": [
        "*К удалению рассмотрены: Unnamed: 0,\tNDB_No, GmWt_1, GmWt_Desc1, GmWt_2, GmWt_Desc2, Refuse_Pct.*"
      ],
      "metadata": {
        "id": "tTTuPhdzagIo"
      }
    },
    {
      "cell_type": "code",
      "source": [
        "sns.set()\n",
        "sns.set_style('darkgrid')"
      ],
      "metadata": {
        "id": "HR5CrSOkb7rA"
      },
      "execution_count": null,
      "outputs": []
    },
    {
      "cell_type": "code",
      "source": [
        "sns.heatmap(df.corr())"
      ],
      "metadata": {
        "id": "wQXPhpIZb7rA",
        "colab": {
          "base_uri": "https://localhost:8080/",
          "height": 633
        },
        "outputId": "d69d6240-7c0a-46bd-fa55-a15b9af0303c"
      },
      "execution_count": null,
      "outputs": [
        {
          "output_type": "stream",
          "name": "stderr",
          "text": [
            "<ipython-input-8-aa4f4450a243>:1: FutureWarning: The default value of numeric_only in DataFrame.corr is deprecated. In a future version, it will default to False. Select only valid columns or specify the value of numeric_only to silence this warning.\n",
            "  sns.heatmap(df.corr())\n"
          ]
        },
        {
          "output_type": "execute_result",
          "data": {
            "text/plain": [
              "<Axes: >"
            ]
          },
          "metadata": {},
          "execution_count": 8
        },
        {
          "output_type": "display_data",
          "data": {
            "text/plain": [
              "<Figure size 640x480 with 2 Axes>"
            ],
            "image/png": "[encoded data removed]"
          },
          "metadata": {}
        }
      ]
    },
    {
      "cell_type": "markdown",
      "source": [
        "Преобразуйте набор данных, подготовив его к применению классификации методом k-ближайших соседей:\n",
        "\n",
        "*  выполните минимальные необходимые манипуляции (обработайте категориальные признаки и пропуски)\n",
        "*  отделите столбец с меткой CLASS\n",
        "*  разбейте данные на тренировочный и тестовый наборы."
      ],
      "metadata": {
        "id": "eC4LX748eppP"
      }
    },
    {
      "cell_type": "code",
      "source": [
        "df = df.drop(['Unnamed: 0', 'NDB_No', 'Shrt_Desc', 'GmWt_1', 'GmWt_Desc1', 'GmWt_2', 'GmWt_Desc2', 'Refuse_Pct'], axis=1)"
      ],
      "metadata": {
        "id": "kCQy2VsbcMUP"
      },
      "execution_count": null,
      "outputs": []
    },
    {
      "cell_type": "code",
      "source": [
        "df.isnull().sum() # пропуски"
      ],
      "metadata": {
        "id": "VXkDuqGSe8pW",
        "colab": {
          "base_uri": "https://localhost:8080/"
        },
        "outputId": "e8c67406-bf2e-479e-c2d9-3fc0323c5259"
      },
      "execution_count": null,
      "outputs": [
        {
          "output_type": "execute_result",
          "data": {
            "text/plain": [
              "Water_(g)               1\n",
              "Energ_Kcal              0\n",
              "Protein_(g)             0\n",
              "Lipid_Tot_(g)           0\n",
              "Ash_(g)               325\n",
              "Carbohydrt_(g)          0\n",
              "Fiber_TD_(g)          594\n",
              "Sugar_Tot_(g)        1832\n",
              "Calcium_(mg)          348\n",
              "Iron_(mg)             144\n",
              "Magnesium_(mg)        739\n",
              "Phosphorus_(mg)       579\n",
              "Potassium_(mg)        426\n",
              "Sodium_(mg)            83\n",
              "Zinc_(mg)             706\n",
              "Copper_mg)           1257\n",
              "Manganese_(mg)       2160\n",
              "Selenium_(µg)        1700\n",
              "Vit_C_(mg)            818\n",
              "Thiamin_(mg)          634\n",
              "Riboflavin_(mg)       616\n",
              "Niacin_(mg)           637\n",
              "Panto_Acid_mg)       2242\n",
              "Vit_B6_(mg)           905\n",
              "Folate_Tot_(µg)      1261\n",
              "Folic_Acid_(µg)      2039\n",
              "Food_Folate_(µg)     1768\n",
              "Folate_DFE_(µg)      2057\n",
              "Choline_Tot_ (mg)    4016\n",
              "Vit_B12_(µg)         1193\n",
              "Vit_A_IU              711\n",
              "Vit_A_RAE            1535\n",
              "Retinol_(µg)         1806\n",
              "Alpha_Carot_(µg)     3258\n",
              "Beta_Carot_(µg)      3162\n",
              "Beta_Crypt_(µg)      3270\n",
              "Lycopene_(µg)        3292\n",
              "Lut+Zea_ (µg)        3315\n",
              "Vit_E_(mg)           2889\n",
              "Vit_D_µg             3262\n",
              "Vit_D_IU             3211\n",
              "Vit_K_(µg)           3563\n",
              "FA_Sat_(g)            349\n",
              "FA_Mono_(g)           666\n",
              "FA_Poly_(g)           665\n",
              "Cholestrl_(mg)        410\n",
              "CLASS                   0\n",
              "dtype: int64"
            ]
          },
          "metadata": {},
          "execution_count": 10
        }
      ]
    },
    {
      "cell_type": "code",
      "source": [
        "df.duplicated().all()"
      ],
      "metadata": {
        "colab": {
          "base_uri": "https://localhost:8080/"
        },
        "id": "r24ob-3N8oRx",
        "outputId": "41fa3465-f8e8-49bd-ebcd-053a316ab367"
      },
      "execution_count": null,
      "outputs": [
        {
          "output_type": "execute_result",
          "data": {
            "text/plain": [
              "False"
            ]
          },
          "metadata": {},
          "execution_count": 11
        }
      ]
    },
    {
      "cell_type": "markdown",
      "source": [
        "*Разделим выборку, заполним пропуски с помощью среднего значения*"
      ],
      "metadata": {
        "id": "hWaQBRgtC5Yj"
      }
    },
    {
      "cell_type": "code",
      "source": [
        "from sklearn.model_selection import train_test_split\n",
        "\n",
        "X = df.drop('CLASS', axis=1)\n",
        "y = df.CLASS\n",
        "\n",
        "X_train, X_test, y_train, y_test = train_test_split(X, y, test_size=0.2)"
      ],
      "metadata": {
        "id": "amczRmQk92Yd"
      },
      "execution_count": null,
      "outputs": []
    },
    {
      "cell_type": "code",
      "source": [
        "from sklearn.impute import SimpleImputer\n",
        "\n",
        "imputer = SimpleImputer(missing_values=np.nan, strategy='mean')\n",
        "\n",
        "X_train[X_train.columns] = imputer.fit_transform(X_train)\n",
        "X_test[X_test.columns] = imputer.fit_transform(X_test)"
      ],
      "metadata": {
        "id": "PhRKskKSFLBN"
      },
      "execution_count": null,
      "outputs": []
    },
    {
      "cell_type": "code",
      "source": [
        "# from sklearn.impute import KNNImputer\n",
        "\n",
        "# imputer = KNNImputer(n_neighbors=5)\n",
        "# df[df.columns] = imputer.fit_transform(df)\n",
        "\n",
        "# X_train[X_train.columns] = imputer.fit_transform(X_train)\n",
        "# X_test[X_test.columns] = imputer.fit_transform(X_test)"
      ],
      "metadata": {
        "id": "FnW7cfZElcdg"
      },
      "execution_count": null,
      "outputs": []
    },
    {
      "cell_type": "markdown",
      "source": [
        "*Нормализация*"
      ],
      "metadata": {
        "id": "_rayIVDrDefB"
      }
    },
    {
      "cell_type": "code",
      "source": [
        "from sklearn.preprocessing import MinMaxScaler\n",
        "\n",
        "scaler = MinMaxScaler()\n",
        "\n",
        "X_train[X_train.columns] = scaler.fit_transform(X_train)\n",
        "X_test[X_test.columns] = scaler.transform(X_test)"
      ],
      "metadata": {
        "id": "P9sXqyR2Dgvn"
      },
      "execution_count": null,
      "outputs": []
    },
    {
      "cell_type": "markdown",
      "source": [
        "Обучите классификатор KNeighborsClassifier на тренировочном наборе."
      ],
      "metadata": {
        "id": "Hy5cNvKuBI7c"
      }
    },
    {
      "cell_type": "code",
      "source": [
        "from sklearn.neighbors import KNeighborsClassifier\n",
        "\n",
        "clf = KNeighborsClassifier(5)\n",
        "clf.fit(X_train, y_train)"
      ],
      "metadata": {
        "colab": {
          "base_uri": "https://localhost:8080/",
          "height": 74
        },
        "id": "4IliXz85BTCZ",
        "outputId": "e6304927-dfea-4e81-a3fa-592737cbb2a8"
      },
      "execution_count": null,
      "outputs": [
        {
          "output_type": "execute_result",
          "data": {
            "text/plain": [
              "KNeighborsClassifier()"
            ],
            "text/html": [
              "<style>#sk-container-id-1 {color: black;background-color: white;}#sk-container-id-1 pre{padding: 0;}#sk-container-id-1 div.sk-toggleable {background-color: white;}#sk-container-id-1 label.sk-toggleable__label {cursor: pointer;display: block;width: 100%;margin-bottom: 0;padding: 0.3em;box-sizing: border-box;text-align: center;}#sk-container-id-1 label.sk-toggleable__label-arrow:before {content: \"▸\";float: left;margin-right: 0.25em;color: #696969;}#sk-container-id-1 label.sk-toggleable__label-arrow:hover:before {color: black;}#sk-container-id-1 div.sk-estimator:hover label.sk-toggleable__label-arrow:before {color: black;}#sk-container-id-1 div.sk-toggleable__content {max-height: 0;max-width: 0;overflow: hidden;text-align: left;background-color: #f0f8ff;}#sk-container-id-1 div.sk-toggleable__content pre {margin: 0.2em;color: black;border-radius: 0.25em;background-color: #f0f8ff;}#sk-container-id-1 input.sk-toggleable__control:checked~div.sk-toggleable__content {max-height: 200px;max-width: 100%;overflow: auto;}#sk-container-id-1 input.sk-toggleable__control:checked~label.sk-toggleable__label-arrow:before {content: \"▾\";}#sk-container-id-1 div.sk-estimator input.sk-toggleable__control:checked~label.sk-toggleable__label {background-color: #d4ebff;}#sk-container-id-1 div.sk-label input.sk-toggleable__control:checked~label.sk-toggleable__label {background-color: #d4ebff;}#sk-container-id-1 input.sk-hidden--visually {border: 0;clip: rect(1px 1px 1px 1px);clip: rect(1px, 1px, 1px, 1px);height: 1px;margin: -1px;overflow: hidden;padding: 0;position: absolute;width: 1px;}#sk-container-id-1 div.sk-estimator {font-family: monospace;background-color: #f0f8ff;border: 1px dotted black;border-radius: 0.25em;box-sizing: border-box;margin-bottom: 0.5em;}#sk-container-id-1 div.sk-estimator:hover {background-color: #d4ebff;}#sk-container-id-1 div.sk-parallel-item::after {content: \"\";width: 100%;border-bottom: 1px solid gray;flex-grow: 1;}#sk-container-id-1 div.sk-label:hover label.sk-toggleable__label {background-color: #d4ebff;}#sk-container-id-1 div.sk-serial::before {content: \"\";position: absolute;border-left: 1px solid gray;box-sizing: border-box;top: 0;bottom: 0;left: 50%;z-index: 0;}#sk-container-id-1 div.sk-serial {display: flex;flex-direction: column;align-items: center;background-color: white;padding-right: 0.2em;padding-left: 0.2em;position: relative;}#sk-container-id-1 div.sk-item {position: relative;z-index: 1;}#sk-container-id-1 div.sk-parallel {display: flex;align-items: stretch;justify-content: center;background-color: white;position: relative;}#sk-container-id-1 div.sk-item::before, #sk-container-id-1 div.sk-parallel-item::before {content: \"\";position: absolute;border-left: 1px solid gray;box-sizing: border-box;top: 0;bottom: 0;left: 50%;z-index: -1;}#sk-container-id-1 div.sk-parallel-item {display: flex;flex-direction: column;z-index: 1;position: relative;background-color: white;}#sk-container-id-1 div.sk-parallel-item:first-child::after {align-self: flex-end;width: 50%;}#sk-container-id-1 div.sk-parallel-item:last-child::after {align-self: flex-start;width: 50%;}#sk-container-id-1 div.sk-parallel-item:only-child::after {width: 0;}#sk-container-id-1 div.sk-dashed-wrapped {border: 1px dashed gray;margin: 0 0.4em 0.5em 0.4em;box-sizing: border-box;padding-bottom: 0.4em;background-color: white;}#sk-container-id-1 div.sk-label label {font-family: monospace;font-weight: bold;display: inline-block;line-height: 1.2em;}#sk-container-id-1 div.sk-label-container {text-align: center;}#sk-container-id-1 div.sk-container {/* jupyter's `normalize.less` sets `[hidden] { display: none; }` but bootstrap.min.css set `[hidden] { display: none !important; }` so we also need the `!important` here to be able to override the default hidden behavior on the sphinx rendered scikit-learn.org. See: https://github.com/scikit-learn/scikit-learn/issues/21755 */display: inline-block !important;position: relative;}#sk-container-id-1 div.sk-text-repr-fallback {display: none;}</style><div id=\"sk-container-id-1\" class=\"sk-top-container\"><div class=\"sk-text-repr-fallback\"><pre>KNeighborsClassifier()</pre><b>In a Jupyter environment, please rerun this cell to show the HTML representation or trust the notebook. <br />On GitHub, the HTML representation is unable to render, please try loading this page with nbviewer.org.</b></div><div class=\"sk-container\" hidden><div class=\"sk-item\"><div class=\"sk-estimator sk-toggleable\"><input class=\"sk-toggleable__control sk-hidden--visually\" id=\"sk-estimator-id-1\" type=\"checkbox\" checked><label for=\"sk-estimator-id-1\" class=\"sk-toggleable__label sk-toggleable__label-arrow\">KNeighborsClassifier</label><div class=\"sk-toggleable__content\"><pre>KNeighborsClassifier()</pre></div></div></div></div></div>"
            ]
          },
          "metadata": {},
          "execution_count": 16
        }
      ]
    },
    {
      "cell_type": "markdown",
      "source": [
        "Используйте обученную модель на тестовых данных, оцените полученные результаты. Используйте визуализацию и несколько метрик."
      ],
      "metadata": {
        "id": "XfxRPk-aGhIP"
      }
    },
    {
      "cell_type": "code",
      "source": [
        "y_pred = clf.predict(X_test)"
      ],
      "metadata": {
        "id": "ec0W18LcCZCb"
      },
      "execution_count": null,
      "outputs": []
    },
    {
      "cell_type": "code",
      "source": [
        "clf.score(X_train, y_train), clf.score(X_test, y_test)"
      ],
      "metadata": {
        "colab": {
          "base_uri": "https://localhost:8080/"
        },
        "id": "--LDyn-OSddL",
        "outputId": "2c637676-d238-4d04-8001-63745783d9ac"
      },
      "execution_count": null,
      "outputs": [
        {
          "output_type": "execute_result",
          "data": {
            "text/plain": [
              "(0.9385665529010239, 0.9055745164960182)"
            ]
          },
          "metadata": {},
          "execution_count": 18
        }
      ]
    },
    {
      "cell_type": "code",
      "source": [
        "from sklearn.metrics import ConfusionMatrixDisplay\n",
        "\n",
        "ConfusionMatrixDisplay.from_predictions(y_test, y_pred, display_labels=clf.classes_)"
      ],
      "metadata": {
        "colab": {
          "base_uri": "https://localhost:8080/",
          "height": 475
        },
        "id": "Sx4sTSeYGG32",
        "outputId": "316a78e0-8b03-42b6-c807-18928ae46111"
      },
      "execution_count": null,
      "outputs": [
        {
          "output_type": "execute_result",
          "data": {
            "text/plain": [
              "<sklearn.metrics._plot.confusion_matrix.ConfusionMatrixDisplay at 0x7e1f57c7fc40>"
            ]
          },
          "metadata": {},
          "execution_count": 19
        },
        {
          "output_type": "display_data",
          "data": {
            "text/plain": [
              "<Figure size 640x480 with 2 Axes>"
            ],
            "image/png": "[encoded data removed]"
          },
          "metadata": {}
        }
      ]
    },
    {
      "cell_type": "code",
      "source": [
        "from sklearn.metrics import classification_report\n",
        "\n",
        "print(classification_report(y_test, y_pred))"
      ],
      "metadata": {
        "colab": {
          "base_uri": "https://localhost:8080/"
        },
        "id": "HPRqv-CKCmDA",
        "outputId": "d87fb4b7-d06b-440b-fc52-277e4c4776bc"
      },
      "execution_count": null,
      "outputs": [
        {
          "output_type": "stream",
          "name": "stdout",
          "text": [
            "              precision    recall  f1-score   support\n",
            "\n",
            "           0       0.91      0.90      0.90       698\n",
            "           1       0.89      0.81      0.85       103\n",
            "          10       0.89      0.91      0.90       665\n",
            "          11       0.93      0.96      0.95       292\n",
            "\n",
            "    accuracy                           0.91      1758\n",
            "   macro avg       0.91      0.89      0.90      1758\n",
            "weighted avg       0.91      0.91      0.91      1758\n",
            "\n"
          ]
        }
      ]
    },
    {
      "cell_type": "markdown",
      "source": [
        "Нормализуйте данные двумя способами (например, примените StandardScaler и MinMaxScaler)."
      ],
      "metadata": {
        "id": "gHlr1dCqGnvB"
      }
    },
    {
      "cell_type": "markdown",
      "source": [
        "Обучите ещё две модели на нормализованных данных. Оцените и сравните полученные результаты между собой и с результатами без нормализации."
      ],
      "metadata": {
        "id": "l7DZDpeEHtLg"
      }
    },
    {
      "cell_type": "markdown",
      "source": [
        "StandartScaler"
      ],
      "metadata": {
        "id": "VJfwp-8FIUKa"
      }
    },
    {
      "cell_type": "code",
      "source": [
        "from sklearn.model_selection import train_test_split\n",
        "\n",
        "X = df.drop('CLASS', axis=1)\n",
        "y = df.CLASS\n",
        "\n",
        "X_train, X_test, y_train, y_test = train_test_split(X, y, test_size=0.2)"
      ],
      "metadata": {
        "id": "xC0hkUkxHNwY"
      },
      "execution_count": null,
      "outputs": []
    },
    {
      "cell_type": "code",
      "source": [
        "from sklearn.impute import SimpleImputer\n",
        "\n",
        "imputer = SimpleImputer(missing_values=np.nan, strategy='mean')\n",
        "\n",
        "X_train[X_train.columns] = imputer.fit_transform(X_train)\n",
        "X_test[X_test.columns] = imputer.fit_transform(X_test)"
      ],
      "metadata": {
        "id": "89qMOQGZIEp3"
      },
      "execution_count": null,
      "outputs": []
    },
    {
      "cell_type": "code",
      "source": [
        "from sklearn.preprocessing import StandardScaler\n",
        "\n",
        "scaler = StandardScaler()\n",
        "\n",
        "X_train[X_train.columns] = scaler.fit_transform(X_train)\n",
        "X_test[X_test.columns] = scaler.transform(X_test)"
      ],
      "metadata": {
        "id": "cw2WigQZHNwa"
      },
      "execution_count": null,
      "outputs": []
    },
    {
      "cell_type": "code",
      "source": [
        "from sklearn.neighbors import KNeighborsClassifier\n",
        "\n",
        "clf = KNeighborsClassifier(5)\n",
        "clf.fit(X_train, y_train)"
      ],
      "metadata": {
        "colab": {
          "base_uri": "https://localhost:8080/",
          "height": 74
        },
        "outputId": "136aa214-773a-4150-8fa4-3a756660d275",
        "id": "fugLQNL7H0tc"
      },
      "execution_count": null,
      "outputs": [
        {
          "output_type": "execute_result",
          "data": {
            "text/plain": [
              "KNeighborsClassifier()"
            ],
            "text/html": [
              "<style>#sk-container-id-2 {color: black;background-color: white;}#sk-container-id-2 pre{padding: 0;}#sk-container-id-2 div.sk-toggleable {background-color: white;}#sk-container-id-2 label.sk-toggleable__label {cursor: pointer;display: block;width: 100%;margin-bottom: 0;padding: 0.3em;box-sizing: border-box;text-align: center;}#sk-container-id-2 label.sk-toggleable__label-arrow:before {content: \"▸\";float: left;margin-right: 0.25em;color: #696969;}#sk-container-id-2 label.sk-toggleable__label-arrow:hover:before {color: black;}#sk-container-id-2 div.sk-estimator:hover label.sk-toggleable__label-arrow:before {color: black;}#sk-container-id-2 div.sk-toggleable__content {max-height: 0;max-width: 0;overflow: hidden;text-align: left;background-color: #f0f8ff;}#sk-container-id-2 div.sk-toggleable__content pre {margin: 0.2em;color: black;border-radius: 0.25em;background-color: #f0f8ff;}#sk-container-id-2 input.sk-toggleable__control:checked~div.sk-toggleable__content {max-height: 200px;max-width: 100%;overflow: auto;}#sk-container-id-2 input.sk-toggleable__control:checked~label.sk-toggleable__label-arrow:before {content: \"▾\";}#sk-container-id-2 div.sk-estimator input.sk-toggleable__control:checked~label.sk-toggleable__label {background-color: #d4ebff;}#sk-container-id-2 div.sk-label input.sk-toggleable__control:checked~label.sk-toggleable__label {background-color: #d4ebff;}#sk-container-id-2 input.sk-hidden--visually {border: 0;clip: rect(1px 1px 1px 1px);clip: rect(1px, 1px, 1px, 1px);height: 1px;margin: -1px;overflow: hidden;padding: 0;position: absolute;width: 1px;}#sk-container-id-2 div.sk-estimator {font-family: monospace;background-color: #f0f8ff;border: 1px dotted black;border-radius: 0.25em;box-sizing: border-box;margin-bottom: 0.5em;}#sk-container-id-2 div.sk-estimator:hover {background-color: #d4ebff;}#sk-container-id-2 div.sk-parallel-item::after {content: \"\";width: 100%;border-bottom: 1px solid gray;flex-grow: 1;}#sk-container-id-2 div.sk-label:hover label.sk-toggleable__label {background-color: #d4ebff;}#sk-container-id-2 div.sk-serial::before {content: \"\";position: absolute;border-left: 1px solid gray;box-sizing: border-box;top: 0;bottom: 0;left: 50%;z-index: 0;}#sk-container-id-2 div.sk-serial {display: flex;flex-direction: column;align-items: center;background-color: white;padding-right: 0.2em;padding-left: 0.2em;position: relative;}#sk-container-id-2 div.sk-item {position: relative;z-index: 1;}#sk-container-id-2 div.sk-parallel {display: flex;align-items: stretch;justify-content: center;background-color: white;position: relative;}#sk-container-id-2 div.sk-item::before, #sk-container-id-2 div.sk-parallel-item::before {content: \"\";position: absolute;border-left: 1px solid gray;box-sizing: border-box;top: 0;bottom: 0;left: 50%;z-index: -1;}#sk-container-id-2 div.sk-parallel-item {display: flex;flex-direction: column;z-index: 1;position: relative;background-color: white;}#sk-container-id-2 div.sk-parallel-item:first-child::after {align-self: flex-end;width: 50%;}#sk-container-id-2 div.sk-parallel-item:last-child::after {align-self: flex-start;width: 50%;}#sk-container-id-2 div.sk-parallel-item:only-child::after {width: 0;}#sk-container-id-2 div.sk-dashed-wrapped {border: 1px dashed gray;margin: 0 0.4em 0.5em 0.4em;box-sizing: border-box;padding-bottom: 0.4em;background-color: white;}#sk-container-id-2 div.sk-label label {font-family: monospace;font-weight: bold;display: inline-block;line-height: 1.2em;}#sk-container-id-2 div.sk-label-container {text-align: center;}#sk-container-id-2 div.sk-container {/* jupyter's `normalize.less` sets `[hidden] { display: none; }` but bootstrap.min.css set `[hidden] { display: none !important; }` so we also need the `!important` here to be able to override the default hidden behavior on the sphinx rendered scikit-learn.org. See: https://github.com/scikit-learn/scikit-learn/issues/21755 */display: inline-block !important;position: relative;}#sk-container-id-2 div.sk-text-repr-fallback {display: none;}</style><div id=\"sk-container-id-2\" class=\"sk-top-container\"><div class=\"sk-text-repr-fallback\"><pre>KNeighborsClassifier()</pre><b>In a Jupyter environment, please rerun this cell to show the HTML representation or trust the notebook. <br />On GitHub, the HTML representation is unable to render, please try loading this page with nbviewer.org.</b></div><div class=\"sk-container\" hidden><div class=\"sk-item\"><div class=\"sk-estimator sk-toggleable\"><input class=\"sk-toggleable__control sk-hidden--visually\" id=\"sk-estimator-id-2\" type=\"checkbox\" checked><label for=\"sk-estimator-id-2\" class=\"sk-toggleable__label sk-toggleable__label-arrow\">KNeighborsClassifier</label><div class=\"sk-toggleable__content\"><pre>KNeighborsClassifier()</pre></div></div></div></div></div>"
            ]
          },
          "metadata": {},
          "execution_count": 24
        }
      ]
    },
    {
      "cell_type": "code",
      "source": [
        "y_pred = clf.predict(X_test)"
      ],
      "metadata": {
        "id": "_55L7Yh5H0td"
      },
      "execution_count": null,
      "outputs": []
    },
    {
      "cell_type": "code",
      "source": [
        "clf.score(X_train, y_train), clf.score(X_test, y_test)"
      ],
      "metadata": {
        "colab": {
          "base_uri": "https://localhost:8080/"
        },
        "id": "XUjrbTUjH3L5",
        "outputId": "2231b935-c78a-4bdf-f8db-e6c9a697d123"
      },
      "execution_count": null,
      "outputs": [
        {
          "output_type": "execute_result",
          "data": {
            "text/plain": [
              "(0.9310295790671217, 0.8907849829351536)"
            ]
          },
          "metadata": {},
          "execution_count": 26
        }
      ]
    },
    {
      "cell_type": "code",
      "source": [
        "from sklearn.metrics import classification_report\n",
        "\n",
        "print(classification_report(y_test, y_pred))"
      ],
      "metadata": {
        "colab": {
          "base_uri": "https://localhost:8080/"
        },
        "id": "ah-7ELPyIL4a",
        "outputId": "51e66f98-cefc-47cf-853c-67ad3c3b01ec"
      },
      "execution_count": null,
      "outputs": [
        {
          "output_type": "stream",
          "name": "stdout",
          "text": [
            "              precision    recall  f1-score   support\n",
            "\n",
            "           0       0.92      0.89      0.91       679\n",
            "           1       0.78      0.77      0.77       112\n",
            "          10       0.89      0.90      0.89       673\n",
            "          11       0.87      0.91      0.89       294\n",
            "\n",
            "    accuracy                           0.89      1758\n",
            "   macro avg       0.87      0.87      0.87      1758\n",
            "weighted avg       0.89      0.89      0.89      1758\n",
            "\n"
          ]
        }
      ]
    },
    {
      "cell_type": "markdown",
      "source": [
        "Normalize"
      ],
      "metadata": {
        "id": "C5VbdukiIWwP"
      }
    },
    {
      "cell_type": "code",
      "source": [
        "from sklearn.model_selection import train_test_split\n",
        "\n",
        "X = df.drop('CLASS', axis=1)\n",
        "y = df.CLASS\n",
        "\n",
        "X_train, X_test, y_train, y_test = train_test_split(X, y, test_size=0.2)"
      ],
      "metadata": {
        "id": "C_x0GK2OIayS"
      },
      "execution_count": null,
      "outputs": []
    },
    {
      "cell_type": "code",
      "source": [
        "from sklearn.impute import SimpleImputer\n",
        "\n",
        "imputer = SimpleImputer(missing_values=np.nan, strategy='mean')\n",
        "\n",
        "X_train[X_train.columns] = imputer.fit_transform(X_train)\n",
        "X_test[X_test.columns] = imputer.fit_transform(X_test)"
      ],
      "metadata": {
        "id": "kAYNZelkIayT"
      },
      "execution_count": null,
      "outputs": []
    },
    {
      "cell_type": "code",
      "source": [
        "from sklearn.preprocessing import normalize\n",
        "\n",
        "normalize(X_train, norm=\"l1\")\n",
        "normalize(X_test, norm=\"l1\")"
      ],
      "metadata": {
        "colab": {
          "base_uri": "https://localhost:8080/"
        },
        "id": "i3CEbixyIayT",
        "outputId": "3b60a9c6-bcb4-423a-a8fa-78f2370411f9"
      },
      "execution_count": null,
      "outputs": [
        {
          "output_type": "execute_result",
          "data": {
            "text/plain": [
              "array([[1.98917405e-02, 1.03537450e-01, 3.00415481e-03, ...,\n",
              "        2.05506152e-03, 7.09859035e-04, 3.37281089e-02],\n",
              "       [1.94492931e-02, 4.72023459e-02, 7.70650545e-04, ...,\n",
              "        1.60552197e-05, 2.02295768e-05, 0.00000000e+00],\n",
              "       [2.00302637e-01, 7.82517083e-02, 5.47761958e-03, ...,\n",
              "        1.26506928e-03, 4.62989274e-04, 6.52097569e-03],\n",
              "       ...,\n",
              "       [1.73434392e-02, 1.50904924e-02, 5.05850310e-04, ...,\n",
              "        0.00000000e+00, 0.00000000e+00, 0.00000000e+00],\n",
              "       [4.08351279e-02, 9.56980435e-02, 1.19652274e-02, ...,\n",
              "        2.11605612e-03, 1.60487402e-04, 3.50694694e-02],\n",
              "       [1.65969425e-02, 8.75666906e-02, 4.95193029e-03, ...,\n",
              "        1.56398182e-03, 1.46962702e-04, 1.59520715e-02]])"
            ]
          },
          "metadata": {},
          "execution_count": 30
        }
      ]
    },
    {
      "cell_type": "code",
      "source": [
        "from sklearn.neighbors import KNeighborsClassifier\n",
        "\n",
        "clf = KNeighborsClassifier(5)\n",
        "clf.fit(X_train, y_train)"
      ],
      "metadata": {
        "colab": {
          "base_uri": "https://localhost:8080/",
          "height": 74
        },
        "outputId": "a86ca3fd-8ff1-49c7-dc9b-76f6467e90c8",
        "id": "MFKWJ5LAIayT"
      },
      "execution_count": null,
      "outputs": [
        {
          "output_type": "execute_result",
          "data": {
            "text/plain": [
              "KNeighborsClassifier()"
            ],
            "text/html": [
              "<style>#sk-container-id-3 {color: black;background-color: white;}#sk-container-id-3 pre{padding: 0;}#sk-container-id-3 div.sk-toggleable {background-color: white;}#sk-container-id-3 label.sk-toggleable__label {cursor: pointer;display: block;width: 100%;margin-bottom: 0;padding: 0.3em;box-sizing: border-box;text-align: center;}#sk-container-id-3 label.sk-toggleable__label-arrow:before {content: \"▸\";float: left;margin-right: 0.25em;color: #696969;}#sk-container-id-3 label.sk-toggleable__label-arrow:hover:before {color: black;}#sk-container-id-3 div.sk-estimator:hover label.sk-toggleable__label-arrow:before {color: black;}#sk-container-id-3 div.sk-toggleable__content {max-height: 0;max-width: 0;overflow: hidden;text-align: left;background-color: #f0f8ff;}#sk-container-id-3 div.sk-toggleable__content pre {margin: 0.2em;color: black;border-radius: 0.25em;background-color: #f0f8ff;}#sk-container-id-3 input.sk-toggleable__control:checked~div.sk-toggleable__content {max-height: 200px;max-width: 100%;overflow: auto;}#sk-container-id-3 input.sk-toggleable__control:checked~label.sk-toggleable__label-arrow:before {content: \"▾\";}#sk-container-id-3 div.sk-estimator input.sk-toggleable__control:checked~label.sk-toggleable__label {background-color: #d4ebff;}#sk-container-id-3 div.sk-label input.sk-toggleable__control:checked~label.sk-toggleable__label {background-color: #d4ebff;}#sk-container-id-3 input.sk-hidden--visually {border: 0;clip: rect(1px 1px 1px 1px);clip: rect(1px, 1px, 1px, 1px);height: 1px;margin: -1px;overflow: hidden;padding: 0;position: absolute;width: 1px;}#sk-container-id-3 div.sk-estimator {font-family: monospace;background-color: #f0f8ff;border: 1px dotted black;border-radius: 0.25em;box-sizing: border-box;margin-bottom: 0.5em;}#sk-container-id-3 div.sk-estimator:hover {background-color: #d4ebff;}#sk-container-id-3 div.sk-parallel-item::after {content: \"\";width: 100%;border-bottom: 1px solid gray;flex-grow: 1;}#sk-container-id-3 div.sk-label:hover label.sk-toggleable__label {background-color: #d4ebff;}#sk-container-id-3 div.sk-serial::before {content: \"\";position: absolute;border-left: 1px solid gray;box-sizing: border-box;top: 0;bottom: 0;left: 50%;z-index: 0;}#sk-container-id-3 div.sk-serial {display: flex;flex-direction: column;align-items: center;background-color: white;padding-right: 0.2em;padding-left: 0.2em;position: relative;}#sk-container-id-3 div.sk-item {position: relative;z-index: 1;}#sk-container-id-3 div.sk-parallel {display: flex;align-items: stretch;justify-content: center;background-color: white;position: relative;}#sk-container-id-3 div.sk-item::before, #sk-container-id-3 div.sk-parallel-item::before {content: \"\";position: absolute;border-left: 1px solid gray;box-sizing: border-box;top: 0;bottom: 0;left: 50%;z-index: -1;}#sk-container-id-3 div.sk-parallel-item {display: flex;flex-direction: column;z-index: 1;position: relative;background-color: white;}#sk-container-id-3 div.sk-parallel-item:first-child::after {align-self: flex-end;width: 50%;}#sk-container-id-3 div.sk-parallel-item:last-child::after {align-self: flex-start;width: 50%;}#sk-container-id-3 div.sk-parallel-item:only-child::after {width: 0;}#sk-container-id-3 div.sk-dashed-wrapped {border: 1px dashed gray;margin: 0 0.4em 0.5em 0.4em;box-sizing: border-box;padding-bottom: 0.4em;background-color: white;}#sk-container-id-3 div.sk-label label {font-family: monospace;font-weight: bold;display: inline-block;line-height: 1.2em;}#sk-container-id-3 div.sk-label-container {text-align: center;}#sk-container-id-3 div.sk-container {/* jupyter's `normalize.less` sets `[hidden] { display: none; }` but bootstrap.min.css set `[hidden] { display: none !important; }` so we also need the `!important` here to be able to override the default hidden behavior on the sphinx rendered scikit-learn.org. See: https://github.com/scikit-learn/scikit-learn/issues/21755 */display: inline-block !important;position: relative;}#sk-container-id-3 div.sk-text-repr-fallback {display: none;}</style><div id=\"sk-container-id-3\" class=\"sk-top-container\"><div class=\"sk-text-repr-fallback\"><pre>KNeighborsClassifier()</pre><b>In a Jupyter environment, please rerun this cell to show the HTML representation or trust the notebook. <br />On GitHub, the HTML representation is unable to render, please try loading this page with nbviewer.org.</b></div><div class=\"sk-container\" hidden><div class=\"sk-item\"><div class=\"sk-estimator sk-toggleable\"><input class=\"sk-toggleable__control sk-hidden--visually\" id=\"sk-estimator-id-3\" type=\"checkbox\" checked><label for=\"sk-estimator-id-3\" class=\"sk-toggleable__label sk-toggleable__label-arrow\">KNeighborsClassifier</label><div class=\"sk-toggleable__content\"><pre>KNeighborsClassifier()</pre></div></div></div></div></div>"
            ]
          },
          "metadata": {},
          "execution_count": 31
        }
      ]
    },
    {
      "cell_type": "code",
      "source": [
        "y_pred = clf.predict(X_test)"
      ],
      "metadata": {
        "id": "3HxxJqgdIayU"
      },
      "execution_count": null,
      "outputs": []
    },
    {
      "cell_type": "code",
      "source": [
        "clf.score(X_train, y_train), clf.score(X_test, y_test)"
      ],
      "metadata": {
        "colab": {
          "base_uri": "https://localhost:8080/"
        },
        "outputId": "74fe270e-a371-4897-decb-f6c6dc4c2aef",
        "id": "RYVcnFtFIayU"
      },
      "execution_count": null,
      "outputs": [
        {
          "output_type": "execute_result",
          "data": {
            "text/plain": [
              "(0.8986063708759955, 0.8680318543799772)"
            ]
          },
          "metadata": {},
          "execution_count": 33
        }
      ]
    },
    {
      "cell_type": "code",
      "source": [
        "from sklearn.metrics import classification_report\n",
        "\n",
        "print(classification_report(y_test, y_pred))"
      ],
      "metadata": {
        "colab": {
          "base_uri": "https://localhost:8080/"
        },
        "outputId": "861afc54-3f58-4f02-c9ca-795dd001f8cd",
        "id": "aP3uaDVuIayU"
      },
      "execution_count": null,
      "outputs": [
        {
          "output_type": "stream",
          "name": "stdout",
          "text": [
            "              precision    recall  f1-score   support\n",
            "\n",
            "           0       0.90      0.89      0.90       698\n",
            "           1       0.74      0.67      0.71       104\n",
            "          10       0.87      0.88      0.87       679\n",
            "          11       0.82      0.86      0.84       277\n",
            "\n",
            "    accuracy                           0.87      1758\n",
            "   macro avg       0.84      0.83      0.83      1758\n",
            "weighted avg       0.87      0.87      0.87      1758\n",
            "\n"
          ]
        }
      ]
    },
    {
      "cell_type": "markdown",
      "source": [
        "Без нормализации"
      ],
      "metadata": {
        "id": "lLWOMexmJCzR"
      }
    },
    {
      "cell_type": "code",
      "source": [
        "from sklearn.model_selection import train_test_split\n",
        "\n",
        "X = df.drop('CLASS', axis=1)\n",
        "y = df.CLASS\n",
        "\n",
        "X_train, X_test, y_train, y_test = train_test_split(X, y, test_size=0.2)"
      ],
      "metadata": {
        "id": "xxc1-8IEJHgR"
      },
      "execution_count": null,
      "outputs": []
    },
    {
      "cell_type": "code",
      "source": [
        "from sklearn.impute import SimpleImputer\n",
        "\n",
        "imputer = SimpleImputer(missing_values=np.nan, strategy='mean')\n",
        "\n",
        "X_train[X_train.columns] = imputer.fit_transform(X_train)\n",
        "X_test[X_test.columns] = imputer.fit_transform(X_test)"
      ],
      "metadata": {
        "id": "LezbHyCWJHgS"
      },
      "execution_count": null,
      "outputs": []
    },
    {
      "cell_type": "code",
      "source": [
        "from sklearn.neighbors import KNeighborsClassifier\n",
        "\n",
        "clf = KNeighborsClassifier(5)\n",
        "clf.fit(X_train, y_train)"
      ],
      "metadata": {
        "colab": {
          "base_uri": "https://localhost:8080/",
          "height": 74
        },
        "outputId": "66f4fee7-3215-42c5-ec97-eca0c0ae58e8",
        "id": "IV6zA761JHgT"
      },
      "execution_count": null,
      "outputs": [
        {
          "output_type": "execute_result",
          "data": {
            "text/plain": [
              "KNeighborsClassifier()"
            ],
            "text/html": [
              "<style>#sk-container-id-4 {color: black;background-color: white;}#sk-container-id-4 pre{padding: 0;}#sk-container-id-4 div.sk-toggleable {background-color: white;}#sk-container-id-4 label.sk-toggleable__label {cursor: pointer;display: block;width: 100%;margin-bottom: 0;padding: 0.3em;box-sizing: border-box;text-align: center;}#sk-container-id-4 label.sk-toggleable__label-arrow:before {content: \"▸\";float: left;margin-right: 0.25em;color: #696969;}#sk-container-id-4 label.sk-toggleable__label-arrow:hover:before {color: black;}#sk-container-id-4 div.sk-estimator:hover label.sk-toggleable__label-arrow:before {color: black;}#sk-container-id-4 div.sk-toggleable__content {max-height: 0;max-width: 0;overflow: hidden;text-align: left;background-color: #f0f8ff;}#sk-container-id-4 div.sk-toggleable__content pre {margin: 0.2em;color: black;border-radius: 0.25em;background-color: #f0f8ff;}#sk-container-id-4 input.sk-toggleable__control:checked~div.sk-toggleable__content {max-height: 200px;max-width: 100%;overflow: auto;}#sk-container-id-4 input.sk-toggleable__control:checked~label.sk-toggleable__label-arrow:before {content: \"▾\";}#sk-container-id-4 div.sk-estimator input.sk-toggleable__control:checked~label.sk-toggleable__label {background-color: #d4ebff;}#sk-container-id-4 div.sk-label input.sk-toggleable__control:checked~label.sk-toggleable__label {background-color: #d4ebff;}#sk-container-id-4 input.sk-hidden--visually {border: 0;clip: rect(1px 1px 1px 1px);clip: rect(1px, 1px, 1px, 1px);height: 1px;margin: -1px;overflow: hidden;padding: 0;position: absolute;width: 1px;}#sk-container-id-4 div.sk-estimator {font-family: monospace;background-color: #f0f8ff;border: 1px dotted black;border-radius: 0.25em;box-sizing: border-box;margin-bottom: 0.5em;}#sk-container-id-4 div.sk-estimator:hover {background-color: #d4ebff;}#sk-container-id-4 div.sk-parallel-item::after {content: \"\";width: 100%;border-bottom: 1px solid gray;flex-grow: 1;}#sk-container-id-4 div.sk-label:hover label.sk-toggleable__label {background-color: #d4ebff;}#sk-container-id-4 div.sk-serial::before {content: \"\";position: absolute;border-left: 1px solid gray;box-sizing: border-box;top: 0;bottom: 0;left: 50%;z-index: 0;}#sk-container-id-4 div.sk-serial {display: flex;flex-direction: column;align-items: center;background-color: white;padding-right: 0.2em;padding-left: 0.2em;position: relative;}#sk-container-id-4 div.sk-item {position: relative;z-index: 1;}#sk-container-id-4 div.sk-parallel {display: flex;align-items: stretch;justify-content: center;background-color: white;position: relative;}#sk-container-id-4 div.sk-item::before, #sk-container-id-4 div.sk-parallel-item::before {content: \"\";position: absolute;border-left: 1px solid gray;box-sizing: border-box;top: 0;bottom: 0;left: 50%;z-index: -1;}#sk-container-id-4 div.sk-parallel-item {display: flex;flex-direction: column;z-index: 1;position: relative;background-color: white;}#sk-container-id-4 div.sk-parallel-item:first-child::after {align-self: flex-end;width: 50%;}#sk-container-id-4 div.sk-parallel-item:last-child::after {align-self: flex-start;width: 50%;}#sk-container-id-4 div.sk-parallel-item:only-child::after {width: 0;}#sk-container-id-4 div.sk-dashed-wrapped {border: 1px dashed gray;margin: 0 0.4em 0.5em 0.4em;box-sizing: border-box;padding-bottom: 0.4em;background-color: white;}#sk-container-id-4 div.sk-label label {font-family: monospace;font-weight: bold;display: inline-block;line-height: 1.2em;}#sk-container-id-4 div.sk-label-container {text-align: center;}#sk-container-id-4 div.sk-container {/* jupyter's `normalize.less` sets `[hidden] { display: none; }` but bootstrap.min.css set `[hidden] { display: none !important; }` so we also need the `!important` here to be able to override the default hidden behavior on the sphinx rendered scikit-learn.org. See: https://github.com/scikit-learn/scikit-learn/issues/21755 */display: inline-block !important;position: relative;}#sk-container-id-4 div.sk-text-repr-fallback {display: none;}</style><div id=\"sk-container-id-4\" class=\"sk-top-container\"><div class=\"sk-text-repr-fallback\"><pre>KNeighborsClassifier()</pre><b>In a Jupyter environment, please rerun this cell to show the HTML representation or trust the notebook. <br />On GitHub, the HTML representation is unable to render, please try loading this page with nbviewer.org.</b></div><div class=\"sk-container\" hidden><div class=\"sk-item\"><div class=\"sk-estimator sk-toggleable\"><input class=\"sk-toggleable__control sk-hidden--visually\" id=\"sk-estimator-id-4\" type=\"checkbox\" checked><label for=\"sk-estimator-id-4\" class=\"sk-toggleable__label sk-toggleable__label-arrow\">KNeighborsClassifier</label><div class=\"sk-toggleable__content\"><pre>KNeighborsClassifier()</pre></div></div></div></div></div>"
            ]
          },
          "metadata": {},
          "execution_count": 37
        }
      ]
    },
    {
      "cell_type": "code",
      "source": [
        "y_pred = clf.predict(X_test)"
      ],
      "metadata": {
        "id": "e65piyl7JHgT"
      },
      "execution_count": null,
      "outputs": []
    },
    {
      "cell_type": "code",
      "source": [
        "clf.score(X_train, y_train), clf.score(X_test, y_test)"
      ],
      "metadata": {
        "colab": {
          "base_uri": "https://localhost:8080/"
        },
        "outputId": "3942eb68-eea6-419b-bc4c-149edae2b249",
        "id": "08YUR3WQJHgT"
      },
      "execution_count": null,
      "outputs": [
        {
          "output_type": "execute_result",
          "data": {
            "text/plain": [
              "(0.9003128555176336, 0.8549488054607508)"
            ]
          },
          "metadata": {},
          "execution_count": 39
        }
      ]
    },
    {
      "cell_type": "code",
      "source": [
        "from sklearn.metrics import classification_report\n",
        "\n",
        "print(classification_report(y_test, y_pred))"
      ],
      "metadata": {
        "colab": {
          "base_uri": "https://localhost:8080/"
        },
        "outputId": "e6833fd5-c9af-4490-b039-0b98e277ae04",
        "id": "Eq3Pj5i2JHgT"
      },
      "execution_count": null,
      "outputs": [
        {
          "output_type": "stream",
          "name": "stdout",
          "text": [
            "              precision    recall  f1-score   support\n",
            "\n",
            "           0       0.90      0.87      0.88       686\n",
            "           1       0.77      0.70      0.73       115\n",
            "          10       0.86      0.86      0.86       680\n",
            "          11       0.79      0.88      0.83       277\n",
            "\n",
            "    accuracy                           0.85      1758\n",
            "   macro avg       0.83      0.83      0.83      1758\n",
            "weighted avg       0.86      0.85      0.85      1758\n",
            "\n"
          ]
        }
      ]
    },
    {
      "cell_type": "markdown",
      "source": [
        "Подберите значения гиперпараметров (количество соседей и метрику расстояния) с помощью GridSearchCV."
      ],
      "metadata": {
        "id": "0nEoqInNJkV_"
      }
    },
    {
      "cell_type": "code",
      "source": [
        "from sklearn.model_selection import GridSearchCV\n",
        "\n",
        "params = {'n_neighbors': [3, 5, 7, 11],\n",
        "          'metric': ['cityblock', 'euclidean', 'l1', 'l2', 'manhattan', 'nan_euclidean']}"
      ],
      "metadata": {
        "id": "ji0o7oBcJk6j"
      },
      "execution_count": null,
      "outputs": []
    },
    {
      "cell_type": "code",
      "source": [
        "gs = GridSearchCV(KNeighborsClassifier(), params, cv = 5)"
      ],
      "metadata": {
        "id": "qZMtDcrUKsC2"
      },
      "execution_count": null,
      "outputs": []
    },
    {
      "cell_type": "code",
      "source": [
        "clf_gs = gs.fit(X_train, y_train)"
      ],
      "metadata": {
        "id": "UPK2wyh9LQpV"
      },
      "execution_count": null,
      "outputs": []
    },
    {
      "cell_type": "code",
      "source": [
        "clf_gs.score(X_test, y_test)"
      ],
      "metadata": {
        "colab": {
          "base_uri": "https://localhost:8080/"
        },
        "id": "MlNblV5-MWXN",
        "outputId": "78c9f263-d883-4075-e674-61e21a7dfb7e"
      },
      "execution_count": null,
      "outputs": [
        {
          "output_type": "execute_result",
          "data": {
            "text/plain": [
              "0.8845278725824801"
            ]
          },
          "metadata": {},
          "execution_count": 44
        }
      ]
    },
    {
      "cell_type": "code",
      "source": [
        "y_pred = clf_gs.predict(X_test)"
      ],
      "metadata": {
        "id": "DBi-1_2jQTX3"
      },
      "execution_count": null,
      "outputs": []
    },
    {
      "cell_type": "code",
      "source": [
        "print(classification_report(y_test, y_pred))"
      ],
      "metadata": {
        "colab": {
          "base_uri": "https://localhost:8080/"
        },
        "id": "gkTNWTfyQNmr",
        "outputId": "c8dc2ab3-8564-4257-9288-220d8c668089"
      },
      "execution_count": null,
      "outputs": [
        {
          "output_type": "stream",
          "name": "stdout",
          "text": [
            "              precision    recall  f1-score   support\n",
            "\n",
            "           0       0.92      0.90      0.91       686\n",
            "           1       0.81      0.74      0.77       115\n",
            "          10       0.89      0.88      0.89       680\n",
            "          11       0.81      0.93      0.87       277\n",
            "\n",
            "    accuracy                           0.88      1758\n",
            "   macro avg       0.86      0.86      0.86      1758\n",
            "weighted avg       0.89      0.88      0.88      1758\n",
            "\n"
          ]
        }
      ]
    },
    {
      "cell_type": "markdown",
      "source": [
        "Сделайте выводы об использовании (плюсах и минусах) метода k-ближайших соседей для классификации в целом и применительно к рассмотренному набору данных."
      ],
      "metadata": {
        "id": "PlusIo4NOw14"
      }
    },
    {
      "cell_type": "markdown",
      "source": [
        "Плюсы:\n",
        "\n",
        "+ Простота\n",
        "+ Не требует предположений о данных\n",
        "+ Хорошо справляется с нелинейными зависимостями\n",
        "\n",
        "Минусы:\n",
        "\n",
        "- Вычислительная сложность\n",
        "- Недостаточная эффективность на больших наборах данных\n",
        "- Неэффективность при большом количестве признаков\n"
      ],
      "metadata": {
        "id": "eN6Ev9pHOxpf"
      }
    },
    {
      "cell_type": "markdown",
      "source": [
        "Проведите предварительный отбор признаков и оцените результаты предсказаний, если:\n",
        "\n",
        "- оставить только по одному из сильно коррелирующих признаков\n",
        "- объединить группу связанных по смыслу признаков в один (например, для витамина A)\n",
        "- повторно выбирать случайным образом поднабор из нескольких признаков и запоминать лучшие результаты (например, выбирать по 5 или по 7 признаков с помощью random.sample, повторять выбор 100 раз)\n",
        "- использовать методы уменьшения размерности (например, PCA)\n",
        "- свой вариант отбора и подготовки признаков."
      ],
      "metadata": {
        "id": "C0h6O655Qngw"
      }
    },
    {
      "cell_type": "markdown",
      "source": [
        "- оставить только по одному из сильно коррелирующих признаков"
      ],
      "metadata": {
        "id": "2SBckiKq_8Cm"
      }
    },
    {
      "cell_type": "code",
      "source": [
        "sns.heatmap(df.corr())"
      ],
      "metadata": {
        "colab": {
          "base_uri": "https://localhost:8080/",
          "height": 578
        },
        "id": "n4x8rxf-R9pe",
        "outputId": "8770c978-a852-412b-e9cb-64f30997e6ea"
      },
      "execution_count": null,
      "outputs": [
        {
          "output_type": "execute_result",
          "data": {
            "text/plain": [
              "<Axes: >"
            ]
          },
          "metadata": {},
          "execution_count": 47
        },
        {
          "output_type": "display_data",
          "data": {
            "text/plain": [
              "<Figure size 640x480 with 2 Axes>"
            ],
            "image/png": "[encoded data removed]"
          },
          "metadata": {}
        }
      ]
    },
    {
      "cell_type": "code",
      "source": [
        "def get_redundant_pairs(df):\n",
        "    pairs_to_drop = set()\n",
        "    cols = df.columns\n",
        "    for i in range(0, df.shape[1]):\n",
        "        for j in range(0, i+1):\n",
        "            pairs_to_drop.add((cols[i], cols[j]))\n",
        "    return pairs_to_drop\n",
        "\n",
        "def get_top_abs_correlations(df):\n",
        "    au_corr = df.corr().abs().unstack()\n",
        "    labels_to_drop = get_redundant_pairs(df)\n",
        "    au_corr = au_corr.drop(labels=labels_to_drop).sort_values(ascending=False)\n",
        "    return au_corr[au_corr.values >= 0.9]"
      ],
      "metadata": {
        "id": "F8M_uyTdRyJi"
      },
      "execution_count": null,
      "outputs": []
    },
    {
      "cell_type": "code",
      "source": [
        "s = get_top_abs_correlations(df)\n",
        "s"
      ],
      "metadata": {
        "colab": {
          "base_uri": "https://localhost:8080/"
        },
        "id": "pJxB_OBiUija",
        "outputId": "25b9651a-adbc-4311-fd9d-27325c54d964"
      },
      "execution_count": null,
      "outputs": [
        {
          "output_type": "execute_result",
          "data": {
            "text/plain": [
              "Vit_D_µg         Vit_D_IU           0.999987\n",
              "Vit_A_RAE        Retinol_(µg)       0.989172\n",
              "Folate_Tot_(µg)  Folate_DFE_(µg)    0.982891\n",
              "Folic_Acid_(µg)  Folate_DFE_(µg)    0.952292\n",
              "Water_(g)        Energ_Kcal         0.900554\n",
              "dtype: float64"
            ]
          },
          "metadata": {},
          "execution_count": 49
        }
      ]
    },
    {
      "cell_type": "code",
      "source": [
        "s = s.index.to_list()\n",
        "s = [x[0] for x in s]\n",
        "\n",
        "s"
      ],
      "metadata": {
        "colab": {
          "base_uri": "https://localhost:8080/"
        },
        "id": "ZxGHfdpaXjEB",
        "outputId": "0ac71aed-9e42-4709-f504-3ace880ec3ca"
      },
      "execution_count": null,
      "outputs": [
        {
          "output_type": "execute_result",
          "data": {
            "text/plain": [
              "['Vit_D_µg', 'Vit_A_RAE', 'Folate_Tot_(µg)', 'Folic_Acid_(µg)', 'Water_(g)']"
            ]
          },
          "metadata": {},
          "execution_count": 50
        }
      ]
    },
    {
      "cell_type": "code",
      "source": [
        "df1 = df.copy()\n",
        "\n",
        "df1 = df1.drop(s, axis=1)\n",
        "\n",
        "df1"
      ],
      "metadata": {
        "colab": {
          "base_uri": "https://localhost:8080/",
          "height": 461
        },
        "id": "yP31PelJYDUE",
        "outputId": "57822fcd-ded6-426c-c951-ae0f7d6db526"
      },
      "execution_count": null,
      "outputs": [
        {
          "output_type": "execute_result",
          "data": {
            "text/plain": [
              "      Energ_Kcal  Protein_(g)  Lipid_Tot_(g)  Ash_(g)  Carbohydrt_(g)  \\\n",
              "0            717         0.85          81.11     2.11            0.06   \n",
              "1            718         0.49          78.30     1.62            2.87   \n",
              "2            876         0.28          99.48     0.00            0.00   \n",
              "3            353        21.40          28.74     5.11            2.34   \n",
              "4            371        23.24          29.68     3.18            2.79   \n",
              "...          ...          ...            ...      ...             ...   \n",
              "8785         305        18.50          25.10    13.40            0.00   \n",
              "8786         111        20.54           0.84     2.97            5.41   \n",
              "8787         269         0.00           0.00     0.86           73.14   \n",
              "8788          90        16.10           1.40     1.30            2.00   \n",
              "8789          89        19.80           0.50     1.20            0.00   \n",
              "\n",
              "      Fiber_TD_(g)  Sugar_Tot_(g)  Calcium_(mg)  Iron_(mg)  Magnesium_(mg)  \\\n",
              "0              0.0           0.06          24.0       0.02             2.0   \n",
              "1              0.0           0.06          23.0       0.05             1.0   \n",
              "2              0.0           0.00           4.0       0.00             0.0   \n",
              "3              0.0           0.50         528.0       0.31            23.0   \n",
              "4              0.0           0.51         674.0       0.43            24.0   \n",
              "...            ...            ...           ...        ...             ...   \n",
              "8785           0.0           0.00          66.0       1.40            60.0   \n",
              "8786           0.0           0.00          10.0       0.58            37.0   \n",
              "8787           0.0          73.20          13.0       3.60            10.0   \n",
              "8788           0.0           0.00          10.0       3.50           250.0   \n",
              "8789           0.0           0.00         118.0       1.40            20.0   \n",
              "\n",
              "      Phosphorus_(mg)  Potassium_(mg)  Sodium_(mg)  Zinc_(mg)  Copper_mg)  \\\n",
              "0                24.0            24.0        643.0       0.09       0.000   \n",
              "1                24.0            41.0        583.0       0.05       0.010   \n",
              "2                 3.0             5.0          2.0       0.01       0.001   \n",
              "3               387.0           256.0       1146.0       2.66       0.040   \n",
              "4               451.0           136.0        560.0       2.60       0.024   \n",
              "...               ...             ...          ...        ...         ...   \n",
              "8785            254.0           520.0       4450.0       1.10       0.100   \n",
              "8786            426.0           314.0        667.0       1.55       0.033   \n",
              "8787              8.0            63.0         58.0       0.19       0.020   \n",
              "8788            272.0           382.0         70.0       1.00       0.400   \n",
              "8789            180.0           230.0         68.0       1.00       0.250   \n",
              "\n",
              "      Manganese_(mg)  Selenium_(µg)  Vit_C_(mg)  Thiamin_(mg)  \\\n",
              "0              0.000            1.0         0.0         0.005   \n",
              "1              0.001            0.0         0.0         0.007   \n",
              "2              0.000            0.0         0.0         0.001   \n",
              "3              0.009           14.5         0.0         0.029   \n",
              "4              0.012           14.5         0.0         0.014   \n",
              "...              ...            ...         ...           ...   \n",
              "8785             NaN           73.4         0.0         0.020   \n",
              "8786           0.029           21.7         0.0         0.012   \n",
              "8787             NaN            0.7         0.0         0.130   \n",
              "8788             NaN           27.4         0.0         0.010   \n",
              "8789             NaN           16.8         0.0         0.120   \n",
              "\n",
              "      Riboflavin_(mg)  Niacin_(mg)  Panto_Acid_mg)  Vit_B6_(mg)  \\\n",
              "0               0.034        0.042           0.110        0.003   \n",
              "1               0.064        0.022           0.097        0.008   \n",
              "2               0.005        0.003           0.010        0.001   \n",
              "3               0.382        1.016           1.729        0.166   \n",
              "4               0.351        0.118           0.288        0.065   \n",
              "...               ...          ...             ...          ...   \n",
              "8785            0.190        3.300             NaN        0.410   \n",
              "8786            0.024        1.076           0.366        0.112   \n",
              "8787            0.060        0.100             NaN        0.000   \n",
              "8788            0.120        1.400             NaN        0.130   \n",
              "8789            0.150        1.100             NaN        0.120   \n",
              "\n",
              "      Food_Folate_(µg)  Folate_DFE_(µg)  Choline_Tot_ (mg)  Vit_B12_(µg)  \\\n",
              "0                  3.0              3.0               18.8          0.17   \n",
              "1                  4.0              4.0               18.8          0.07   \n",
              "2                  0.0              0.0               22.3          0.01   \n",
              "3                 36.0             36.0               15.4          1.22   \n",
              "4                 20.0             20.0               15.4          1.26   \n",
              "...                ...              ...                ...           ...   \n",
              "8785              15.0             15.0              101.6         12.00   \n",
              "8786              20.0             20.0              110.7          2.15   \n",
              "8787               0.0              0.0                NaN          0.00   \n",
              "8788               6.0              6.0               65.0          0.50   \n",
              "8789              15.0             15.0               65.0          1.00   \n",
              "\n",
              "      Vit_A_IU  Retinol_(µg)  Alpha_Carot_(µg)  Beta_Carot_(µg)  \\\n",
              "0       2499.0         671.0               0.0            158.0   \n",
              "1       2468.0         671.0               1.0            135.0   \n",
              "2       3069.0         824.0               0.0            193.0   \n",
              "3        721.0         192.0               0.0             74.0   \n",
              "4       1080.0         286.0               0.0             76.0   \n",
              "...        ...           ...               ...              ...   \n",
              "8785     157.0          47.0               0.0              0.0   \n",
              "8786       5.0           2.0               0.0              0.0   \n",
              "8787       0.0           0.0               0.0              0.0   \n",
              "8788     100.0          30.0               0.0              0.0   \n",
              "8789     100.0          30.0               0.0              0.0   \n",
              "\n",
              "      Beta_Crypt_(µg)  Lycopene_(µg)  Lut+Zea_ (µg)  Vit_E_(mg)  Vit_D_IU  \\\n",
              "0                 0.0            0.0            0.0        2.32       0.0   \n",
              "1                 6.0            0.0           13.0        1.37       0.0   \n",
              "2                 0.0            0.0            0.0        2.80       0.0   \n",
              "3                 0.0            0.0            0.0        0.25      21.0   \n",
              "4                 0.0            0.0            0.0        0.26      22.0   \n",
              "...               ...            ...            ...         ...       ...   \n",
              "8785              0.0            0.0            0.0        2.38    1006.0   \n",
              "8786              0.0            0.0            0.0        0.00       2.0   \n",
              "8787              0.0            0.0            0.0        0.00       0.0   \n",
              "8788              0.0            0.0            0.0        5.00       0.0   \n",
              "8789              0.0            0.0            0.0        0.50       0.0   \n",
              "\n",
              "      Vit_K_(µg)  FA_Sat_(g)  FA_Mono_(g)  FA_Poly_(g)  Cholestrl_(mg)  CLASS  \n",
              "0            7.0      51.368       21.021        3.043           215.0     10  \n",
              "1            4.6      45.390       19.874        3.331           225.0     10  \n",
              "2            8.6      61.924       28.732        3.694           256.0      0  \n",
              "3            2.4      18.669        7.778        0.800            75.0     10  \n",
              "4            2.5      18.764        8.598        0.784            94.0     10  \n",
              "...          ...         ...          ...          ...             ...    ...  \n",
              "8785         7.8       7.148        8.320        6.210            95.0      0  \n",
              "8786         0.0       0.218        0.082        0.222            41.0      0  \n",
              "8787         0.0       0.000        0.000        0.000             0.0     10  \n",
              "8788         0.1       0.361        0.259        0.252            50.0      0  \n",
              "8789         0.1       0.127        0.088        0.170            50.0      0  \n",
              "\n",
              "[8790 rows x 42 columns]"
            ],
            "text/html": [
              "\n",
              "  <div id=\"df-373f1248-ab96-4e69-9fdc-301fdfac756a\" class=\"colab-df-container\">\n",
              "    <div>\n",
              "<style scoped>\n",
              "    .dataframe tbody tr th:only-of-type {\n",
              "        vertical-align: middle;\n",
              "    }\n",
              "\n",
              "    .dataframe tbody tr th {\n",
              "        vertical-align: top;\n",
              "    }\n",
              "\n",
              "    .dataframe thead th {\n",
              "        text-align: right;\n",
              "    }\n",
              "</style>\n",
              "<table border=\"1\" class=\"dataframe\">\n",
              "  <thead>\n",
              "    <tr style=\"text-align: right;\">\n",
              "      <th></th>\n",
              "      <th>Energ_Kcal</th>\n",
              "      <th>Protein_(g)</th>\n",
              "      <th>Lipid_Tot_(g)</th>\n",
              "      <th>Ash_(g)</th>\n",
              "      <th>Carbohydrt_(g)</th>\n",
              "      <th>Fiber_TD_(g)</th>\n",
              "      <th>Sugar_Tot_(g)</th>\n",
              "      <th>Calcium_(mg)</th>\n",
              "      <th>Iron_(mg)</th>\n",
              "      <th>Magnesium_(mg)</th>\n",
              "      <th>Phosphorus_(mg)</th>\n",
              "      <th>Potassium_(mg)</th>\n",
              "      <th>Sodium_(mg)</th>\n",
              "      <th>Zinc_(mg)</th>\n",
              "      <th>Copper_mg)</th>\n",
              "      <th>Manganese_(mg)</th>\n",
              "      <th>Selenium_(µg)</th>\n",
              "      <th>Vit_C_(mg)</th>\n",
              "      <th>Thiamin_(mg)</th>\n",
              "      <th>Riboflavin_(mg)</th>\n",
              "      <th>Niacin_(mg)</th>\n",
              "      <th>Panto_Acid_mg)</th>\n",
              "      <th>Vit_B6_(mg)</th>\n",
              "      <th>Food_Folate_(µg)</th>\n",
              "      <th>Folate_DFE_(µg)</th>\n",
              "      <th>Choline_Tot_ (mg)</th>\n",
              "      <th>Vit_B12_(µg)</th>\n",
              "      <th>Vit_A_IU</th>\n",
              "      <th>Retinol_(µg)</th>\n",
              "      <th>Alpha_Carot_(µg)</th>\n",
              "      <th>Beta_Carot_(µg)</th>\n",
              "      <th>Beta_Crypt_(µg)</th>\n",
              "      <th>Lycopene_(µg)</th>\n",
              "      <th>Lut+Zea_ (µg)</th>\n",
              "      <th>Vit_E_(mg)</th>\n",
              "      <th>Vit_D_IU</th>\n",
              "      <th>Vit_K_(µg)</th>\n",
              "      <th>FA_Sat_(g)</th>\n",
              "      <th>FA_Mono_(g)</th>\n",
              "      <th>FA_Poly_(g)</th>\n",
              "      <th>Cholestrl_(mg)</th>\n",
              "      <th>CLASS</th>\n",
              "    </tr>\n",
              "  </thead>\n",
              "  <tbody>\n",
              "    <tr>\n",
              "      <th>0</th>\n",
              "      <td>717</td>\n",
              "      <td>0.85</td>\n",
              "      <td>81.11</td>\n",
              "      <td>2.11</td>\n",
              "      <td>0.06</td>\n",
              "      <td>0.0</td>\n",
              "      <td>0.06</td>\n",
              "      <td>24.0</td>\n",
              "      <td>0.02</td>\n",
              "      <td>2.0</td>\n",
              "      <td>24.0</td>\n",
              "      <td>24.0</td>\n",
              "      <td>643.0</td>\n",
              "      <td>0.09</td>\n",
              "      <td>0.000</td>\n",
              "      <td>0.000</td>\n",
              "      <td>1.0</td>\n",
              "      <td>0.0</td>\n",
              "      <td>0.005</td>\n",
              "      <td>0.034</td>\n",
              "      <td>0.042</td>\n",
              "      <td>0.110</td>\n",
              "      <td>0.003</td>\n",
              "      <td>3.0</td>\n",
              "      <td>3.0</td>\n",
              "      <td>18.8</td>\n",
              "      <td>0.17</td>\n",
              "      <td>2499.0</td>\n",
              "      <td>671.0</td>\n",
              "      <td>0.0</td>\n",
              "      <td>158.0</td>\n",
              "      <td>0.0</td>\n",
              "      <td>0.0</td>\n",
              "      <td>0.0</td>\n",
              "      <td>2.32</td>\n",
              "      <td>0.0</td>\n",
              "      <td>7.0</td>\n",
              "      <td>51.368</td>\n",
              "      <td>21.021</td>\n",
              "      <td>3.043</td>\n",
              "      <td>215.0</td>\n",
              "      <td>10</td>\n",
              "    </tr>\n",
              "    <tr>\n",
              "      <th>1</th>\n",
              "      <td>718</td>\n",
              "      <td>0.49</td>\n",
              "      <td>78.30</td>\n",
              "      <td>1.62</td>\n",
              "      <td>2.87</td>\n",
              "      <td>0.0</td>\n",
              "      <td>0.06</td>\n",
              "      <td>23.0</td>\n",
              "      <td>0.05</td>\n",
              "      <td>1.0</td>\n",
              "      <td>24.0</td>\n",
              "      <td>41.0</td>\n",
              "      <td>583.0</td>\n",
              "      <td>0.05</td>\n",
              "      <td>0.010</td>\n",
              "      <td>0.001</td>\n",
              "      <td>0.0</td>\n",
              "      <td>0.0</td>\n",
              "      <td>0.007</td>\n",
              "      <td>0.064</td>\n",
              "      <td>0.022</td>\n",
              "      <td>0.097</td>\n",
              "      <td>0.008</td>\n",
              "      <td>4.0</td>\n",
              "      <td>4.0</td>\n",
              "      <td>18.8</td>\n",
              "      <td>0.07</td>\n",
              "      <td>2468.0</td>\n",
              "      <td>671.0</td>\n",
              "      <td>1.0</td>\n",
              "      <td>135.0</td>\n",
              "      <td>6.0</td>\n",
              "      <td>0.0</td>\n",
              "      <td>13.0</td>\n",
              "      <td>1.37</td>\n",
              "      <td>0.0</td>\n",
              "      <td>4.6</td>\n",
              "      <td>45.390</td>\n",
              "      <td>19.874</td>\n",
              "      <td>3.331</td>\n",
              "      <td>225.0</td>\n",
              "      <td>10</td>\n",
              "    </tr>\n",
              "    <tr>\n",
              "      <th>2</th>\n",
              "      <td>876</td>\n",
              "      <td>0.28</td>\n",
              "      <td>99.48</td>\n",
              "      <td>0.00</td>\n",
              "      <td>0.00</td>\n",
              "      <td>0.0</td>\n",
              "      <td>0.00</td>\n",
              "      <td>4.0</td>\n",
              "      <td>0.00</td>\n",
              "      <td>0.0</td>\n",
              "      <td>3.0</td>\n",
              "      <td>5.0</td>\n",
              "      <td>2.0</td>\n",
              "      <td>0.01</td>\n",
              "      <td>0.001</td>\n",
              "      <td>0.000</td>\n",
              "      <td>0.0</td>\n",
              "      <td>0.0</td>\n",
              "      <td>0.001</td>\n",
              "      <td>0.005</td>\n",
              "      <td>0.003</td>\n",
              "      <td>0.010</td>\n",
              "      <td>0.001</td>\n",
              "      <td>0.0</td>\n",
              "      <td>0.0</td>\n",
              "      <td>22.3</td>\n",
              "      <td>0.01</td>\n",
              "      <td>3069.0</td>\n",
              "      <td>824.0</td>\n",
              "      <td>0.0</td>\n",
              "      <td>193.0</td>\n",
              "      <td>0.0</td>\n",
              "      <td>0.0</td>\n",
              "      <td>0.0</td>\n",
              "      <td>2.80</td>\n",
              "      <td>0.0</td>\n",
              "      <td>8.6</td>\n",
              "      <td>61.924</td>\n",
              "      <td>28.732</td>\n",
              "      <td>3.694</td>\n",
              "      <td>256.0</td>\n",
              "      <td>0</td>\n",
              "    </tr>\n",
              "    <tr>\n",
              "      <th>3</th>\n",
              "      <td>353</td>\n",
              "      <td>21.40</td>\n",
              "      <td>28.74</td>\n",
              "      <td>5.11</td>\n",
              "      <td>2.34</td>\n",
              "      <td>0.0</td>\n",
              "      <td>0.50</td>\n",
              "      <td>528.0</td>\n",
              "      <td>0.31</td>\n",
              "      <td>23.0</td>\n",
              "      <td>387.0</td>\n",
              "      <td>256.0</td>\n",
              "      <td>1146.0</td>\n",
              "      <td>2.66</td>\n",
              "      <td>0.040</td>\n",
              "      <td>0.009</td>\n",
              "      <td>14.5</td>\n",
              "      <td>0.0</td>\n",
              "      <td>0.029</td>\n",
              "      <td>0.382</td>\n",
              "      <td>1.016</td>\n",
              "      <td>1.729</td>\n",
              "      <td>0.166</td>\n",
              "      <td>36.0</td>\n",
              "      <td>36.0</td>\n",
              "      <td>15.4</td>\n",
              "      <td>1.22</td>\n",
              "      <td>721.0</td>\n",
              "      <td>192.0</td>\n",
              "      <td>0.0</td>\n",
              "      <td>74.0</td>\n",
              "      <td>0.0</td>\n",
              "      <td>0.0</td>\n",
              "      <td>0.0</td>\n",
              "      <td>0.25</td>\n",
              "      <td>21.0</td>\n",
              "      <td>2.4</td>\n",
              "      <td>18.669</td>\n",
              "      <td>7.778</td>\n",
              "      <td>0.800</td>\n",
              "      <td>75.0</td>\n",
              "      <td>10</td>\n",
              "    </tr>\n",
              "    <tr>\n",
              "      <th>4</th>\n",
              "      <td>371</td>\n",
              "      <td>23.24</td>\n",
              "      <td>29.68</td>\n",
              "      <td>3.18</td>\n",
              "      <td>2.79</td>\n",
              "      <td>0.0</td>\n",
              "      <td>0.51</td>\n",
              "      <td>674.0</td>\n",
              "      <td>0.43</td>\n",
              "      <td>24.0</td>\n",
              "      <td>451.0</td>\n",
              "      <td>136.0</td>\n",
              "      <td>560.0</td>\n",
              "      <td>2.60</td>\n",
              "      <td>0.024</td>\n",
              "      <td>0.012</td>\n",
              "      <td>14.5</td>\n",
              "      <td>0.0</td>\n",
              "      <td>0.014</td>\n",
              "      <td>0.351</td>\n",
              "      <td>0.118</td>\n",
              "      <td>0.288</td>\n",
              "      <td>0.065</td>\n",
              "      <td>20.0</td>\n",
              "      <td>20.0</td>\n",
              "      <td>15.4</td>\n",
              "      <td>1.26</td>\n",
              "      <td>1080.0</td>\n",
              "      <td>286.0</td>\n",
              "      <td>0.0</td>\n",
              "      <td>76.0</td>\n",
              "      <td>0.0</td>\n",
              "      <td>0.0</td>\n",
              "      <td>0.0</td>\n",
              "      <td>0.26</td>\n",
              "      <td>22.0</td>\n",
              "      <td>2.5</td>\n",
              "      <td>18.764</td>\n",
              "      <td>8.598</td>\n",
              "      <td>0.784</td>\n",
              "      <td>94.0</td>\n",
              "      <td>10</td>\n",
              "    </tr>\n",
              "    <tr>\n",
              "      <th>...</th>\n",
              "      <td>...</td>\n",
              "      <td>...</td>\n",
              "      <td>...</td>\n",
              "      <td>...</td>\n",
              "      <td>...</td>\n",
              "      <td>...</td>\n",
              "      <td>...</td>\n",
              "      <td>...</td>\n",
              "      <td>...</td>\n",
              "      <td>...</td>\n",
              "      <td>...</td>\n",
              "      <td>...</td>\n",
              "      <td>...</td>\n",
              "      <td>...</td>\n",
              "      <td>...</td>\n",
              "      <td>...</td>\n",
              "      <td>...</td>\n",
              "      <td>...</td>\n",
              "      <td>...</td>\n",
              "      <td>...</td>\n",
              "      <td>...</td>\n",
              "      <td>...</td>\n",
              "      <td>...</td>\n",
              "      <td>...</td>\n",
              "      <td>...</td>\n",
              "      <td>...</td>\n",
              "      <td>...</td>\n",
              "      <td>...</td>\n",
              "      <td>...</td>\n",
              "      <td>...</td>\n",
              "      <td>...</td>\n",
              "      <td>...</td>\n",
              "      <td>...</td>\n",
              "      <td>...</td>\n",
              "      <td>...</td>\n",
              "      <td>...</td>\n",
              "      <td>...</td>\n",
              "      <td>...</td>\n",
              "      <td>...</td>\n",
              "      <td>...</td>\n",
              "      <td>...</td>\n",
              "      <td>...</td>\n",
              "    </tr>\n",
              "    <tr>\n",
              "      <th>8785</th>\n",
              "      <td>305</td>\n",
              "      <td>18.50</td>\n",
              "      <td>25.10</td>\n",
              "      <td>13.40</td>\n",
              "      <td>0.00</td>\n",
              "      <td>0.0</td>\n",
              "      <td>0.00</td>\n",
              "      <td>66.0</td>\n",
              "      <td>1.40</td>\n",
              "      <td>60.0</td>\n",
              "      <td>254.0</td>\n",
              "      <td>520.0</td>\n",
              "      <td>4450.0</td>\n",
              "      <td>1.10</td>\n",
              "      <td>0.100</td>\n",
              "      <td>NaN</td>\n",
              "      <td>73.4</td>\n",
              "      <td>0.0</td>\n",
              "      <td>0.020</td>\n",
              "      <td>0.190</td>\n",
              "      <td>3.300</td>\n",
              "      <td>NaN</td>\n",
              "      <td>0.410</td>\n",
              "      <td>15.0</td>\n",
              "      <td>15.0</td>\n",
              "      <td>101.6</td>\n",
              "      <td>12.00</td>\n",
              "      <td>157.0</td>\n",
              "      <td>47.0</td>\n",
              "      <td>0.0</td>\n",
              "      <td>0.0</td>\n",
              "      <td>0.0</td>\n",
              "      <td>0.0</td>\n",
              "      <td>0.0</td>\n",
              "      <td>2.38</td>\n",
              "      <td>1006.0</td>\n",
              "      <td>7.8</td>\n",
              "      <td>7.148</td>\n",
              "      <td>8.320</td>\n",
              "      <td>6.210</td>\n",
              "      <td>95.0</td>\n",
              "      <td>0</td>\n",
              "    </tr>\n",
              "    <tr>\n",
              "      <th>8786</th>\n",
              "      <td>111</td>\n",
              "      <td>20.54</td>\n",
              "      <td>0.84</td>\n",
              "      <td>2.97</td>\n",
              "      <td>5.41</td>\n",
              "      <td>0.0</td>\n",
              "      <td>0.00</td>\n",
              "      <td>10.0</td>\n",
              "      <td>0.58</td>\n",
              "      <td>37.0</td>\n",
              "      <td>426.0</td>\n",
              "      <td>314.0</td>\n",
              "      <td>667.0</td>\n",
              "      <td>1.55</td>\n",
              "      <td>0.033</td>\n",
              "      <td>0.029</td>\n",
              "      <td>21.7</td>\n",
              "      <td>0.0</td>\n",
              "      <td>0.012</td>\n",
              "      <td>0.024</td>\n",
              "      <td>1.076</td>\n",
              "      <td>0.366</td>\n",
              "      <td>0.112</td>\n",
              "      <td>20.0</td>\n",
              "      <td>20.0</td>\n",
              "      <td>110.7</td>\n",
              "      <td>2.15</td>\n",
              "      <td>5.0</td>\n",
              "      <td>2.0</td>\n",
              "      <td>0.0</td>\n",
              "      <td>0.0</td>\n",
              "      <td>0.0</td>\n",
              "      <td>0.0</td>\n",
              "      <td>0.0</td>\n",
              "      <td>0.00</td>\n",
              "      <td>2.0</td>\n",
              "      <td>0.0</td>\n",
              "      <td>0.218</td>\n",
              "      <td>0.082</td>\n",
              "      <td>0.222</td>\n",
              "      <td>41.0</td>\n",
              "      <td>0</td>\n",
              "    </tr>\n",
              "    <tr>\n",
              "      <th>8787</th>\n",
              "      <td>269</td>\n",
              "      <td>0.00</td>\n",
              "      <td>0.00</td>\n",
              "      <td>0.86</td>\n",
              "      <td>73.14</td>\n",
              "      <td>0.0</td>\n",
              "      <td>73.20</td>\n",
              "      <td>13.0</td>\n",
              "      <td>3.60</td>\n",
              "      <td>10.0</td>\n",
              "      <td>8.0</td>\n",
              "      <td>63.0</td>\n",
              "      <td>58.0</td>\n",
              "      <td>0.19</td>\n",
              "      <td>0.020</td>\n",
              "      <td>NaN</td>\n",
              "      <td>0.7</td>\n",
              "      <td>0.0</td>\n",
              "      <td>0.130</td>\n",
              "      <td>0.060</td>\n",
              "      <td>0.100</td>\n",
              "      <td>NaN</td>\n",
              "      <td>0.000</td>\n",
              "      <td>0.0</td>\n",
              "      <td>0.0</td>\n",
              "      <td>NaN</td>\n",
              "      <td>0.00</td>\n",
              "      <td>0.0</td>\n",
              "      <td>0.0</td>\n",
              "      <td>0.0</td>\n",
              "      <td>0.0</td>\n",
              "      <td>0.0</td>\n",
              "      <td>0.0</td>\n",
              "      <td>0.0</td>\n",
              "      <td>0.00</td>\n",
              "      <td>0.0</td>\n",
              "      <td>0.0</td>\n",
              "      <td>0.000</td>\n",
              "      <td>0.000</td>\n",
              "      <td>0.000</td>\n",
              "      <td>0.0</td>\n",
              "      <td>10</td>\n",
              "    </tr>\n",
              "    <tr>\n",
              "      <th>8788</th>\n",
              "      <td>90</td>\n",
              "      <td>16.10</td>\n",
              "      <td>1.40</td>\n",
              "      <td>1.30</td>\n",
              "      <td>2.00</td>\n",
              "      <td>0.0</td>\n",
              "      <td>0.00</td>\n",
              "      <td>10.0</td>\n",
              "      <td>3.50</td>\n",
              "      <td>250.0</td>\n",
              "      <td>272.0</td>\n",
              "      <td>382.0</td>\n",
              "      <td>70.0</td>\n",
              "      <td>1.00</td>\n",
              "      <td>0.400</td>\n",
              "      <td>NaN</td>\n",
              "      <td>27.4</td>\n",
              "      <td>0.0</td>\n",
              "      <td>0.010</td>\n",
              "      <td>0.120</td>\n",
              "      <td>1.400</td>\n",
              "      <td>NaN</td>\n",
              "      <td>0.130</td>\n",
              "      <td>6.0</td>\n",
              "      <td>6.0</td>\n",
              "      <td>65.0</td>\n",
              "      <td>0.50</td>\n",
              "      <td>100.0</td>\n",
              "      <td>30.0</td>\n",
              "      <td>0.0</td>\n",
              "      <td>0.0</td>\n",
              "      <td>0.0</td>\n",
              "      <td>0.0</td>\n",
              "      <td>0.0</td>\n",
              "      <td>5.00</td>\n",
              "      <td>0.0</td>\n",
              "      <td>0.1</td>\n",
              "      <td>0.361</td>\n",
              "      <td>0.259</td>\n",
              "      <td>0.252</td>\n",
              "      <td>50.0</td>\n",
              "      <td>0</td>\n",
              "    </tr>\n",
              "    <tr>\n",
              "      <th>8789</th>\n",
              "      <td>89</td>\n",
              "      <td>19.80</td>\n",
              "      <td>0.50</td>\n",
              "      <td>1.20</td>\n",
              "      <td>0.00</td>\n",
              "      <td>0.0</td>\n",
              "      <td>0.00</td>\n",
              "      <td>118.0</td>\n",
              "      <td>1.40</td>\n",
              "      <td>20.0</td>\n",
              "      <td>180.0</td>\n",
              "      <td>230.0</td>\n",
              "      <td>68.0</td>\n",
              "      <td>1.00</td>\n",
              "      <td>0.250</td>\n",
              "      <td>NaN</td>\n",
              "      <td>16.8</td>\n",
              "      <td>0.0</td>\n",
              "      <td>0.120</td>\n",
              "      <td>0.150</td>\n",
              "      <td>1.100</td>\n",
              "      <td>NaN</td>\n",
              "      <td>0.120</td>\n",
              "      <td>15.0</td>\n",
              "      <td>15.0</td>\n",
              "      <td>65.0</td>\n",
              "      <td>1.00</td>\n",
              "      <td>100.0</td>\n",
              "      <td>30.0</td>\n",
              "      <td>0.0</td>\n",
              "      <td>0.0</td>\n",
              "      <td>0.0</td>\n",
              "      <td>0.0</td>\n",
              "      <td>0.0</td>\n",
              "      <td>0.50</td>\n",
              "      <td>0.0</td>\n",
              "      <td>0.1</td>\n",
              "      <td>0.127</td>\n",
              "      <td>0.088</td>\n",
              "      <td>0.170</td>\n",
              "      <td>50.0</td>\n",
              "      <td>0</td>\n",
              "    </tr>\n",
              "  </tbody>\n",
              "</table>\n",
              "<p>8790 rows × 42 columns</p>\n",
              "</div>\n",
              "    <div class=\"colab-df-buttons\">\n",
              "\n",
              "  <div class=\"colab-df-container\">\n",
              "    <button class=\"colab-df-convert\" onclick=\"convertToInteractive('df-373f1248-ab96-4e69-9fdc-301fdfac756a')\"\n",
              "            title=\"Convert this dataframe to an interactive table.\"\n",
              "            style=\"display:none;\">\n",
              "\n",
              "  <svg xmlns=\"http://www.w3.org/2000/svg\" height=\"24px\" viewBox=\"0 -960 960 960\">\n",
              "    <path d=\"M120-120v-720h720v720H120Zm60-500h600v-160H180v160Zm220 220h160v-160H400v160Zm0 220h160v-160H400v160ZM180-400h160v-160H180v160Zm440 0h160v-160H620v160ZM180-180h160v-160H180v160Zm440 0h160v-160H620v160Z\"/>\n",
              "  </svg>\n",
              "    </button>\n",
              "\n",
              "  <style>\n",
              "    .colab-df-container {\n",
              "      display:flex;\n",
              "      gap: 12px;\n",
              "    }\n",
              "\n",
              "    .colab-df-convert {\n",
              "      background-color: #E8F0FE;\n",
              "      border: none;\n",
              "      border-radius: 50%;\n",
              "      cursor: pointer;\n",
              "      display: none;\n",
              "      fill: #1967D2;\n",
              "      height: 32px;\n",
              "      padding: 0 0 0 0;\n",
              "      width: 32px;\n",
              "    }\n",
              "\n",
              "    .colab-df-convert:hover {\n",
              "      background-color: #E2EBFA;\n",
              "      box-shadow: 0px 1px 2px rgba(60, 64, 67, 0.3), 0px 1px 3px 1px rgba(60, 64, 67, 0.15);\n",
              "      fill: #174EA6;\n",
              "    }\n",
              "\n",
              "    .colab-df-buttons div {\n",
              "      margin-bottom: 4px;\n",
              "    }\n",
              "\n",
              "    [theme=dark] .colab-df-convert {\n",
              "      background-color: #3B4455;\n",
              "      fill: #D2E3FC;\n",
              "    }\n",
              "\n",
              "    [theme=dark] .colab-df-convert:hover {\n",
              "      background-color: #434B5C;\n",
              "      box-shadow: 0px 1px 3px 1px rgba(0, 0, 0, 0.15);\n",
              "      filter: drop-shadow(0px 1px 2px rgba(0, 0, 0, 0.3));\n",
              "      fill: #FFFFFF;\n",
              "    }\n",
              "  </style>\n",
              "\n",
              "    <script>\n",
              "      const buttonEl =\n",
              "        document.querySelector('#df-373f1248-ab96-4e69-9fdc-301fdfac756a button.colab-df-convert');\n",
              "      buttonEl.style.display =\n",
              "        google.colab.kernel.accessAllowed ? 'block' : 'none';\n",
              "\n",
              "      async function convertToInteractive(key) {\n",
              "        const element = document.querySelector('#df-373f1248-ab96-4e69-9fdc-301fdfac756a');\n",
              "        const dataTable =\n",
              "          await google.colab.kernel.invokeFunction('convertToInteractive',\n",
              "                                                    [key], {});\n",
              "        if (!dataTable) return;\n",
              "\n",
              "        const docLinkHtml = 'Like what you see? Visit the ' +\n",
              "          '<a target=\"_blank\" href=https://colab.research.google.com/notebooks/data_table.ipynb>data table notebook</a>'\n",
              "          + ' to learn more about interactive tables.';\n",
              "        element.innerHTML = '';\n",
              "        dataTable['output_type'] = 'display_data';\n",
              "        await google.colab.output.renderOutput(dataTable, element);\n",
              "        const docLink = document.createElement('div');\n",
              "        docLink.innerHTML = docLinkHtml;\n",
              "        element.appendChild(docLink);\n",
              "      }\n",
              "    </script>\n",
              "  </div>\n",
              "\n",
              "\n",
              "<div id=\"df-585f3200-b0bf-457f-be9c-fab15fbe19ff\">\n",
              "  <button class=\"colab-df-quickchart\" onclick=\"quickchart('df-585f3200-b0bf-457f-be9c-fab15fbe19ff')\"\n",
              "            title=\"Suggest charts\"\n",
              "            style=\"display:none;\">\n",
              "\n",
              "<svg xmlns=\"http://www.w3.org/2000/svg\" height=\"24px\"viewBox=\"0 0 24 24\"\n",
              "     width=\"24px\">\n",
              "    <g>\n",
              "        <path d=\"M19 3H5c-1.1 0-2 .9-2 2v14c0 1.1.9 2 2 2h14c1.1 0 2-.9 2-2V5c0-1.1-.9-2-2-2zM9 17H7v-7h2v7zm4 0h-2V7h2v10zm4 0h-2v-4h2v4z\"/>\n",
              "    </g>\n",
              "</svg>\n",
              "  </button>\n",
              "\n",
              "<style>\n",
              "  .colab-df-quickchart {\n",
              "      --bg-color: #E8F0FE;\n",
              "      --fill-color: #1967D2;\n",
              "      --hover-bg-color: #E2EBFA;\n",
              "      --hover-fill-color: #174EA6;\n",
              "      --disabled-fill-color: #AAA;\n",
              "      --disabled-bg-color: #DDD;\n",
              "  }\n",
              "\n",
              "  [theme=dark] .colab-df-quickchart {\n",
              "      --bg-color: #3B4455;\n",
              "      --fill-color: #D2E3FC;\n",
              "      --hover-bg-color: #434B5C;\n",
              "      --hover-fill-color: #FFFFFF;\n",
              "      --disabled-bg-color: #3B4455;\n",
              "      --disabled-fill-color: #666;\n",
              "  }\n",
              "\n",
              "  .colab-df-quickchart {\n",
              "    background-color: var(--bg-color);\n",
              "    border: none;\n",
              "    border-radius: 50%;\n",
              "    cursor: pointer;\n",
              "    display: none;\n",
              "    fill: var(--fill-color);\n",
              "    height: 32px;\n",
              "    padding: 0;\n",
              "    width: 32px;\n",
              "  }\n",
              "\n",
              "  .colab-df-quickchart:hover {\n",
              "    background-color: var(--hover-bg-color);\n",
              "    box-shadow: 0 1px 2px rgba(60, 64, 67, 0.3), 0 1px 3px 1px rgba(60, 64, 67, 0.15);\n",
              "    fill: var(--button-hover-fill-color);\n",
              "  }\n",
              "\n",
              "  .colab-df-quickchart-complete:disabled,\n",
              "  .colab-df-quickchart-complete:disabled:hover {\n",
              "    background-color: var(--disabled-bg-color);\n",
              "    fill: var(--disabled-fill-color);\n",
              "    box-shadow: none;\n",
              "  }\n",
              "\n",
              "  .colab-df-spinner {\n",
              "    border: 2px solid var(--fill-color);\n",
              "    border-color: transparent;\n",
              "    border-bottom-color: var(--fill-color);\n",
              "    animation:\n",
              "      spin 1s steps(1) infinite;\n",
              "  }\n",
              "\n",
              "  @keyframes spin {\n",
              "    0% {\n",
              "      border-color: transparent;\n",
              "      border-bottom-color: var(--fill-color);\n",
              "      border-left-color: var(--fill-color);\n",
              "    }\n",
              "    20% {\n",
              "      border-color: transparent;\n",
              "      border-left-color: var(--fill-color);\n",
              "      border-top-color: var(--fill-color);\n",
              "    }\n",
              "    30% {\n",
              "      border-color: transparent;\n",
              "      border-left-color: var(--fill-color);\n",
              "      border-top-color: var(--fill-color);\n",
              "      border-right-color: var(--fill-color);\n",
              "    }\n",
              "    40% {\n",
              "      border-color: transparent;\n",
              "      border-right-color: var(--fill-color);\n",
              "      border-top-color: var(--fill-color);\n",
              "    }\n",
              "    60% {\n",
              "      border-color: transparent;\n",
              "      border-right-color: var(--fill-color);\n",
              "    }\n",
              "    80% {\n",
              "      border-color: transparent;\n",
              "      border-right-color: var(--fill-color);\n",
              "      border-bottom-color: var(--fill-color);\n",
              "    }\n",
              "    90% {\n",
              "      border-color: transparent;\n",
              "      border-bottom-color: var(--fill-color);\n",
              "    }\n",
              "  }\n",
              "</style>\n",
              "\n",
              "  <script>\n",
              "    async function quickchart(key) {\n",
              "      const quickchartButtonEl =\n",
              "        document.querySelector('#' + key + ' button');\n",
              "      quickchartButtonEl.disabled = true;  // To prevent multiple clicks.\n",
              "      quickchartButtonEl.classList.add('colab-df-spinner');\n",
              "      try {\n",
              "        const charts = await google.colab.kernel.invokeFunction(\n",
              "            'suggestCharts', [key], {});\n",
              "      } catch (error) {\n",
              "        console.error('Error during call to suggestCharts:', error);\n",
              "      }\n",
              "      quickchartButtonEl.classList.remove('colab-df-spinner');\n",
              "      quickchartButtonEl.classList.add('colab-df-quickchart-complete');\n",
              "    }\n",
              "    (() => {\n",
              "      let quickchartButtonEl =\n",
              "        document.querySelector('#df-585f3200-b0bf-457f-be9c-fab15fbe19ff button');\n",
              "      quickchartButtonEl.style.display =\n",
              "        google.colab.kernel.accessAllowed ? 'block' : 'none';\n",
              "    })();\n",
              "  </script>\n",
              "</div>\n",
              "    </div>\n",
              "  </div>\n"
            ],
            "application/vnd.google.colaboratory.intrinsic+json": {
              "type": "dataframe",
              "variable_name": "df1"
            }
          },
          "metadata": {},
          "execution_count": 51
        }
      ]
    },
    {
      "cell_type": "code",
      "source": [
        "from sklearn.model_selection import train_test_split # разделение\n",
        "\n",
        "X = df1.drop('CLASS', axis=1)\n",
        "y = df1.CLASS\n",
        "\n",
        "X_train, X_test, y_train, y_test = train_test_split(X, y, test_size=0.2)"
      ],
      "metadata": {
        "id": "f333m_CLASyB"
      },
      "execution_count": null,
      "outputs": []
    },
    {
      "cell_type": "code",
      "source": [
        "from sklearn.impute import SimpleImputer # заполнение пропусков\n",
        "\n",
        "imputer = SimpleImputer(missing_values=np.nan, strategy='mean')\n",
        "\n",
        "X_train[X_train.columns] = imputer.fit_transform(X_train)\n",
        "X_test[X_test.columns] = imputer.fit_transform(X_test)"
      ],
      "metadata": {
        "id": "kbc8VdqSAwcn"
      },
      "execution_count": null,
      "outputs": []
    },
    {
      "cell_type": "code",
      "source": [
        "from sklearn.preprocessing import MinMaxScaler # нормализация\n",
        "\n",
        "scaler = MinMaxScaler()\n",
        "\n",
        "X_train[X_train.columns] = scaler.fit_transform(X_train)\n",
        "X_test[X_test.columns] = scaler.transform(X_test)"
      ],
      "metadata": {
        "id": "84dit0c__V8-"
      },
      "execution_count": null,
      "outputs": []
    },
    {
      "cell_type": "code",
      "source": [
        "from sklearn.neighbors import KNeighborsClassifier\n",
        "\n",
        "clf = KNeighborsClassifier(7)\n",
        "clf.fit(X_train, y_train)"
      ],
      "metadata": {
        "colab": {
          "base_uri": "https://localhost:8080/",
          "height": 74
        },
        "outputId": "fe9ee3b5-9d5c-4191-84b7-8e36a29d772c",
        "id": "HSSL2DXW_V8_"
      },
      "execution_count": null,
      "outputs": [
        {
          "output_type": "execute_result",
          "data": {
            "text/plain": [
              "KNeighborsClassifier(n_neighbors=7)"
            ],
            "text/html": [
              "<style>#sk-container-id-5 {color: black;background-color: white;}#sk-container-id-5 pre{padding: 0;}#sk-container-id-5 div.sk-toggleable {background-color: white;}#sk-container-id-5 label.sk-toggleable__label {cursor: pointer;display: block;width: 100%;margin-bottom: 0;padding: 0.3em;box-sizing: border-box;text-align: center;}#sk-container-id-5 label.sk-toggleable__label-arrow:before {content: \"▸\";float: left;margin-right: 0.25em;color: #696969;}#sk-container-id-5 label.sk-toggleable__label-arrow:hover:before {color: black;}#sk-container-id-5 div.sk-estimator:hover label.sk-toggleable__label-arrow:before {color: black;}#sk-container-id-5 div.sk-toggleable__content {max-height: 0;max-width: 0;overflow: hidden;text-align: left;background-color: #f0f8ff;}#sk-container-id-5 div.sk-toggleable__content pre {margin: 0.2em;color: black;border-radius: 0.25em;background-color: #f0f8ff;}#sk-container-id-5 input.sk-toggleable__control:checked~div.sk-toggleable__content {max-height: 200px;max-width: 100%;overflow: auto;}#sk-container-id-5 input.sk-toggleable__control:checked~label.sk-toggleable__label-arrow:before {content: \"▾\";}#sk-container-id-5 div.sk-estimator input.sk-toggleable__control:checked~label.sk-toggleable__label {background-color: #d4ebff;}#sk-container-id-5 div.sk-label input.sk-toggleable__control:checked~label.sk-toggleable__label {background-color: #d4ebff;}#sk-container-id-5 input.sk-hidden--visually {border: 0;clip: rect(1px 1px 1px 1px);clip: rect(1px, 1px, 1px, 1px);height: 1px;margin: -1px;overflow: hidden;padding: 0;position: absolute;width: 1px;}#sk-container-id-5 div.sk-estimator {font-family: monospace;background-color: #f0f8ff;border: 1px dotted black;border-radius: 0.25em;box-sizing: border-box;margin-bottom: 0.5em;}#sk-container-id-5 div.sk-estimator:hover {background-color: #d4ebff;}#sk-container-id-5 div.sk-parallel-item::after {content: \"\";width: 100%;border-bottom: 1px solid gray;flex-grow: 1;}#sk-container-id-5 div.sk-label:hover label.sk-toggleable__label {background-color: #d4ebff;}#sk-container-id-5 div.sk-serial::before {content: \"\";position: absolute;border-left: 1px solid gray;box-sizing: border-box;top: 0;bottom: 0;left: 50%;z-index: 0;}#sk-container-id-5 div.sk-serial {display: flex;flex-direction: column;align-items: center;background-color: white;padding-right: 0.2em;padding-left: 0.2em;position: relative;}#sk-container-id-5 div.sk-item {position: relative;z-index: 1;}#sk-container-id-5 div.sk-parallel {display: flex;align-items: stretch;justify-content: center;background-color: white;position: relative;}#sk-container-id-5 div.sk-item::before, #sk-container-id-5 div.sk-parallel-item::before {content: \"\";position: absolute;border-left: 1px solid gray;box-sizing: border-box;top: 0;bottom: 0;left: 50%;z-index: -1;}#sk-container-id-5 div.sk-parallel-item {display: flex;flex-direction: column;z-index: 1;position: relative;background-color: white;}#sk-container-id-5 div.sk-parallel-item:first-child::after {align-self: flex-end;width: 50%;}#sk-container-id-5 div.sk-parallel-item:last-child::after {align-self: flex-start;width: 50%;}#sk-container-id-5 div.sk-parallel-item:only-child::after {width: 0;}#sk-container-id-5 div.sk-dashed-wrapped {border: 1px dashed gray;margin: 0 0.4em 0.5em 0.4em;box-sizing: border-box;padding-bottom: 0.4em;background-color: white;}#sk-container-id-5 div.sk-label label {font-family: monospace;font-weight: bold;display: inline-block;line-height: 1.2em;}#sk-container-id-5 div.sk-label-container {text-align: center;}#sk-container-id-5 div.sk-container {/* jupyter's `normalize.less` sets `[hidden] { display: none; }` but bootstrap.min.css set `[hidden] { display: none !important; }` so we also need the `!important` here to be able to override the default hidden behavior on the sphinx rendered scikit-learn.org. See: https://github.com/scikit-learn/scikit-learn/issues/21755 */display: inline-block !important;position: relative;}#sk-container-id-5 div.sk-text-repr-fallback {display: none;}</style><div id=\"sk-container-id-5\" class=\"sk-top-container\"><div class=\"sk-text-repr-fallback\"><pre>KNeighborsClassifier(n_neighbors=7)</pre><b>In a Jupyter environment, please rerun this cell to show the HTML representation or trust the notebook. <br />On GitHub, the HTML representation is unable to render, please try loading this page with nbviewer.org.</b></div><div class=\"sk-container\" hidden><div class=\"sk-item\"><div class=\"sk-estimator sk-toggleable\"><input class=\"sk-toggleable__control sk-hidden--visually\" id=\"sk-estimator-id-5\" type=\"checkbox\" checked><label for=\"sk-estimator-id-5\" class=\"sk-toggleable__label sk-toggleable__label-arrow\">KNeighborsClassifier</label><div class=\"sk-toggleable__content\"><pre>KNeighborsClassifier(n_neighbors=7)</pre></div></div></div></div></div>"
            ]
          },
          "metadata": {},
          "execution_count": 55
        }
      ]
    },
    {
      "cell_type": "code",
      "source": [
        "y_pred = clf.predict(X_test)"
      ],
      "metadata": {
        "id": "tSwVB_tM_V9A"
      },
      "execution_count": null,
      "outputs": []
    },
    {
      "cell_type": "code",
      "source": [
        "clf.score(X_train, y_train), clf.score(X_test, y_test)"
      ],
      "metadata": {
        "colab": {
          "base_uri": "https://localhost:8080/"
        },
        "outputId": "404d9e32-49e8-40f0-d6af-885562273d19",
        "id": "mPJrq5LB_V9A"
      },
      "execution_count": null,
      "outputs": [
        {
          "output_type": "execute_result",
          "data": {
            "text/plain": [
              "(0.9283276450511946, 0.9129692832764505)"
            ]
          },
          "metadata": {},
          "execution_count": 57
        }
      ]
    },
    {
      "cell_type": "code",
      "source": [
        "from sklearn.metrics import classification_report\n",
        "\n",
        "print(classification_report(y_test, y_pred))"
      ],
      "metadata": {
        "colab": {
          "base_uri": "https://localhost:8080/"
        },
        "outputId": "780b93bc-c9cb-43c9-c50c-69aa09860b75",
        "id": "xjYxcALc_V9A"
      },
      "execution_count": null,
      "outputs": [
        {
          "output_type": "stream",
          "name": "stdout",
          "text": [
            "              precision    recall  f1-score   support\n",
            "\n",
            "           0       0.92      0.91      0.91       663\n",
            "           1       0.92      0.78      0.84       122\n",
            "          10       0.92      0.91      0.91       664\n",
            "          11       0.90      0.98      0.93       309\n",
            "\n",
            "    accuracy                           0.91      1758\n",
            "   macro avg       0.91      0.89      0.90      1758\n",
            "weighted avg       0.91      0.91      0.91      1758\n",
            "\n"
          ]
        }
      ]
    },
    {
      "cell_type": "markdown",
      "source": [
        "- объединить группу связанных по смыслу признаков в один (например, для витамина A)"
      ],
      "metadata": {
        "id": "3E66sLI2A5EF"
      }
    },
    {
      "cell_type": "code",
      "source": [
        "df2 = df.copy()\n",
        "\n",
        "len(df2.columns)"
      ],
      "metadata": {
        "colab": {
          "base_uri": "https://localhost:8080/"
        },
        "id": "7kwfzNvoA9RK",
        "outputId": "db78cfbf-2a8d-446b-93e2-1a2818238a12"
      },
      "execution_count": null,
      "outputs": [
        {
          "output_type": "execute_result",
          "data": {
            "text/plain": [
              "47"
            ]
          },
          "metadata": {},
          "execution_count": 59
        }
      ]
    },
    {
      "cell_type": "code",
      "source": [
        "folate = ['Folate_Tot_(µg)', 'Folic_Acid_(µg)', 'Food_Folate_(µg)', 'Folate_DFE_(µg)']\n",
        "vitA = ['Vit_A_IU', 'Vit_A_RAE']\n",
        "carot = ['Alpha_Carot_(µg)', 'Beta_Carot_(µg)']\n",
        "vitD = ['Vit_D_µg', 'Vit_D_IU']\n",
        "fat = ['FA_Sat_(g)', 'FA_Mono_(g)', 'FA_Poly_(g)']\n",
        "\n",
        "all = folate + vitA + carot + vitD + fat"
      ],
      "metadata": {
        "id": "CrIS1cI0E0yy"
      },
      "execution_count": null,
      "outputs": []
    },
    {
      "cell_type": "code",
      "source": [
        "from sklearn.model_selection import train_test_split # разделение\n",
        "\n",
        "X = df2.drop('CLASS', axis=1)\n",
        "y = df2.CLASS\n",
        "\n",
        "X_train, X_test, y_train, y_test = train_test_split(X, y, test_size=0.3)"
      ],
      "metadata": {
        "id": "5L4nGBkbDO9S"
      },
      "execution_count": null,
      "outputs": []
    },
    {
      "cell_type": "code",
      "source": [
        "from sklearn.impute import SimpleImputer # заполнение пропусков\n",
        "\n",
        "imputer = SimpleImputer(missing_values=np.nan, strategy='mean')\n",
        "\n",
        "X_train[X_train.columns] = imputer.fit_transform(X_train)\n",
        "X_test[X_test.columns] = imputer.fit_transform(X_test)"
      ],
      "metadata": {
        "id": "V1CyNHkMIUak"
      },
      "execution_count": null,
      "outputs": []
    },
    {
      "cell_type": "code",
      "source": [
        "Folate = pd.Series(X_train.loc[:, folate].mean(axis=1), name='Folate')\n",
        "VitA = pd.Series(X_train.loc[:, vitA].mean(axis=1), name='Vitamin_A')\n",
        "Carot = pd.Series(X_train.loc[:, carot].mean(axis=1), name='Carot')\n",
        "VitD =  pd.Series(X_train.loc[:, vitD].mean(axis=1), name='Vitamin_D')\n",
        "Fat =  pd.Series(X_train.loc[:, fat].mean(axis=1), name='Fats')\n",
        "\n",
        "ALL = pd.concat((Folate, VitA, Carot, VitD, Fat), axis=1)\n",
        "\n",
        "X_train = X_train.drop(all, axis=1)\n",
        "X_train = X_train.join(ALL)"
      ],
      "metadata": {
        "id": "I4NBMeOoMmsc"
      },
      "execution_count": null,
      "outputs": []
    },
    {
      "cell_type": "code",
      "source": [
        "len(X_train.columns)"
      ],
      "metadata": {
        "colab": {
          "base_uri": "https://localhost:8080/"
        },
        "id": "NPQhRFwAP0TY",
        "outputId": "61180198-9e43-471c-ed0c-85a0c0091c29"
      },
      "execution_count": null,
      "outputs": [
        {
          "output_type": "execute_result",
          "data": {
            "text/plain": [
              "38"
            ]
          },
          "metadata": {},
          "execution_count": 64
        }
      ]
    },
    {
      "cell_type": "code",
      "source": [
        "Folate = pd.Series(X_test.loc[:, folate].mean(axis=1), name='Folate')\n",
        "VitA = pd.Series(X_test.loc[:, vitA].mean(axis=1), name='Vitamin_A')\n",
        "Carot = pd.Series(X_test.loc[:, carot].mean(axis=1), name='Carot')\n",
        "VitD =  pd.Series(X_test.loc[:, vitD].mean(axis=1), name='Vitamin_D')\n",
        "Fat =  pd.Series(X_test.loc[:, fat].mean(axis=1), name='Fats')\n",
        "\n",
        "ALL = pd.concat((Folate, VitA, Carot, VitD, Fat), axis=1)\n",
        "\n",
        "X_test = X_test.drop(all, axis=1)\n",
        "X_test = X_test.join(ALL)"
      ],
      "metadata": {
        "id": "WE6r-i-JP_lV"
      },
      "execution_count": null,
      "outputs": []
    },
    {
      "cell_type": "code",
      "source": [
        "len(X_test.columns)"
      ],
      "metadata": {
        "colab": {
          "base_uri": "https://localhost:8080/"
        },
        "id": "ysWTOdfXQI9O",
        "outputId": "0caf7529-13ed-4d17-b52f-e514c2fdcf7b"
      },
      "execution_count": null,
      "outputs": [
        {
          "output_type": "execute_result",
          "data": {
            "text/plain": [
              "38"
            ]
          },
          "metadata": {},
          "execution_count": 66
        }
      ]
    },
    {
      "cell_type": "code",
      "source": [
        "from sklearn.preprocessing import MinMaxScaler # нормализация\n",
        "\n",
        "scaler = MinMaxScaler()\n",
        "\n",
        "X_train[X_train.columns] = scaler.fit_transform(X_train)\n",
        "X_test[X_test.columns] = scaler.transform(X_test)"
      ],
      "metadata": {
        "id": "Ouy9zqXxQiLV"
      },
      "execution_count": null,
      "outputs": []
    },
    {
      "cell_type": "code",
      "source": [
        "from sklearn.neighbors import KNeighborsClassifier\n",
        "\n",
        "clf = KNeighborsClassifier(7)\n",
        "clf.fit(X_train, y_train)"
      ],
      "metadata": {
        "colab": {
          "base_uri": "https://localhost:8080/",
          "height": 74
        },
        "outputId": "527acf28-e0e2-425a-d60e-1cc53a77b4ec",
        "id": "puUjmeaSQiLW"
      },
      "execution_count": null,
      "outputs": [
        {
          "output_type": "execute_result",
          "data": {
            "text/plain": [
              "KNeighborsClassifier(n_neighbors=7)"
            ],
            "text/html": [
              "<style>#sk-container-id-6 {color: black;background-color: white;}#sk-container-id-6 pre{padding: 0;}#sk-container-id-6 div.sk-toggleable {background-color: white;}#sk-container-id-6 label.sk-toggleable__label {cursor: pointer;display: block;width: 100%;margin-bottom: 0;padding: 0.3em;box-sizing: border-box;text-align: center;}#sk-container-id-6 label.sk-toggleable__label-arrow:before {content: \"▸\";float: left;margin-right: 0.25em;color: #696969;}#sk-container-id-6 label.sk-toggleable__label-arrow:hover:before {color: black;}#sk-container-id-6 div.sk-estimator:hover label.sk-toggleable__label-arrow:before {color: black;}#sk-container-id-6 div.sk-toggleable__content {max-height: 0;max-width: 0;overflow: hidden;text-align: left;background-color: #f0f8ff;}#sk-container-id-6 div.sk-toggleable__content pre {margin: 0.2em;color: black;border-radius: 0.25em;background-color: #f0f8ff;}#sk-container-id-6 input.sk-toggleable__control:checked~div.sk-toggleable__content {max-height: 200px;max-width: 100%;overflow: auto;}#sk-container-id-6 input.sk-toggleable__control:checked~label.sk-toggleable__label-arrow:before {content: \"▾\";}#sk-container-id-6 div.sk-estimator input.sk-toggleable__control:checked~label.sk-toggleable__label {background-color: #d4ebff;}#sk-container-id-6 div.sk-label input.sk-toggleable__control:checked~label.sk-toggleable__label {background-color: #d4ebff;}#sk-container-id-6 input.sk-hidden--visually {border: 0;clip: rect(1px 1px 1px 1px);clip: rect(1px, 1px, 1px, 1px);height: 1px;margin: -1px;overflow: hidden;padding: 0;position: absolute;width: 1px;}#sk-container-id-6 div.sk-estimator {font-family: monospace;background-color: #f0f8ff;border: 1px dotted black;border-radius: 0.25em;box-sizing: border-box;margin-bottom: 0.5em;}#sk-container-id-6 div.sk-estimator:hover {background-color: #d4ebff;}#sk-container-id-6 div.sk-parallel-item::after {content: \"\";width: 100%;border-bottom: 1px solid gray;flex-grow: 1;}#sk-container-id-6 div.sk-label:hover label.sk-toggleable__label {background-color: #d4ebff;}#sk-container-id-6 div.sk-serial::before {content: \"\";position: absolute;border-left: 1px solid gray;box-sizing: border-box;top: 0;bottom: 0;left: 50%;z-index: 0;}#sk-container-id-6 div.sk-serial {display: flex;flex-direction: column;align-items: center;background-color: white;padding-right: 0.2em;padding-left: 0.2em;position: relative;}#sk-container-id-6 div.sk-item {position: relative;z-index: 1;}#sk-container-id-6 div.sk-parallel {display: flex;align-items: stretch;justify-content: center;background-color: white;position: relative;}#sk-container-id-6 div.sk-item::before, #sk-container-id-6 div.sk-parallel-item::before {content: \"\";position: absolute;border-left: 1px solid gray;box-sizing: border-box;top: 0;bottom: 0;left: 50%;z-index: -1;}#sk-container-id-6 div.sk-parallel-item {display: flex;flex-direction: column;z-index: 1;position: relative;background-color: white;}#sk-container-id-6 div.sk-parallel-item:first-child::after {align-self: flex-end;width: 50%;}#sk-container-id-6 div.sk-parallel-item:last-child::after {align-self: flex-start;width: 50%;}#sk-container-id-6 div.sk-parallel-item:only-child::after {width: 0;}#sk-container-id-6 div.sk-dashed-wrapped {border: 1px dashed gray;margin: 0 0.4em 0.5em 0.4em;box-sizing: border-box;padding-bottom: 0.4em;background-color: white;}#sk-container-id-6 div.sk-label label {font-family: monospace;font-weight: bold;display: inline-block;line-height: 1.2em;}#sk-container-id-6 div.sk-label-container {text-align: center;}#sk-container-id-6 div.sk-container {/* jupyter's `normalize.less` sets `[hidden] { display: none; }` but bootstrap.min.css set `[hidden] { display: none !important; }` so we also need the `!important` here to be able to override the default hidden behavior on the sphinx rendered scikit-learn.org. See: https://github.com/scikit-learn/scikit-learn/issues/21755 */display: inline-block !important;position: relative;}#sk-container-id-6 div.sk-text-repr-fallback {display: none;}</style><div id=\"sk-container-id-6\" class=\"sk-top-container\"><div class=\"sk-text-repr-fallback\"><pre>KNeighborsClassifier(n_neighbors=7)</pre><b>In a Jupyter environment, please rerun this cell to show the HTML representation or trust the notebook. <br />On GitHub, the HTML representation is unable to render, please try loading this page with nbviewer.org.</b></div><div class=\"sk-container\" hidden><div class=\"sk-item\"><div class=\"sk-estimator sk-toggleable\"><input class=\"sk-toggleable__control sk-hidden--visually\" id=\"sk-estimator-id-6\" type=\"checkbox\" checked><label for=\"sk-estimator-id-6\" class=\"sk-toggleable__label sk-toggleable__label-arrow\">KNeighborsClassifier</label><div class=\"sk-toggleable__content\"><pre>KNeighborsClassifier(n_neighbors=7)</pre></div></div></div></div></div>"
            ]
          },
          "metadata": {},
          "execution_count": 68
        }
      ]
    },
    {
      "cell_type": "code",
      "source": [
        "y_pred = clf.predict(X_test)"
      ],
      "metadata": {
        "id": "TUGd37NqQiLW"
      },
      "execution_count": null,
      "outputs": []
    },
    {
      "cell_type": "code",
      "source": [
        "clf.score(X_train, y_train), clf.score(X_test, y_test)"
      ],
      "metadata": {
        "colab": {
          "base_uri": "https://localhost:8080/"
        },
        "outputId": "ca5886d5-46eb-4b7b-cf05-d6dadd19002a",
        "id": "n98VJOq7QiLW"
      },
      "execution_count": null,
      "outputs": [
        {
          "output_type": "execute_result",
          "data": {
            "text/plain": [
              "(0.92442710872745, 0.8987485779294653)"
            ]
          },
          "metadata": {},
          "execution_count": 70
        }
      ]
    },
    {
      "cell_type": "code",
      "source": [
        "from sklearn.metrics import classification_report\n",
        "\n",
        "print(classification_report(y_test, y_pred))"
      ],
      "metadata": {
        "colab": {
          "base_uri": "https://localhost:8080/"
        },
        "outputId": "2b4ac9d4-8821-4e16-af46-ff7edf0e9a06",
        "id": "xPH19zXGQiLW"
      },
      "execution_count": null,
      "outputs": [
        {
          "output_type": "stream",
          "name": "stdout",
          "text": [
            "              precision    recall  f1-score   support\n",
            "\n",
            "           0       0.90      0.89      0.89      1003\n",
            "           1       0.88      0.80      0.83       152\n",
            "          10       0.89      0.89      0.89      1030\n",
            "          11       0.92      0.96      0.94       452\n",
            "\n",
            "    accuracy                           0.90      2637\n",
            "   macro avg       0.90      0.89      0.89      2637\n",
            "weighted avg       0.90      0.90      0.90      2637\n",
            "\n"
          ]
        }
      ]
    },
    {
      "cell_type": "markdown",
      "source": [
        "- повторно выбирать случайным образом поднабор из нескольких признаков и запоминать лучшие результаты (например, выбирать по 5 или по 7 признаков с помощью random.sample, повторять выбор 100 раз)"
      ],
      "metadata": {
        "id": "sK1X1nH_RW4J"
      }
    },
    {
      "cell_type": "code",
      "source": [
        "df3 = df.copy()"
      ],
      "metadata": {
        "id": "4toIGQ8tR2Uf"
      },
      "execution_count": null,
      "outputs": []
    },
    {
      "cell_type": "code",
      "source": [
        "import random\n",
        "\n",
        "pook = random.sample(df3.columns.to_list()[:-1], 5)\n",
        "\n",
        "print(pook)"
      ],
      "metadata": {
        "colab": {
          "base_uri": "https://localhost:8080/"
        },
        "id": "PNyug4Z_Rzzz",
        "outputId": "efb7492b-a28b-4099-f3ad-a010d44b34e4"
      },
      "execution_count": null,
      "outputs": [
        {
          "output_type": "stream",
          "name": "stdout",
          "text": [
            "['Manganese_(mg)', 'Ash_(g)', 'Water_(g)', 'Vit_E_(mg)', 'Beta_Carot_(µg)']\n"
          ]
        }
      ]
    },
    {
      "cell_type": "code",
      "source": [
        "from sklearn.metrics import accuracy_score"
      ],
      "metadata": {
        "id": "Y_vVZbFTayf_"
      },
      "execution_count": null,
      "outputs": []
    },
    {
      "cell_type": "code",
      "source": [
        "scores = {}\n",
        "\n",
        "for _ in range(100):\n",
        "    features = random.sample(df3.columns.to_list()[:-1], 5)\n",
        "    data = df3.loc[:, features].merge(df3.CLASS, right_index=True, left_index=True)\n",
        "\n",
        "    X_train, X_test, y_train, y_test = train_test_split(data.drop('CLASS', axis=1), data.CLASS, test_size=0.3) # разбиение\n",
        "\n",
        "    imputer = SimpleImputer(missing_values=np.nan, strategy='mean') # заполнение пропусков\n",
        "\n",
        "    X_train[X_train.columns] = imputer.fit_transform(X_train)\n",
        "    X_test[X_test.columns] = imputer.fit_transform(X_test)\n",
        "\n",
        "    scaler = MinMaxScaler()     # нормализация\n",
        "\n",
        "    X_train[X_train.columns] = scaler.fit_transform(X_train)\n",
        "    X_test[X_test.columns] = scaler.transform(X_test)\n",
        "\n",
        "    clf = KNeighborsClassifier(7).fit(X_train, y_train)\n",
        "    y_pred = clf.predict(X_test)\n",
        "\n",
        "    val = accuracy_score(y_test, y_pred)\n",
        "\n",
        "    scores.update({tuple(features): val})"
      ],
      "metadata": {
        "id": "laEURxerTTWj"
      },
      "execution_count": null,
      "outputs": []
    },
    {
      "cell_type": "code",
      "source": [
        "best_scores = np.array(sorted((scores.values()))[-5:])\n",
        "max(best_scores)"
      ],
      "metadata": {
        "id": "_tzOxZNQbAWQ",
        "colab": {
          "base_uri": "https://localhost:8080/"
        },
        "outputId": "b4d249f5-4c90-4b14-a5cc-e2994022c777"
      },
      "execution_count": null,
      "outputs": [
        {
          "output_type": "execute_result",
          "data": {
            "text/plain": [
              "0.9093667045885476"
            ]
          },
          "metadata": {},
          "execution_count": 107
        }
      ]
    },
    {
      "cell_type": "code",
      "source": [
        "def get_key(d, value):\n",
        "    for k, v in d.items():\n",
        "        if v == value:\n",
        "            return k"
      ],
      "metadata": {
        "id": "CL3sjup9cndY"
      },
      "execution_count": null,
      "outputs": []
    },
    {
      "cell_type": "code",
      "source": [
        "a = get_key(scores, max(best_scores))\n",
        "print(f'Best features: {a}, best score: {scores[a]}')"
      ],
      "metadata": {
        "colab": {
          "base_uri": "https://localhost:8080/"
        },
        "id": "A6D7AjjOchGj",
        "outputId": "bb911915-8ba0-4177-f42d-da41fb41c289"
      },
      "execution_count": null,
      "outputs": [
        {
          "output_type": "stream",
          "name": "stdout",
          "text": [
            "Best features: ('Folate_Tot_(µg)', 'Manganese_(mg)', 'Sugar_Tot_(g)', 'Ash_(g)', 'Energ_Kcal'), best score: 0.9093667045885476\n"
          ]
        }
      ]
    },
    {
      "cell_type": "code",
      "source": [
        "from sklearn.metrics import classification_report\n",
        "\n",
        "print(classification_report(y_test, y_pred))"
      ],
      "metadata": {
        "colab": {
          "base_uri": "https://localhost:8080/"
        },
        "id": "USgc49x8P4wS",
        "outputId": "a7391502-b8d4-4300-8649-e6e856ea33ad"
      },
      "execution_count": null,
      "outputs": [
        {
          "output_type": "stream",
          "name": "stdout",
          "text": [
            "              precision    recall  f1-score   support\n",
            "\n",
            "           0       0.82      0.80      0.81      1018\n",
            "           1       0.55      0.54      0.54       182\n",
            "          10       0.77      0.76      0.76       997\n",
            "          11       0.73      0.79      0.76       440\n",
            "\n",
            "    accuracy                           0.77      2637\n",
            "   macro avg       0.72      0.72      0.72      2637\n",
            "weighted avg       0.77      0.77      0.77      2637\n",
            "\n"
          ]
        }
      ]
    },
    {
      "cell_type": "markdown",
      "source": [
        "- использовать методы уменьшения размерности (например, PCA)"
      ],
      "metadata": {
        "id": "JlLoJS5VofSr"
      }
    },
    {
      "cell_type": "code",
      "source": [
        "df4 = df.copy()"
      ],
      "metadata": {
        "id": "Gp3fA0dvpJdY"
      },
      "execution_count": null,
      "outputs": []
    },
    {
      "cell_type": "code",
      "source": [
        "from sklearn.model_selection import train_test_split # разделение\n",
        "\n",
        "X = df4.drop('CLASS', axis=1)\n",
        "y = df4.CLASS\n",
        "\n",
        "X_train, X_test, y_train, y_test = train_test_split(X, y, test_size=0.3)"
      ],
      "metadata": {
        "id": "oL66LQmUpPrv"
      },
      "execution_count": null,
      "outputs": []
    },
    {
      "cell_type": "code",
      "source": [
        "from sklearn.impute import SimpleImputer # заполнение пропусков\n",
        "\n",
        "imputer = SimpleImputer(missing_values=np.nan, strategy='mean')\n",
        "\n",
        "X_train[X_train.columns] = imputer.fit_transform(X_train)\n",
        "X_test[X_test.columns] = imputer.fit_transform(X_test)"
      ],
      "metadata": {
        "id": "tQEe19r8pPrv"
      },
      "execution_count": null,
      "outputs": []
    },
    {
      "cell_type": "code",
      "source": [
        "from sklearn.preprocessing import MinMaxScaler # нормализация\n",
        "\n",
        "scaler = MinMaxScaler()\n",
        "\n",
        "X_train[X_train.columns] = scaler.fit_transform(X_train)\n",
        "X_test[X_test.columns] = scaler.transform(X_test)"
      ],
      "metadata": {
        "id": "uvEgcnpNpPrw"
      },
      "execution_count": null,
      "outputs": []
    },
    {
      "cell_type": "code",
      "source": [
        "from sklearn.decomposition import PCA\n",
        "\n",
        "pca = PCA(n_components=10)\n",
        "\n",
        "X_train = pca.fit_transform(X_train)\n",
        "X_train = pd.DataFrame(X_train, columns=['PC1', 'PC2', 'PC3', 'PC4', 'PC5', 'PC6', 'PC7', 'PC8', 'PC9', 'PC10'])\n",
        "\n",
        "pca = PCA(n_components=10)\n",
        "X_test = pca.fit_transform(X_test)\n",
        "X_test = pd.DataFrame(X_test, columns=['PC1', 'PC2', 'PC3', 'PC4', 'PC5', 'PC6', 'PC7', 'PC8', 'PC9', 'PC10'])"
      ],
      "metadata": {
        "id": "_fVNt9wO4VRD"
      },
      "execution_count": null,
      "outputs": []
    },
    {
      "cell_type": "code",
      "source": [
        "X_train"
      ],
      "metadata": {
        "colab": {
          "base_uri": "https://localhost:8080/",
          "height": 423
        },
        "id": "eYHoCgEprA56",
        "outputId": "7307f934-697b-4911-93a1-ac5903b453b6"
      },
      "execution_count": null,
      "outputs": [
        {
          "output_type": "execute_result",
          "data": {
            "text/plain": [
              "           PC1       PC2       PC3       PC4       PC5       PC6       PC7  \\\n",
              "0    -0.190208  0.170604  0.173122  0.054037 -0.044617  0.017448 -0.015944   \n",
              "1    -0.119440  0.004400  0.115430 -0.035700  0.035841  0.016954 -0.060450   \n",
              "2     0.729141  1.160365 -0.429712 -0.126182  0.062166  0.016127 -0.030294   \n",
              "3    -0.400246 -0.154198 -0.125875 -0.004817  0.008181 -0.003089 -0.006831   \n",
              "4    -0.285209  0.086224  0.203992  0.072264 -0.080034  0.024746  0.014468   \n",
              "...        ...       ...       ...       ...       ...       ...       ...   \n",
              "6148 -0.399948 -0.081925 -0.121837  0.009467  0.018182 -0.011320 -0.006121   \n",
              "6149  0.610531 -0.102118  0.039170 -0.109337 -0.049058  0.052818 -0.008081   \n",
              "6150 -0.470268 -0.114622 -0.132738 -0.002308  0.053381 -0.016826 -0.023151   \n",
              "6151  0.735797 -0.048632 -0.235846  0.274897  0.050934 -0.093878  0.014408   \n",
              "6152 -0.227267 -0.200463 -0.142252  0.054217  0.007994 -0.022903  0.004133   \n",
              "\n",
              "           PC8       PC9      PC10  \n",
              "0     0.001947  0.013508 -0.019579  \n",
              "1    -0.026353  0.024623  0.018008  \n",
              "2    -0.089896  0.037258 -0.005273  \n",
              "3    -0.004131 -0.009456 -0.003644  \n",
              "4    -0.020175  0.025281 -0.008463  \n",
              "...        ...       ...       ...  \n",
              "6148 -0.001421 -0.010709  0.018965  \n",
              "6149  0.010800  0.016306  0.031847  \n",
              "6150 -0.006175 -0.018230 -0.007338  \n",
              "6151 -0.101509 -0.000638 -0.046690  \n",
              "6152 -0.003730  0.004426  0.012729  \n",
              "\n",
              "[6153 rows x 10 columns]"
            ],
            "text/html": [
              "\n",
              "  <div id=\"df-fd9e6716-a80e-497e-b4d3-90fe25686018\" class=\"colab-df-container\">\n",
              "    <div>\n",
              "<style scoped>\n",
              "    .dataframe tbody tr th:only-of-type {\n",
              "        vertical-align: middle;\n",
              "    }\n",
              "\n",
              "    .dataframe tbody tr th {\n",
              "        vertical-align: top;\n",
              "    }\n",
              "\n",
              "    .dataframe thead th {\n",
              "        text-align: right;\n",
              "    }\n",
              "</style>\n",
              "<table border=\"1\" class=\"dataframe\">\n",
              "  <thead>\n",
              "    <tr style=\"text-align: right;\">\n",
              "      <th></th>\n",
              "      <th>PC1</th>\n",
              "      <th>PC2</th>\n",
              "      <th>PC3</th>\n",
              "      <th>PC4</th>\n",
              "      <th>PC5</th>\n",
              "      <th>PC6</th>\n",
              "      <th>PC7</th>\n",
              "      <th>PC8</th>\n",
              "      <th>PC9</th>\n",
              "      <th>PC10</th>\n",
              "    </tr>\n",
              "  </thead>\n",
              "  <tbody>\n",
              "    <tr>\n",
              "      <th>0</th>\n",
              "      <td>-0.190208</td>\n",
              "      <td>0.170604</td>\n",
              "      <td>0.173122</td>\n",
              "      <td>0.054037</td>\n",
              "      <td>-0.044617</td>\n",
              "      <td>0.017448</td>\n",
              "      <td>-0.015944</td>\n",
              "      <td>0.001947</td>\n",
              "      <td>0.013508</td>\n",
              "      <td>-0.019579</td>\n",
              "    </tr>\n",
              "    <tr>\n",
              "      <th>1</th>\n",
              "      <td>-0.119440</td>\n",
              "      <td>0.004400</td>\n",
              "      <td>0.115430</td>\n",
              "      <td>-0.035700</td>\n",
              "      <td>0.035841</td>\n",
              "      <td>0.016954</td>\n",
              "      <td>-0.060450</td>\n",
              "      <td>-0.026353</td>\n",
              "      <td>0.024623</td>\n",
              "      <td>0.018008</td>\n",
              "    </tr>\n",
              "    <tr>\n",
              "      <th>2</th>\n",
              "      <td>0.729141</td>\n",
              "      <td>1.160365</td>\n",
              "      <td>-0.429712</td>\n",
              "      <td>-0.126182</td>\n",
              "      <td>0.062166</td>\n",
              "      <td>0.016127</td>\n",
              "      <td>-0.030294</td>\n",
              "      <td>-0.089896</td>\n",
              "      <td>0.037258</td>\n",
              "      <td>-0.005273</td>\n",
              "    </tr>\n",
              "    <tr>\n",
              "      <th>3</th>\n",
              "      <td>-0.400246</td>\n",
              "      <td>-0.154198</td>\n",
              "      <td>-0.125875</td>\n",
              "      <td>-0.004817</td>\n",
              "      <td>0.008181</td>\n",
              "      <td>-0.003089</td>\n",
              "      <td>-0.006831</td>\n",
              "      <td>-0.004131</td>\n",
              "      <td>-0.009456</td>\n",
              "      <td>-0.003644</td>\n",
              "    </tr>\n",
              "    <tr>\n",
              "      <th>4</th>\n",
              "      <td>-0.285209</td>\n",
              "      <td>0.086224</td>\n",
              "      <td>0.203992</td>\n",
              "      <td>0.072264</td>\n",
              "      <td>-0.080034</td>\n",
              "      <td>0.024746</td>\n",
              "      <td>0.014468</td>\n",
              "      <td>-0.020175</td>\n",
              "      <td>0.025281</td>\n",
              "      <td>-0.008463</td>\n",
              "    </tr>\n",
              "    <tr>\n",
              "      <th>...</th>\n",
              "      <td>...</td>\n",
              "      <td>...</td>\n",
              "      <td>...</td>\n",
              "      <td>...</td>\n",
              "      <td>...</td>\n",
              "      <td>...</td>\n",
              "      <td>...</td>\n",
              "      <td>...</td>\n",
              "      <td>...</td>\n",
              "      <td>...</td>\n",
              "    </tr>\n",
              "    <tr>\n",
              "      <th>6148</th>\n",
              "      <td>-0.399948</td>\n",
              "      <td>-0.081925</td>\n",
              "      <td>-0.121837</td>\n",
              "      <td>0.009467</td>\n",
              "      <td>0.018182</td>\n",
              "      <td>-0.011320</td>\n",
              "      <td>-0.006121</td>\n",
              "      <td>-0.001421</td>\n",
              "      <td>-0.010709</td>\n",
              "      <td>0.018965</td>\n",
              "    </tr>\n",
              "    <tr>\n",
              "      <th>6149</th>\n",
              "      <td>0.610531</td>\n",
              "      <td>-0.102118</td>\n",
              "      <td>0.039170</td>\n",
              "      <td>-0.109337</td>\n",
              "      <td>-0.049058</td>\n",
              "      <td>0.052818</td>\n",
              "      <td>-0.008081</td>\n",
              "      <td>0.010800</td>\n",
              "      <td>0.016306</td>\n",
              "      <td>0.031847</td>\n",
              "    </tr>\n",
              "    <tr>\n",
              "      <th>6150</th>\n",
              "      <td>-0.470268</td>\n",
              "      <td>-0.114622</td>\n",
              "      <td>-0.132738</td>\n",
              "      <td>-0.002308</td>\n",
              "      <td>0.053381</td>\n",
              "      <td>-0.016826</td>\n",
              "      <td>-0.023151</td>\n",
              "      <td>-0.006175</td>\n",
              "      <td>-0.018230</td>\n",
              "      <td>-0.007338</td>\n",
              "    </tr>\n",
              "    <tr>\n",
              "      <th>6151</th>\n",
              "      <td>0.735797</td>\n",
              "      <td>-0.048632</td>\n",
              "      <td>-0.235846</td>\n",
              "      <td>0.274897</td>\n",
              "      <td>0.050934</td>\n",
              "      <td>-0.093878</td>\n",
              "      <td>0.014408</td>\n",
              "      <td>-0.101509</td>\n",
              "      <td>-0.000638</td>\n",
              "      <td>-0.046690</td>\n",
              "    </tr>\n",
              "    <tr>\n",
              "      <th>6152</th>\n",
              "      <td>-0.227267</td>\n",
              "      <td>-0.200463</td>\n",
              "      <td>-0.142252</td>\n",
              "      <td>0.054217</td>\n",
              "      <td>0.007994</td>\n",
              "      <td>-0.022903</td>\n",
              "      <td>0.004133</td>\n",
              "      <td>-0.003730</td>\n",
              "      <td>0.004426</td>\n",
              "      <td>0.012729</td>\n",
              "    </tr>\n",
              "  </tbody>\n",
              "</table>\n",
              "<p>6153 rows × 10 columns</p>\n",
              "</div>\n",
              "    <div class=\"colab-df-buttons\">\n",
              "\n",
              "  <div class=\"colab-df-container\">\n",
              "    <button class=\"colab-df-convert\" onclick=\"convertToInteractive('df-fd9e6716-a80e-497e-b4d3-90fe25686018')\"\n",
              "            title=\"Convert this dataframe to an interactive table.\"\n",
              "            style=\"display:none;\">\n",
              "\n",
              "  <svg xmlns=\"http://www.w3.org/2000/svg\" height=\"24px\" viewBox=\"0 -960 960 960\">\n",
              "    <path d=\"M120-120v-720h720v720H120Zm60-500h600v-160H180v160Zm220 220h160v-160H400v160Zm0 220h160v-160H400v160ZM180-400h160v-160H180v160Zm440 0h160v-160H620v160ZM180-180h160v-160H180v160Zm440 0h160v-160H620v160Z\"/>\n",
              "  </svg>\n",
              "    </button>\n",
              "\n",
              "  <style>\n",
              "    .colab-df-container {\n",
              "      display:flex;\n",
              "      gap: 12px;\n",
              "    }\n",
              "\n",
              "    .colab-df-convert {\n",
              "      background-color: #E8F0FE;\n",
              "      border: none;\n",
              "      border-radius: 50%;\n",
              "      cursor: pointer;\n",
              "      display: none;\n",
              "      fill: #1967D2;\n",
              "      height: 32px;\n",
              "      padding: 0 0 0 0;\n",
              "      width: 32px;\n",
              "    }\n",
              "\n",
              "    .colab-df-convert:hover {\n",
              "      background-color: #E2EBFA;\n",
              "      box-shadow: 0px 1px 2px rgba(60, 64, 67, 0.3), 0px 1px 3px 1px rgba(60, 64, 67, 0.15);\n",
              "      fill: #174EA6;\n",
              "    }\n",
              "\n",
              "    .colab-df-buttons div {\n",
              "      margin-bottom: 4px;\n",
              "    }\n",
              "\n",
              "    [theme=dark] .colab-df-convert {\n",
              "      background-color: #3B4455;\n",
              "      fill: #D2E3FC;\n",
              "    }\n",
              "\n",
              "    [theme=dark] .colab-df-convert:hover {\n",
              "      background-color: #434B5C;\n",
              "      box-shadow: 0px 1px 3px 1px rgba(0, 0, 0, 0.15);\n",
              "      filter: drop-shadow(0px 1px 2px rgba(0, 0, 0, 0.3));\n",
              "      fill: #FFFFFF;\n",
              "    }\n",
              "  </style>\n",
              "\n",
              "    <script>\n",
              "      const buttonEl =\n",
              "        document.querySelector('#df-fd9e6716-a80e-497e-b4d3-90fe25686018 button.colab-df-convert');\n",
              "      buttonEl.style.display =\n",
              "        google.colab.kernel.accessAllowed ? 'block' : 'none';\n",
              "\n",
              "      async function convertToInteractive(key) {\n",
              "        const element = document.querySelector('#df-fd9e6716-a80e-497e-b4d3-90fe25686018');\n",
              "        const dataTable =\n",
              "          await google.colab.kernel.invokeFunction('convertToInteractive',\n",
              "                                                    [key], {});\n",
              "        if (!dataTable) return;\n",
              "\n",
              "        const docLinkHtml = 'Like what you see? Visit the ' +\n",
              "          '<a target=\"_blank\" href=https://colab.research.google.com/notebooks/data_table.ipynb>data table notebook</a>'\n",
              "          + ' to learn more about interactive tables.';\n",
              "        element.innerHTML = '';\n",
              "        dataTable['output_type'] = 'display_data';\n",
              "        await google.colab.output.renderOutput(dataTable, element);\n",
              "        const docLink = document.createElement('div');\n",
              "        docLink.innerHTML = docLinkHtml;\n",
              "        element.appendChild(docLink);\n",
              "      }\n",
              "    </script>\n",
              "  </div>\n",
              "\n",
              "\n",
              "<div id=\"df-82157eb6-f49f-41fa-8f4f-f8099a70365b\">\n",
              "  <button class=\"colab-df-quickchart\" onclick=\"quickchart('df-82157eb6-f49f-41fa-8f4f-f8099a70365b')\"\n",
              "            title=\"Suggest charts\"\n",
              "            style=\"display:none;\">\n",
              "\n",
              "<svg xmlns=\"http://www.w3.org/2000/svg\" height=\"24px\"viewBox=\"0 0 24 24\"\n",
              "     width=\"24px\">\n",
              "    <g>\n",
              "        <path d=\"M19 3H5c-1.1 0-2 .9-2 2v14c0 1.1.9 2 2 2h14c1.1 0 2-.9 2-2V5c0-1.1-.9-2-2-2zM9 17H7v-7h2v7zm4 0h-2V7h2v10zm4 0h-2v-4h2v4z\"/>\n",
              "    </g>\n",
              "</svg>\n",
              "  </button>\n",
              "\n",
              "<style>\n",
              "  .colab-df-quickchart {\n",
              "      --bg-color: #E8F0FE;\n",
              "      --fill-color: #1967D2;\n",
              "      --hover-bg-color: #E2EBFA;\n",
              "      --hover-fill-color: #174EA6;\n",
              "      --disabled-fill-color: #AAA;\n",
              "      --disabled-bg-color: #DDD;\n",
              "  }\n",
              "\n",
              "  [theme=dark] .colab-df-quickchart {\n",
              "      --bg-color: #3B4455;\n",
              "      --fill-color: #D2E3FC;\n",
              "      --hover-bg-color: #434B5C;\n",
              "      --hover-fill-color: #FFFFFF;\n",
              "      --disabled-bg-color: #3B4455;\n",
              "      --disabled-fill-color: #666;\n",
              "  }\n",
              "\n",
              "  .colab-df-quickchart {\n",
              "    background-color: var(--bg-color);\n",
              "    border: none;\n",
              "    border-radius: 50%;\n",
              "    cursor: pointer;\n",
              "    display: none;\n",
              "    fill: var(--fill-color);\n",
              "    height: 32px;\n",
              "    padding: 0;\n",
              "    width: 32px;\n",
              "  }\n",
              "\n",
              "  .colab-df-quickchart:hover {\n",
              "    background-color: var(--hover-bg-color);\n",
              "    box-shadow: 0 1px 2px rgba(60, 64, 67, 0.3), 0 1px 3px 1px rgba(60, 64, 67, 0.15);\n",
              "    fill: var(--button-hover-fill-color);\n",
              "  }\n",
              "\n",
              "  .colab-df-quickchart-complete:disabled,\n",
              "  .colab-df-quickchart-complete:disabled:hover {\n",
              "    background-color: var(--disabled-bg-color);\n",
              "    fill: var(--disabled-fill-color);\n",
              "    box-shadow: none;\n",
              "  }\n",
              "\n",
              "  .colab-df-spinner {\n",
              "    border: 2px solid var(--fill-color);\n",
              "    border-color: transparent;\n",
              "    border-bottom-color: var(--fill-color);\n",
              "    animation:\n",
              "      spin 1s steps(1) infinite;\n",
              "  }\n",
              "\n",
              "  @keyframes spin {\n",
              "    0% {\n",
              "      border-color: transparent;\n",
              "      border-bottom-color: var(--fill-color);\n",
              "      border-left-color: var(--fill-color);\n",
              "    }\n",
              "    20% {\n",
              "      border-color: transparent;\n",
              "      border-left-color: var(--fill-color);\n",
              "      border-top-color: var(--fill-color);\n",
              "    }\n",
              "    30% {\n",
              "      border-color: transparent;\n",
              "      border-left-color: var(--fill-color);\n",
              "      border-top-color: var(--fill-color);\n",
              "      border-right-color: var(--fill-color);\n",
              "    }\n",
              "    40% {\n",
              "      border-color: transparent;\n",
              "      border-right-color: var(--fill-color);\n",
              "      border-top-color: var(--fill-color);\n",
              "    }\n",
              "    60% {\n",
              "      border-color: transparent;\n",
              "      border-right-color: var(--fill-color);\n",
              "    }\n",
              "    80% {\n",
              "      border-color: transparent;\n",
              "      border-right-color: var(--fill-color);\n",
              "      border-bottom-color: var(--fill-color);\n",
              "    }\n",
              "    90% {\n",
              "      border-color: transparent;\n",
              "      border-bottom-color: var(--fill-color);\n",
              "    }\n",
              "  }\n",
              "</style>\n",
              "\n",
              "  <script>\n",
              "    async function quickchart(key) {\n",
              "      const quickchartButtonEl =\n",
              "        document.querySelector('#' + key + ' button');\n",
              "      quickchartButtonEl.disabled = true;  // To prevent multiple clicks.\n",
              "      quickchartButtonEl.classList.add('colab-df-spinner');\n",
              "      try {\n",
              "        const charts = await google.colab.kernel.invokeFunction(\n",
              "            'suggestCharts', [key], {});\n",
              "      } catch (error) {\n",
              "        console.error('Error during call to suggestCharts:', error);\n",
              "      }\n",
              "      quickchartButtonEl.classList.remove('colab-df-spinner');\n",
              "      quickchartButtonEl.classList.add('colab-df-quickchart-complete');\n",
              "    }\n",
              "    (() => {\n",
              "      let quickchartButtonEl =\n",
              "        document.querySelector('#df-82157eb6-f49f-41fa-8f4f-f8099a70365b button');\n",
              "      quickchartButtonEl.style.display =\n",
              "        google.colab.kernel.accessAllowed ? 'block' : 'none';\n",
              "    })();\n",
              "  </script>\n",
              "</div>\n",
              "    </div>\n",
              "  </div>\n"
            ],
            "application/vnd.google.colaboratory.intrinsic+json": {
              "type": "dataframe",
              "variable_name": "X_train",
              "summary": "{\n  \"name\": \"X_train\",\n  \"rows\": 6153,\n  \"fields\": [\n    {\n      \"column\": \"PC1\",\n      \"properties\": {\n        \"dtype\": \"number\",\n        \"std\": 0.43085856774271836,\n        \"min\": -0.5789670693518006,\n        \"max\": 1.0019847489030815,\n        \"num_unique_values\": 6134,\n        \"samples\": [\n          0.35986036543713207,\n          -0.555232678512115,\n          0.1903733892111154\n        ],\n        \"semantic_type\": \"\",\n        \"description\": \"\"\n      }\n    },\n    {\n      \"column\": \"PC2\",\n      \"properties\": {\n        \"dtype\": \"number\",\n        \"std\": 0.24371448526261333,\n        \"min\": -0.610006629454445,\n        \"max\": 1.2121038599877811,\n        \"num_unique_values\": 6134,\n        \"samples\": [\n          -0.09268011307814082,\n          -0.11199149910151683,\n          0.14436691128543533\n        ],\n        \"semantic_type\": \"\",\n        \"description\": \"\"\n      }\n    },\n    {\n      \"column\": \"PC3\",\n      \"properties\": {\n        \"dtype\": \"number\",\n        \"std\": 0.14219038305612658,\n        \"min\": -0.45793819970488414,\n        \"max\": 0.8649697570787209,\n        \"num_unique_values\": 6134,\n        \"samples\": [\n          -0.018205392236611877,\n          -0.12039326733043497,\n          0.011085556414454776\n        ],\n        \"semantic_type\": \"\",\n        \"description\": \"\"\n      }\n    },\n    {\n      \"column\": \"PC4\",\n      \"properties\": {\n        \"dtype\": \"number\",\n        \"std\": 0.10156704281196768,\n        \"min\": -0.40324387350722846,\n        \"max\": 0.5878130605314893,\n        \"num_unique_values\": 6134,\n        \"samples\": [\n          -0.07245728358622615,\n          -0.04769005362836659,\n          -0.04918372176252073\n        ],\n        \"semantic_type\": \"\",\n        \"description\": \"\"\n      }\n    },\n    {\n      \"column\": \"PC5\",\n      \"properties\": {\n        \"dtype\": \"number\",\n        \"std\": 0.08325203935691314,\n        \"min\": -0.29288295391228536,\n        \"max\": 1.142080718366286,\n        \"num_unique_values\": 6134,\n        \"samples\": [\n          -0.07127014071772447,\n          0.008419999320307904,\n          -0.04599569134362999\n        ],\n        \"semantic_type\": \"\",\n        \"description\": \"\"\n      }\n    },\n    {\n      \"column\": \"PC6\",\n      \"properties\": {\n        \"dtype\": \"number\",\n        \"std\": 0.06928437240073686,\n        \"min\": -0.6968662342603155,\n        \"max\": 0.7460380031934019,\n        \"num_unique_values\": 6134,\n        \"samples\": [\n          0.04110058838350249,\n          0.002997717260313776,\n          0.036591081364209306\n        ],\n        \"semantic_type\": \"\",\n        \"description\": \"\"\n      }\n    },\n    {\n      \"column\": \"PC7\",\n      \"properties\": {\n        \"dtype\": \"number\",\n        \"std\": 0.06311289014509737,\n        \"min\": -1.0887386312642573,\n        \"max\": 1.3097741767086764,\n        \"num_unique_values\": 6134,\n        \"samples\": [\n          0.004287171112388644,\n          -0.017233740526871603,\n          -0.0026274802068436674\n        ],\n        \"semantic_type\": \"\",\n        \"description\": \"\"\n      }\n    },\n    {\n      \"column\": \"PC8\",\n      \"properties\": {\n        \"dtype\": \"number\",\n        \"std\": 0.05958181244482743,\n        \"min\": -0.5241871104178001,\n        \"max\": 0.7253047086985166,\n        \"num_unique_values\": 6134,\n        \"samples\": [\n          0.014333038697312742,\n          -0.0035962344280622044,\n          0.02506748622847698\n        ],\n        \"semantic_type\": \"\",\n        \"description\": \"\"\n      }\n    },\n    {\n      \"column\": \"PC9\",\n      \"properties\": {\n        \"dtype\": \"number\",\n        \"std\": 0.054441305495056984,\n        \"min\": -0.34516860729385856,\n        \"max\": 0.9251393873866672,\n        \"num_unique_values\": 6134,\n        \"samples\": [\n          -0.0013410371841845912,\n          -0.02886728118282956,\n          -0.002445305985274053\n        ],\n        \"semantic_type\": \"\",\n        \"description\": \"\"\n      }\n    },\n    {\n      \"column\": \"PC10\",\n      \"properties\": {\n        \"dtype\": \"number\",\n        \"std\": 0.04657202552206903,\n        \"min\": -0.2853656986939852,\n        \"max\": 1.282275542310726,\n        \"num_unique_values\": 6134,\n        \"samples\": [\n          0.02917815938724275,\n          -0.0005095740234691258,\n          0.02647081580629427\n        ],\n        \"semantic_type\": \"\",\n        \"description\": \"\"\n      }\n    }\n  ]\n}"
            }
          },
          "metadata": {},
          "execution_count": 84
        }
      ]
    },
    {
      "cell_type": "code",
      "source": [
        "from sklearn.neighbors import KNeighborsClassifier\n",
        "\n",
        "clf = KNeighborsClassifier(7)\n",
        "clf.fit(X_train, y_train)"
      ],
      "metadata": {
        "colab": {
          "base_uri": "https://localhost:8080/",
          "height": 74
        },
        "outputId": "0b1d02d8-f2c1-4507-d18b-d2ec3c850175",
        "id": "082MhRn5rKBq"
      },
      "execution_count": null,
      "outputs": [
        {
          "output_type": "execute_result",
          "data": {
            "text/plain": [
              "KNeighborsClassifier(n_neighbors=7)"
            ],
            "text/html": [
              "<style>#sk-container-id-7 {color: black;background-color: white;}#sk-container-id-7 pre{padding: 0;}#sk-container-id-7 div.sk-toggleable {background-color: white;}#sk-container-id-7 label.sk-toggleable__label {cursor: pointer;display: block;width: 100%;margin-bottom: 0;padding: 0.3em;box-sizing: border-box;text-align: center;}#sk-container-id-7 label.sk-toggleable__label-arrow:before {content: \"▸\";float: left;margin-right: 0.25em;color: #696969;}#sk-container-id-7 label.sk-toggleable__label-arrow:hover:before {color: black;}#sk-container-id-7 div.sk-estimator:hover label.sk-toggleable__label-arrow:before {color: black;}#sk-container-id-7 div.sk-toggleable__content {max-height: 0;max-width: 0;overflow: hidden;text-align: left;background-color: #f0f8ff;}#sk-container-id-7 div.sk-toggleable__content pre {margin: 0.2em;color: black;border-radius: 0.25em;background-color: #f0f8ff;}#sk-container-id-7 input.sk-toggleable__control:checked~div.sk-toggleable__content {max-height: 200px;max-width: 100%;overflow: auto;}#sk-container-id-7 input.sk-toggleable__control:checked~label.sk-toggleable__label-arrow:before {content: \"▾\";}#sk-container-id-7 div.sk-estimator input.sk-toggleable__control:checked~label.sk-toggleable__label {background-color: #d4ebff;}#sk-container-id-7 div.sk-label input.sk-toggleable__control:checked~label.sk-toggleable__label {background-color: #d4ebff;}#sk-container-id-7 input.sk-hidden--visually {border: 0;clip: rect(1px 1px 1px 1px);clip: rect(1px, 1px, 1px, 1px);height: 1px;margin: -1px;overflow: hidden;padding: 0;position: absolute;width: 1px;}#sk-container-id-7 div.sk-estimator {font-family: monospace;background-color: #f0f8ff;border: 1px dotted black;border-radius: 0.25em;box-sizing: border-box;margin-bottom: 0.5em;}#sk-container-id-7 div.sk-estimator:hover {background-color: #d4ebff;}#sk-container-id-7 div.sk-parallel-item::after {content: \"\";width: 100%;border-bottom: 1px solid gray;flex-grow: 1;}#sk-container-id-7 div.sk-label:hover label.sk-toggleable__label {background-color: #d4ebff;}#sk-container-id-7 div.sk-serial::before {content: \"\";position: absolute;border-left: 1px solid gray;box-sizing: border-box;top: 0;bottom: 0;left: 50%;z-index: 0;}#sk-container-id-7 div.sk-serial {display: flex;flex-direction: column;align-items: center;background-color: white;padding-right: 0.2em;padding-left: 0.2em;position: relative;}#sk-container-id-7 div.sk-item {position: relative;z-index: 1;}#sk-container-id-7 div.sk-parallel {display: flex;align-items: stretch;justify-content: center;background-color: white;position: relative;}#sk-container-id-7 div.sk-item::before, #sk-container-id-7 div.sk-parallel-item::before {content: \"\";position: absolute;border-left: 1px solid gray;box-sizing: border-box;top: 0;bottom: 0;left: 50%;z-index: -1;}#sk-container-id-7 div.sk-parallel-item {display: flex;flex-direction: column;z-index: 1;position: relative;background-color: white;}#sk-container-id-7 div.sk-parallel-item:first-child::after {align-self: flex-end;width: 50%;}#sk-container-id-7 div.sk-parallel-item:last-child::after {align-self: flex-start;width: 50%;}#sk-container-id-7 div.sk-parallel-item:only-child::after {width: 0;}#sk-container-id-7 div.sk-dashed-wrapped {border: 1px dashed gray;margin: 0 0.4em 0.5em 0.4em;box-sizing: border-box;padding-bottom: 0.4em;background-color: white;}#sk-container-id-7 div.sk-label label {font-family: monospace;font-weight: bold;display: inline-block;line-height: 1.2em;}#sk-container-id-7 div.sk-label-container {text-align: center;}#sk-container-id-7 div.sk-container {/* jupyter's `normalize.less` sets `[hidden] { display: none; }` but bootstrap.min.css set `[hidden] { display: none !important; }` so we also need the `!important` here to be able to override the default hidden behavior on the sphinx rendered scikit-learn.org. See: https://github.com/scikit-learn/scikit-learn/issues/21755 */display: inline-block !important;position: relative;}#sk-container-id-7 div.sk-text-repr-fallback {display: none;}</style><div id=\"sk-container-id-7\" class=\"sk-top-container\"><div class=\"sk-text-repr-fallback\"><pre>KNeighborsClassifier(n_neighbors=7)</pre><b>In a Jupyter environment, please rerun this cell to show the HTML representation or trust the notebook. <br />On GitHub, the HTML representation is unable to render, please try loading this page with nbviewer.org.</b></div><div class=\"sk-container\" hidden><div class=\"sk-item\"><div class=\"sk-estimator sk-toggleable\"><input class=\"sk-toggleable__control sk-hidden--visually\" id=\"sk-estimator-id-7\" type=\"checkbox\" checked><label for=\"sk-estimator-id-7\" class=\"sk-toggleable__label sk-toggleable__label-arrow\">KNeighborsClassifier</label><div class=\"sk-toggleable__content\"><pre>KNeighborsClassifier(n_neighbors=7)</pre></div></div></div></div></div>"
            ]
          },
          "metadata": {},
          "execution_count": 85
        }
      ]
    },
    {
      "cell_type": "code",
      "source": [
        "y_pred = clf.predict(X_test)"
      ],
      "metadata": {
        "id": "G05e3FABrKBr"
      },
      "execution_count": null,
      "outputs": []
    },
    {
      "cell_type": "code",
      "source": [
        "clf.score(X_train, y_train), clf.score(X_test, y_test)"
      ],
      "metadata": {
        "colab": {
          "base_uri": "https://localhost:8080/"
        },
        "outputId": "fafa48ad-2b70-4d84-a5df-d8f29a024d9c",
        "id": "kHkwENzkrKBr"
      },
      "execution_count": null,
      "outputs": [
        {
          "output_type": "execute_result",
          "data": {
            "text/plain": [
              "(0.9250771981147408, 0.8680318543799772)"
            ]
          },
          "metadata": {},
          "execution_count": 87
        }
      ]
    },
    {
      "cell_type": "code",
      "source": [
        "from sklearn.metrics import classification_report\n",
        "\n",
        "print(classification_report(y_test, y_pred))"
      ],
      "metadata": {
        "colab": {
          "base_uri": "https://localhost:8080/"
        },
        "outputId": "246c2053-0656-433f-d495-e5e136166490",
        "id": "yImhS2_nrKBr"
      },
      "execution_count": null,
      "outputs": [
        {
          "output_type": "stream",
          "name": "stdout",
          "text": [
            "              precision    recall  f1-score   support\n",
            "\n",
            "           0       0.85      0.90      0.87      1019\n",
            "           1       0.86      0.73      0.79       173\n",
            "          10       0.89      0.83      0.86      1008\n",
            "          11       0.87      0.96      0.91       437\n",
            "\n",
            "    accuracy                           0.87      2637\n",
            "   macro avg       0.87      0.85      0.86      2637\n",
            "weighted avg       0.87      0.87      0.87      2637\n",
            "\n"
          ]
        }
      ]
    },
    {
      "cell_type": "markdown",
      "source": [
        "- свой вариант отбора и подготовки признаков"
      ],
      "metadata": {
        "id": "NdpPVpHAohj7"
      }
    },
    {
      "cell_type": "markdown",
      "source": [
        "Заполним пропуски с помощью KNN, оставим только наиболее популярные нутриенты и подберём параметры с помощью GridSearchCV"
      ],
      "metadata": {
        "id": "LhAG28F2sdP2"
      }
    },
    {
      "cell_type": "code",
      "source": [
        "df5 = df.copy()"
      ],
      "metadata": {
        "id": "wBxKRycrs5q_"
      },
      "execution_count": null,
      "outputs": []
    },
    {
      "cell_type": "code",
      "source": [
        "df5.columns"
      ],
      "metadata": {
        "colab": {
          "base_uri": "https://localhost:8080/"
        },
        "id": "EB5nIOGnuwz4",
        "outputId": "780ec7e0-d634-4f3e-c7e2-8da743faaf8b"
      },
      "execution_count": null,
      "outputs": [
        {
          "output_type": "execute_result",
          "data": {
            "text/plain": [
              "Index(['Water_(g)', 'Energ_Kcal', 'Protein_(g)', 'Lipid_Tot_(g)', 'Ash_(g)',\n",
              "       'Carbohydrt_(g)', 'Fiber_TD_(g)', 'Sugar_Tot_(g)', 'Calcium_(mg)',\n",
              "       'Iron_(mg)', 'Magnesium_(mg)', 'Phosphorus_(mg)', 'Potassium_(mg)',\n",
              "       'Sodium_(mg)', 'Zinc_(mg)', 'Copper_mg)', 'Manganese_(mg)',\n",
              "       'Selenium_(µg)', 'Vit_C_(mg)', 'Thiamin_(mg)', 'Riboflavin_(mg)',\n",
              "       'Niacin_(mg)', 'Panto_Acid_mg)', 'Vit_B6_(mg)', 'Folate_Tot_(µg)',\n",
              "       'Folic_Acid_(µg)', 'Food_Folate_(µg)', 'Folate_DFE_(µg)',\n",
              "       'Choline_Tot_ (mg)', 'Vit_B12_(µg)', 'Vit_A_IU', 'Vit_A_RAE',\n",
              "       'Retinol_(µg)', 'Alpha_Carot_(µg)', 'Beta_Carot_(µg)',\n",
              "       'Beta_Crypt_(µg)', 'Lycopene_(µg)', 'Lut+Zea_ (µg)', 'Vit_E_(mg)',\n",
              "       'Vit_D_µg', 'Vit_D_IU', 'Vit_K_(µg)', 'FA_Sat_(g)', 'FA_Mono_(g)',\n",
              "       'FA_Poly_(g)', 'Cholestrl_(mg)', 'CLASS'],\n",
              "      dtype='object')"
            ]
          },
          "metadata": {},
          "execution_count": 90
        }
      ]
    },
    {
      "cell_type": "code",
      "source": [
        "df5 = df5.drop(['Ash_(g)', 'Carbohydrt_(g)', 'Fiber_TD_(g)', 'Riboflavin_(mg)', 'Niacin_(mg)', 'Panto_Acid_mg)', 'Folate_Tot_(µg)',\n",
        "                'Food_Folate_(µg)', 'Folate_DFE_(µg)', 'Choline_Tot_ (mg)', 'Vit_A_RAE', 'Alpha_Carot_(µg)', 'Beta_Carot_(µg)',\n",
        "                'Beta_Crypt_(µg)', 'Lycopene_(µg)', 'Lut+Zea_ (µg)', 'Vit_D_µg', 'FA_Sat_(g)', 'FA_Mono_(g)', 'Cholestrl_(mg)'], axis=1)"
      ],
      "metadata": {
        "id": "ovQoAWtjunSg"
      },
      "execution_count": null,
      "outputs": []
    },
    {
      "cell_type": "code",
      "source": [
        "len(df5.columns)"
      ],
      "metadata": {
        "colab": {
          "base_uri": "https://localhost:8080/"
        },
        "id": "jWHTgHiowpCj",
        "outputId": "b4939697-8966-433a-f5a4-61559f713c78"
      },
      "execution_count": null,
      "outputs": [
        {
          "output_type": "execute_result",
          "data": {
            "text/plain": [
              "27"
            ]
          },
          "metadata": {},
          "execution_count": 92
        }
      ]
    },
    {
      "cell_type": "code",
      "source": [
        "from sklearn.model_selection import train_test_split # разделение\n",
        "\n",
        "X = df5.drop('CLASS', axis=1)\n",
        "y = df5.CLASS\n",
        "\n",
        "X_train, X_test, y_train, y_test = train_test_split(X, y, test_size=0.3)"
      ],
      "metadata": {
        "id": "a7wK1a-ctt-A"
      },
      "execution_count": null,
      "outputs": []
    },
    {
      "cell_type": "code",
      "source": [
        "from sklearn.impute import KNNImputer # заполнение пропусков\n",
        "\n",
        "imputer = KNNImputer(n_neighbors=5)\n",
        "\n",
        "X_train[X_train.columns] = imputer.fit_transform(X_train)\n",
        "X_test[X_test.columns] = imputer.fit_transform(X_test)"
      ],
      "metadata": {
        "id": "nsvR6wL0tIFN"
      },
      "execution_count": null,
      "outputs": []
    },
    {
      "cell_type": "code",
      "source": [
        "from sklearn.preprocessing import MinMaxScaler # нормализация\n",
        "\n",
        "scaler = MinMaxScaler()\n",
        "\n",
        "X_train[X_train.columns] = scaler.fit_transform(X_train)\n",
        "X_test[X_test.columns] = scaler.transform(X_test)"
      ],
      "metadata": {
        "id": "q5APL-wfujuX"
      },
      "execution_count": null,
      "outputs": []
    },
    {
      "cell_type": "code",
      "source": [
        "from sklearn.model_selection import GridSearchCV\n",
        "\n",
        "params = {'n_neighbors': [5, 7, 9, 11],\n",
        "          'metric': ['cityblock', 'euclidean', 'l1', 'l2', 'manhattan']}"
      ],
      "metadata": {
        "id": "SoPE01PvvwSk"
      },
      "execution_count": null,
      "outputs": []
    },
    {
      "cell_type": "code",
      "source": [
        "gs = GridSearchCV(KNeighborsClassifier(), params, n_jobs=5, cv = 5)"
      ],
      "metadata": {
        "id": "5aC7hvoCvwSl"
      },
      "execution_count": null,
      "outputs": []
    },
    {
      "cell_type": "code",
      "source": [
        "clf_gs = gs.fit(X_train, y_train)"
      ],
      "metadata": {
        "id": "eLnKFCtBvwSm"
      },
      "execution_count": null,
      "outputs": []
    },
    {
      "cell_type": "code",
      "source": [
        "clf_gs.score(X_test, y_test)"
      ],
      "metadata": {
        "colab": {
          "base_uri": "https://localhost:8080/"
        },
        "outputId": "59631f8b-dd60-44f0-95c3-876f97acbb3c",
        "id": "ozeHZboQvwSm"
      },
      "execution_count": null,
      "outputs": [
        {
          "output_type": "execute_result",
          "data": {
            "text/plain": [
              "0.8433826317785362"
            ]
          },
          "metadata": {},
          "execution_count": 99
        }
      ]
    },
    {
      "cell_type": "code",
      "source": [
        "y_pred = clf_gs.predict(X_test)"
      ],
      "metadata": {
        "id": "dJs48P9JvwSn"
      },
      "execution_count": null,
      "outputs": []
    },
    {
      "cell_type": "code",
      "source": [
        "print(classification_report(y_test, y_pred))"
      ],
      "metadata": {
        "colab": {
          "base_uri": "https://localhost:8080/"
        },
        "outputId": "45770ed5-34f7-455f-bd3f-4b87d1fda3ec",
        "id": "nxN7W_I0vwSn"
      },
      "execution_count": null,
      "outputs": [
        {
          "output_type": "stream",
          "name": "stdout",
          "text": [
            "              precision    recall  f1-score   support\n",
            "\n",
            "           0       0.88      0.82      0.85       996\n",
            "           1       0.69      0.46      0.55       171\n",
            "          10       0.84      0.89      0.86      1017\n",
            "          11       0.83      0.93      0.88       453\n",
            "\n",
            "    accuracy                           0.84      2637\n",
            "   macro avg       0.81      0.78      0.78      2637\n",
            "weighted avg       0.84      0.84      0.84      2637\n",
            "\n"
          ]
        }
      ]
    },
    {
      "cell_type": "markdown",
      "source": [
        "Оценим f1 меру.\n",
        "\n",
        "1. оставить только по одному из сильно коррелирующих признаков -- [0.91, 0.84, 0.91, 0.93]\n",
        "\n",
        "2. объединить группу связанных по смыслу признаков в один -- [0.89, 0.83, 0.89, 0.94]\n",
        "\n",
        "3. повторно выбирать случайным образом поднабор из 5 признаков и запоминать лучшие результаты -- [0.81, 0.54, 0.76, 0.76]\n",
        "\n",
        "4. использовать метод уменьшения размерности PCA -- [0.87, 0.79, 0.86, 0.91]\n",
        "\n",
        "5. заполнить пропуски с помощью KNN, оставить наиболее популярные нутриенты, использовать GridSearchCV - [0.85, 0.55, 0.86, 0.88]"
      ],
      "metadata": {
        "id": "JqjYR2biOHa8"
      }
    },
    {
      "cell_type": "markdown",
      "source": [
        "От худшего результата к лучшему:\n",
        "\n",
        "3\n",
        "\n",
        "5\n",
        "\n",
        "4\n",
        "\n",
        "2\n",
        "\n",
        "1"
      ],
      "metadata": {
        "id": "wd7qG51AQ2tC"
      }
    },
    {
      "cell_type": "markdown",
      "source": [
        "Таким образом, лучший результат у оставления одного из сильно коррелирующих признаков. (Что говорит о том как сильно влияет корреляция между признаками в KNN)"
      ],
      "metadata": {
        "id": "YHs8G5MIRRfb"
      }
    }
  ]
}